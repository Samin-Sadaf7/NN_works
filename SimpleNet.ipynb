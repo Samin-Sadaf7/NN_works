{
  "nbformat": 4,
  "nbformat_minor": 0,
  "metadata": {
    "colab": {
      "provenance": [],
      "authorship_tag": "ABX9TyPV+qNpx3hA2HH7YD//4oJh",
      "include_colab_link": true
    },
    "kernelspec": {
      "name": "python3",
      "display_name": "Python 3"
    },
    "language_info": {
      "name": "python"
    }
  },
  "cells": [
    {
      "cell_type": "markdown",
      "metadata": {
        "id": "view-in-github",
        "colab_type": "text"
      },
      "source": [
        "<a href=\"https://colab.research.google.com/github/Samin-Sadaf7/NN_works/blob/main/SimpleNet.ipynb\" target=\"_parent\"><img src=\"https://colab.research.google.com/assets/colab-badge.svg\" alt=\"Open In Colab\"/></a>"
      ]
    },
    {
      "cell_type": "code",
      "execution_count": 8,
      "metadata": {
        "colab": {
          "base_uri": "https://localhost:8080/"
        },
        "id": "QFH8-Hzao4i8",
        "outputId": "33a8432f-1518-4284-eece-3d41646e5dae"
      },
      "outputs": [
        {
          "output_type": "stream",
          "name": "stdout",
          "text": [
            "SimpleNet(\n",
            "  (fc1): Linear(in_features=10, out_features=10, bias=True)\n",
            "  (fc2): Linear(in_features=10, out_features=2, bias=True)\n",
            ")\n"
          ]
        }
      ],
      "source": [
        "#Initialize a Neural Network with Pytorch\n",
        "import torch\n",
        "import torch.nn as nn\n",
        "\n",
        "class SimpleNet(nn.Module):\n",
        "    def __init__(self, input, hidden, output):\n",
        "        super(SimpleNet, self).__init__()\n",
        "        self.fc1 = nn.Linear(input, hidden)\n",
        "        self.fc2 = nn.Linear(hidden, output)\n",
        "\n",
        "    def forward(self, x):\n",
        "        x = torch.nn.functional.relu(self.fc1(x))\n",
        "        x = self.fc2(x)\n",
        "        return x\n",
        "\n",
        "input = 10\n",
        "hidden = 10\n",
        "output = 2\n",
        "model = SimpleNet(input, hidden, output)\n",
        "print(model)"
      ]
    },
    {
      "cell_type": "code",
      "source": [
        "#train\n",
        "inp = torch.randn(100,10)\n",
        "tar = torch.randint(0,2,(100,))\n",
        "criterion = torch.nn.CrossEntropyLoss()\n",
        "optimizer = torch.optim.SGD(model.parameters(), lr=0.01)\n",
        "\n",
        "epochs = 100\n",
        "batchsize= 10\n",
        "\n",
        "for epoch in range(epochs):\n",
        "  model.train()\n",
        "  for i in range(0, inp.size(0), batchsize):\n",
        "    batch_inp = inp[i:i+batchsize]\n",
        "    batch_tar = tar[i:i+batchsize]\n",
        "\n",
        "    out = model(batch_inp)\n",
        "    loss = criterion(out, batch_tar)\n",
        "\n",
        "    optimizer.zero_grad()\n",
        "    loss.backward()\n",
        "    optimizer.step()\n",
        "\n",
        "  if((epoch+1)%10 == 0):\n",
        "    print(f'Epoch: {epoch+1}, Loss: {loss.item():.4f}')"
      ],
      "metadata": {
        "colab": {
          "base_uri": "https://localhost:8080/"
        },
        "id": "vQ9rm4lcpoEE",
        "outputId": "7cbe8d55-2967-4a34-aaa0-4dd7600433c3"
      },
      "execution_count": 12,
      "outputs": [
        {
          "output_type": "stream",
          "name": "stdout",
          "text": [
            "Epoch: 10, Loss: 0.8439\n",
            "Epoch: 20, Loss: 0.8122\n",
            "Epoch: 30, Loss: 0.7925\n",
            "Epoch: 40, Loss: 0.7815\n",
            "Epoch: 50, Loss: 0.7724\n",
            "Epoch: 60, Loss: 0.7629\n",
            "Epoch: 70, Loss: 0.7526\n",
            "Epoch: 80, Loss: 0.7364\n",
            "Epoch: 90, Loss: 0.7171\n",
            "Epoch: 100, Loss: 0.6956\n"
          ]
        }
      ]
    },
    {
      "cell_type": "code",
      "source": [
        "from sklearn.metrics import classification_report\n",
        "model.eval()\n",
        "test_inputs= torch.randn(20,10)\n",
        "test_targets= torch.randint(0,2,(20,))\n",
        "with torch.no_grad():\n",
        "  test_outputs = model(test_inputs)\n",
        "  _, predicted = torch.max(test_outputs, 1)\n",
        "  print(classification_report(test_targets, predicted))"
      ],
      "metadata": {
        "colab": {
          "base_uri": "https://localhost:8080/"
        },
        "id": "FNWIQ3z6qEGE",
        "outputId": "990b33c8-519c-433d-ee33-537c5b3af39d"
      },
      "execution_count": 13,
      "outputs": [
        {
          "output_type": "stream",
          "name": "stdout",
          "text": [
            "              precision    recall  f1-score   support\n",
            "\n",
            "           0       0.57      0.80      0.67        10\n",
            "           1       0.67      0.40      0.50        10\n",
            "\n",
            "    accuracy                           0.60        20\n",
            "   macro avg       0.62      0.60      0.58        20\n",
            "weighted avg       0.62      0.60      0.58        20\n",
            "\n"
          ]
        }
      ]
    }
  ]
}