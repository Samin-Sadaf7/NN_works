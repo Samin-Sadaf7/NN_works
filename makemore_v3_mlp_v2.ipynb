{
  "nbformat": 4,
  "nbformat_minor": 0,
  "metadata": {
    "colab": {
      "provenance": [],
      "authorship_tag": "ABX9TyMepu7vCw5wo8APtw25WXNr",
      "include_colab_link": true
    },
    "kernelspec": {
      "name": "python3",
      "display_name": "Python 3"
    },
    "language_info": {
      "name": "python"
    }
  },
  "cells": [
    {
      "cell_type": "markdown",
      "metadata": {
        "id": "view-in-github",
        "colab_type": "text"
      },
      "source": [
        "<a href=\"https://colab.research.google.com/github/Samin-Sadaf7/NN_works/blob/main/makemore_v3_mlp_v2.ipynb\" target=\"_parent\"><img src=\"https://colab.research.google.com/assets/colab-badge.svg\" alt=\"Open In Colab\"/></a>"
      ]
    },
    {
      "cell_type": "code",
      "execution_count": 36,
      "metadata": {
        "id": "i89nuT2612MB"
      },
      "outputs": [],
      "source": [
        "import torch\n",
        "import torch.nn.functional as F\n",
        "import matplotlib.pyplot as plt # for making figures\n",
        "%matplotlib inline"
      ]
    },
    {
      "cell_type": "code",
      "source": [
        "# download the names.txt file from github\n",
        "!wget https://raw.githubusercontent.com/karpathy/makemore/master/names.txt"
      ],
      "metadata": {
        "colab": {
          "base_uri": "https://localhost:8080/"
        },
        "id": "cXTjTify1-i9",
        "outputId": "11dbef32-2eeb-45f6-ea12-7b901e33e1f7"
      },
      "execution_count": 37,
      "outputs": [
        {
          "output_type": "stream",
          "name": "stdout",
          "text": [
            "--2024-07-04 04:23:01--  https://raw.githubusercontent.com/karpathy/makemore/master/names.txt\n",
            "Resolving raw.githubusercontent.com (raw.githubusercontent.com)... 185.199.108.133, 185.199.109.133, 185.199.110.133, ...\n",
            "Connecting to raw.githubusercontent.com (raw.githubusercontent.com)|185.199.108.133|:443... connected.\n",
            "HTTP request sent, awaiting response... 200 OK\n",
            "Length: 228145 (223K) [text/plain]\n",
            "Saving to: ‘names.txt.1’\n",
            "\n",
            "names.txt.1         100%[===================>] 222.80K  --.-KB/s    in 0.02s   \n",
            "\n",
            "2024-07-04 04:23:01 (9.18 MB/s) - ‘names.txt.1’ saved [228145/228145]\n",
            "\n"
          ]
        }
      ]
    },
    {
      "cell_type": "code",
      "source": [
        "# read in all the words\n",
        "words = open('names.txt', 'r').read().splitlines()\n",
        "words[:8]"
      ],
      "metadata": {
        "colab": {
          "base_uri": "https://localhost:8080/"
        },
        "id": "uSkr615G2AbI",
        "outputId": "b5a55533-e0d3-4568-cf48-4513a2a620bb"
      },
      "execution_count": 38,
      "outputs": [
        {
          "output_type": "execute_result",
          "data": {
            "text/plain": [
              "['emma', 'olivia', 'ava', 'isabella', 'sophia', 'charlotte', 'mia', 'amelia']"
            ]
          },
          "metadata": {},
          "execution_count": 38
        }
      ]
    },
    {
      "cell_type": "code",
      "source": [
        "len(words)"
      ],
      "metadata": {
        "colab": {
          "base_uri": "https://localhost:8080/"
        },
        "id": "ScW2iMkr2CHa",
        "outputId": "34025430-6f39-4254-c4c5-ee77a4715906"
      },
      "execution_count": 39,
      "outputs": [
        {
          "output_type": "execute_result",
          "data": {
            "text/plain": [
              "32033"
            ]
          },
          "metadata": {},
          "execution_count": 39
        }
      ]
    },
    {
      "cell_type": "code",
      "source": [
        "# build the vocabulary of characters and mappings to/from integers\n",
        "chars = sorted(list(set(''.join(words))))\n",
        "stoi = {s:i+1 for i,s in enumerate(chars)}\n",
        "stoi['.'] = 0\n",
        "itos = {i:s for s,i in stoi.items()}\n",
        "vocab_size = len(itos)\n",
        "print(itos)\n",
        "print(vocab_size)"
      ],
      "metadata": {
        "colab": {
          "base_uri": "https://localhost:8080/"
        },
        "id": "CaWmJTXv2E1F",
        "outputId": "d2aacd9b-e32e-4219-dcb1-fdf0823c5e84"
      },
      "execution_count": 40,
      "outputs": [
        {
          "output_type": "stream",
          "name": "stdout",
          "text": [
            "{1: 'a', 2: 'b', 3: 'c', 4: 'd', 5: 'e', 6: 'f', 7: 'g', 8: 'h', 9: 'i', 10: 'j', 11: 'k', 12: 'l', 13: 'm', 14: 'n', 15: 'o', 16: 'p', 17: 'q', 18: 'r', 19: 's', 20: 't', 21: 'u', 22: 'v', 23: 'w', 24: 'x', 25: 'y', 26: 'z', 0: '.'}\n",
            "27\n"
          ]
        }
      ]
    },
    {
      "cell_type": "code",
      "source": [
        "# build the dataset\n",
        "block_size = 3 # context length: how many characters do we take to predict the next one?\n",
        "\n",
        "def build_dataset(words):\n",
        "  X, Y = [], []\n",
        "\n",
        "  for w in words:\n",
        "    context = [0] * block_size\n",
        "    for ch in w + '.':\n",
        "      ix = stoi[ch]\n",
        "      X.append(context)\n",
        "      Y.append(ix)\n",
        "      context = context[1:] + [ix] # crop and append\n",
        "\n",
        "  X = torch.tensor(X)\n",
        "  Y = torch.tensor(Y)\n",
        "  print(X.shape, Y.shape)\n",
        "  return X, Y\n",
        "\n",
        "import random\n",
        "random.seed(42)\n",
        "random.shuffle(words)\n",
        "n1 = int(0.8*len(words))\n",
        "n2 = int(0.9*len(words))\n",
        "\n",
        "Xtr,  Ytr  = build_dataset(words[:n1])     # 80%\n",
        "Xdev, Ydev = build_dataset(words[n1:n2])   # 10%\n",
        "Xte,  Yte  = build_dataset(words[n2:])     # 10%"
      ],
      "metadata": {
        "colab": {
          "base_uri": "https://localhost:8080/"
        },
        "id": "TpMVbmKE2Gtn",
        "outputId": "83b461d4-0f53-4fa2-f0d6-5469b2c7ed23"
      },
      "execution_count": 41,
      "outputs": [
        {
          "output_type": "stream",
          "name": "stdout",
          "text": [
            "torch.Size([182625, 3]) torch.Size([182625])\n",
            "torch.Size([22655, 3]) torch.Size([22655])\n",
            "torch.Size([22866, 3]) torch.Size([22866])\n"
          ]
        }
      ]
    },
    {
      "cell_type": "code",
      "source": [
        "# MLP revisited\n",
        "n_embd = 10\n",
        "n_hidden = 200\n",
        "\n",
        "g = torch.Generator().manual_seed(2147483647) # for reproducibility\n",
        "C  = torch.randn((vocab_size, n_embd),            generator=g)\n",
        "W1 = torch.randn((n_embd * block_size, n_hidden), generator=g)\n",
        "b1 = torch.randn(n_hidden,                        generator=g)\n",
        "W2 = torch.randn((n_hidden, vocab_size),          generator=g) * 0.01\n",
        "b2 = torch.randn(vocab_size,                      generator=g) * 0\n",
        "\n",
        "parameters = [C, W1, W2, b2]\n",
        "print(sum(p.nelement() for p in parameters)) # number of parameters in total\n",
        "for p in parameters:\n",
        "  p.requires_grad = True"
      ],
      "metadata": {
        "colab": {
          "base_uri": "https://localhost:8080/"
        },
        "id": "md8ySjq82JuR",
        "outputId": "d95dce39-cfc8-429b-c66b-0f5731f6dd21"
      },
      "execution_count": 42,
      "outputs": [
        {
          "output_type": "stream",
          "name": "stdout",
          "text": [
            "11697\n"
          ]
        }
      ]
    },
    {
      "cell_type": "code",
      "source": [
        "# same optimization as last time\n",
        "max_steps = 200000\n",
        "batch_size = 32\n",
        "lossi = []\n",
        "\n",
        "for i in range(max_steps):\n",
        "\n",
        "  # minibatch construct\n",
        "  ix = torch.randint(0, Xtr.shape[0], (batch_size,), generator=g)\n",
        "  Xb, Yb = Xtr[ix], Ytr[ix] # batch X,Y\n",
        "\n",
        "  # forward pass\n",
        "  emb = C[Xb] # embed the characters into vectors\n",
        "  embcat = emb.view(emb.shape[0], -1) # concatenate the vectors\n",
        "  # Linear layer\n",
        "  hpreact = embcat @ W1 #+ b1 # hidden layer pre-activation\n",
        "\n",
        "  # -------------------------------------------------------------\n",
        "  # Non-linearity\n",
        "  h = torch.tanh(hpreact) # hidden layer\n",
        "  logits = h @ W2 + b2 # output layer\n",
        "  loss = F.cross_entropy(logits, Yb) # loss function\n",
        "\n",
        "  # backward pass\n",
        "  for p in parameters:\n",
        "    p.grad = None\n",
        "  loss.backward()\n",
        "\n",
        "  # update\n",
        "  lr = 0.1 if i < 100000 else 0.01 # step learning rate decay\n",
        "  for p in parameters:\n",
        "    p.data += -lr * p.grad\n",
        "\n",
        "  # track stats\n",
        "  if i % 10000 == 0: # print every once in a while\n",
        "    print(f'{i:7d}/{max_steps:7d}: {loss.item():.4f}')\n",
        "  lossi.append(loss.log10().item())\n",
        "  break"
      ],
      "metadata": {
        "colab": {
          "base_uri": "https://localhost:8080/"
        },
        "id": "J-kvO9GR2W_6",
        "outputId": "3913f07f-7a7d-4012-cd6a-41b5f61186d8"
      },
      "execution_count": 43,
      "outputs": [
        {
          "output_type": "stream",
          "name": "stdout",
          "text": [
            "      0/ 200000: 3.3277\n"
          ]
        }
      ]
    },
    {
      "cell_type": "code",
      "source": [
        "plt.plot(lossi)"
      ],
      "metadata": {
        "colab": {
          "base_uri": "https://localhost:8080/",
          "height": 447
        },
        "id": "dQNybiVS29TN",
        "outputId": "922daa14-4277-4d13-ef97-df83df67f9d4"
      },
      "execution_count": 44,
      "outputs": [
        {
          "output_type": "execute_result",
          "data": {
            "text/plain": [
              "[<matplotlib.lines.Line2D at 0x7a48d887b040>]"
            ]
          },
          "metadata": {},
          "execution_count": 44
        },
        {
          "output_type": "display_data",
          "data": {
            "text/plain": [
              "<Figure size 640x480 with 1 Axes>"
            ],
            "image/png": "[encoded data removed]"
          },
          "metadata": {}
        }
      ]
    },
    {
      "cell_type": "markdown",
      "source": [
        "We initialized the W1 to be very close to zero to get a lower loss initially. Because it will help the gradient move onto the toughest road to optimize the loss function. It will not go move to the smooth part. So there is no smoothly decreasing line in the graph."
      ],
      "metadata": {
        "id": "vJVbIe034AAW"
      }
    },
    {
      "cell_type": "code",
      "source": [
        "@torch.no_grad() # this decorator disables gradient tracking\n",
        "def split_loss(split):\n",
        "  x,y = {\n",
        "    'train': (Xtr, Ytr),\n",
        "    'val': (Xdev, Ydev),\n",
        "    'test': (Xte, Yte),\n",
        "  }[split]\n",
        "  emb = C[x]\n",
        "  embcat = emb.view(emb.shape[0], -1)\n",
        "  hpreact = embcat @ W1  + b1\n",
        "  h = torch.tanh(hpreact) # (N, n_hidden)\n",
        "  logits = h @ W2 + b2 # (N, vocab_size)\n",
        "  loss = F.cross_entropy(logits, y)\n",
        "  print(split, loss.item())\n",
        "\n",
        "split_loss('train')\n",
        "split_loss('val')"
      ],
      "metadata": {
        "colab": {
          "base_uri": "https://localhost:8080/"
        },
        "id": "yyolY3pG2uCK",
        "outputId": "ff6cd7ac-fb4b-4647-898c-2721f988d884"
      },
      "execution_count": 45,
      "outputs": [
        {
          "output_type": "stream",
          "name": "stdout",
          "text": [
            "train 3.2052221298217773\n",
            "val 3.204833745956421\n"
          ]
        }
      ]
    },
    {
      "cell_type": "markdown",
      "source": [
        "**Problems** with value of **h** :\n",
        "1. In the plot: the output of tanh is 1 or -1\n",
        "2. While calculating gradient it becomes close to 0\n",
        "3. So, it is not updating or decreasing the loss\n",
        "4. If tanh=0, outgrad flows through no impact of tanh"
      ],
      "metadata": {
        "id": "Afx4JqHW4ezv"
      }
    },
    {
      "cell_type": "code",
      "source": [
        "plt.hist(h.view(-1).tolist(),50)"
      ],
      "metadata": {
        "colab": {
          "base_uri": "https://localhost:8080/",
          "height": 661
        },
        "id": "__lXHNqX2-ZI",
        "outputId": "61d5937e-0ebc-434a-a8d5-2fc3b4429c23"
      },
      "execution_count": 46,
      "outputs": [
        {
          "output_type": "execute_result",
          "data": {
            "text/plain": [
              "(array([2069.,  145.,  101.,   73.,   68.,   48.,   42.,   44.,   32.,\n",
              "          47.,   38.,   28.,   32.,   22.,   30.,   21.,   20.,   16.,\n",
              "          15.,   14.,   23.,   27.,   14.,   20.,   23.,   29.,   25.,\n",
              "          18.,   21.,   26.,   21.,   27.,   21.,   18.,   12.,   34.,\n",
              "          32.,   21.,   28.,   31.,   35.,   23.,   50.,   35.,   47.,\n",
              "          68.,   96.,  116.,  172., 2382.]),\n",
              " array([-1.  , -0.96, -0.92, -0.88, -0.84, -0.8 , -0.76, -0.72, -0.68,\n",
              "        -0.64, -0.6 , -0.56, -0.52, -0.48, -0.44, -0.4 , -0.36, -0.32,\n",
              "        -0.28, -0.24, -0.2 , -0.16, -0.12, -0.08, -0.04,  0.  ,  0.04,\n",
              "         0.08,  0.12,  0.16,  0.2 ,  0.24,  0.28,  0.32,  0.36,  0.4 ,\n",
              "         0.44,  0.48,  0.52,  0.56,  0.6 ,  0.64,  0.68,  0.72,  0.76,\n",
              "         0.8 ,  0.84,  0.88,  0.92,  0.96,  1.  ]),\n",
              " <BarContainer object of 50 artists>)"
            ]
          },
          "metadata": {},
          "execution_count": 46
        },
        {
          "output_type": "display_data",
          "data": {
            "text/plain": [
              "<Figure size 640x480 with 1 Axes>"
            ],
            "image/png": "[encoded data removed]"
          },
          "metadata": {}
        }
      ]
    },
    {
      "cell_type": "code",
      "source": [
        "plt.hist(hpreact.view(-1).tolist(),50)"
      ],
      "metadata": {
        "colab": {
          "base_uri": "https://localhost:8080/",
          "height": 760
        },
        "id": "SKwh-9XKKGqq",
        "outputId": "9051fb4d-4310-4e58-dfbd-b59718124155"
      },
      "execution_count": 47,
      "outputs": [
        {
          "output_type": "execute_result",
          "data": {
            "text/plain": [
              "(array([  1.,   2.,   0.,   1.,   5.,   3.,  11.,   6.,  13.,  10.,  25.,\n",
              "         40.,  39.,  77.,  64.,  99., 134., 169., 187., 219., 224., 275.,\n",
              "        308., 311., 355., 369., 379., 357., 366., 333., 292., 284., 287.,\n",
              "        244., 187., 170., 134., 104.,  82.,  74.,  41.,  30.,  27.,  19.,\n",
              "         12.,   7.,  12.,   3.,   2.,   7.]),\n",
              " array([-18.80574417, -18.08757278, -17.3694014 , -16.65123001,\n",
              "        -15.93305862, -15.21488724, -14.49671585, -13.77854446,\n",
              "        -13.06037308, -12.34220169, -11.6240303 , -10.90585892,\n",
              "        -10.18768753,  -9.46951614,  -8.75134476,  -8.03317337,\n",
              "         -7.31500198,  -6.5968306 ,  -5.87865921,  -5.16048782,\n",
              "         -4.44231644,  -3.72414505,  -3.00597366,  -2.28780228,\n",
              "         -1.56963089,  -0.8514595 ,  -0.13328812,   0.58488327,\n",
              "          1.30305466,   2.02122604,   2.73939743,   3.45756882,\n",
              "          4.1757402 ,   4.89391159,   5.61208298,   6.33025436,\n",
              "          7.04842575,   7.76659714,   8.48476852,   9.20293991,\n",
              "          9.9211113 ,  10.63928268,  11.35745407,  12.07562546,\n",
              "         12.79379684,  13.51196823,  14.23013962,  14.948311  ,\n",
              "         15.66648239,  16.38465378,  17.10282516]),\n",
              " <BarContainer object of 50 artists>)"
            ]
          },
          "metadata": {},
          "execution_count": 47
        },
        {
          "output_type": "display_data",
          "data": {
            "text/plain": [
              "<Figure size 640x480 with 1 Axes>"
            ],
            "image/png": "[encoded data removed]"
          },
          "metadata": {}
        }
      ]
    },
    {
      "cell_type": "code",
      "source": [
        "plt.figure(figsize=(20,10))\n",
        "plt.imshow(h.abs()>0.5, cmap='gray', interpolation='nearest')"
      ],
      "metadata": {
        "colab": {
          "base_uri": "https://localhost:8080/",
          "height": 238
        },
        "id": "OlbNQ7Z4Ln7A",
        "outputId": "ad624d15-7551-4eb5-90a2-6a9f52d08cd7"
      },
      "execution_count": 48,
      "outputs": [
        {
          "output_type": "execute_result",
          "data": {
            "text/plain": [
              "<matplotlib.image.AxesImage at 0x7a48d8f801f0>"
            ]
          },
          "metadata": {},
          "execution_count": 48
        },
        {
          "output_type": "display_data",
          "data": {
            "text/plain": [
              "<Figure size 2000x1000 with 1 Axes>"
            ],
            "image/png": "[encoded data removed]"
          },
          "metadata": {}
        }
      ]
    },
    {
      "cell_type": "markdown",
      "source": [
        "**To Solve** this issue we need h pre activation should be close to 0. It should not be too far off the 0."
      ],
      "metadata": {
        "id": "tgD2XIJV8FOl"
      }
    },
    {
      "cell_type": "code",
      "source": [
        "# MLP revisited\n",
        "n_embd = 10\n",
        "n_hidden = 200\n",
        "\n",
        "g = torch.Generator().manual_seed(2147483647) # for reproducibility\n",
        "C  = torch.randn((vocab_size, n_embd),            generator=g)\n",
        "W1 = torch.randn((n_embd * block_size, n_hidden), generator=g) * 0.2\n",
        "b1 = torch.randn(n_hidden,                        generator=g) * 0.01\n",
        "W2 = torch.randn((n_hidden, vocab_size),          generator=g) * 0.01\n",
        "b2 = torch.randn(vocab_size,                      generator=g) * 0\n",
        "\n",
        "parameters = [C, W1, W2, b2]\n",
        "print(sum(p.nelement() for p in parameters)) # number of parameters in total\n",
        "for p in parameters:\n",
        "  p.requires_grad = True"
      ],
      "metadata": {
        "id": "_n3Q2B8TPANX",
        "colab": {
          "base_uri": "https://localhost:8080/"
        },
        "outputId": "6e66e44c-e66c-4af1-c432-7e182e051a2c"
      },
      "execution_count": 49,
      "outputs": [
        {
          "output_type": "stream",
          "name": "stdout",
          "text": [
            "11697\n"
          ]
        }
      ]
    },
    {
      "cell_type": "code",
      "source": [
        "# same optimization as last time\n",
        "max_steps = 200000\n",
        "batch_size = 32\n",
        "lossi = []\n",
        "\n",
        "for i in range(max_steps):\n",
        "\n",
        "  # minibatch construct\n",
        "  ix = torch.randint(0, Xtr.shape[0], (batch_size,), generator=g)\n",
        "  Xb, Yb = Xtr[ix], Ytr[ix] # batch X,Y\n",
        "\n",
        "  # forward pass\n",
        "  emb = C[Xb] # embed the characters into vectors\n",
        "  embcat = emb.view(emb.shape[0], -1) # concatenate the vectors\n",
        "  # Linear layer\n",
        "  hpreact = embcat @ W1 #+ b1 # hidden layer pre-activation\n",
        "\n",
        "  # -------------------------------------------------------------\n",
        "  # Non-linearity\n",
        "  h = torch.tanh(hpreact) # hidden layer\n",
        "  logits = h @ W2 + b2 # output layer\n",
        "  loss = F.cross_entropy(logits, Yb) # loss function\n",
        "\n",
        "  # backward pass\n",
        "  for p in parameters:\n",
        "    p.grad = None\n",
        "  loss.backward()\n",
        "\n",
        "  # update\n",
        "  lr = 0.1 if i < 100000 else 0.01 # step learning rate decay\n",
        "  for p in parameters:\n",
        "    p.data += -lr * p.grad\n",
        "\n",
        "  # track stats\n",
        "  if i % 10000 == 0: # print every once in a while\n",
        "    print(f'{i:7d}/{max_steps:7d}: {loss.item():.4f}')\n",
        "  lossi.append(loss.log10().item())\n",
        "  #break"
      ],
      "metadata": {
        "colab": {
          "base_uri": "https://localhost:8080/"
        },
        "id": "YlVowCyS8uGK",
        "outputId": "4c27ee6d-453a-4144-90a8-1e682e0cf173"
      },
      "execution_count": 50,
      "outputs": [
        {
          "output_type": "stream",
          "name": "stdout",
          "text": [
            "      0/ 200000: 3.3134\n",
            "  10000/ 200000: 2.1660\n",
            "  20000/ 200000: 2.3240\n",
            "  30000/ 200000: 2.3918\n",
            "  40000/ 200000: 1.9870\n",
            "  50000/ 200000: 2.2887\n",
            "  60000/ 200000: 2.4205\n",
            "  70000/ 200000: 2.1077\n",
            "  80000/ 200000: 2.2996\n",
            "  90000/ 200000: 2.1169\n",
            " 100000/ 200000: 1.8800\n",
            " 110000/ 200000: 2.1717\n",
            " 120000/ 200000: 1.9890\n",
            " 130000/ 200000: 2.4198\n",
            " 140000/ 200000: 2.2000\n",
            " 150000/ 200000: 2.1517\n",
            " 160000/ 200000: 1.8120\n",
            " 170000/ 200000: 1.8149\n",
            " 180000/ 200000: 1.9480\n",
            " 190000/ 200000: 1.8681\n"
          ]
        }
      ]
    },
    {
      "cell_type": "code",
      "source": [
        "plt.plot(lossi)"
      ],
      "metadata": {
        "colab": {
          "base_uri": "https://localhost:8080/",
          "height": 447
        },
        "id": "Q4WhbCsp81iz",
        "outputId": "9761a256-03a2-4cf0-f635-8dde68610fdc"
      },
      "execution_count": 51,
      "outputs": [
        {
          "output_type": "execute_result",
          "data": {
            "text/plain": [
              "[<matplotlib.lines.Line2D at 0x7a48d7ba7e50>]"
            ]
          },
          "metadata": {},
          "execution_count": 51
        },
        {
          "output_type": "display_data",
          "data": {
            "text/plain": [
              "<Figure size 640x480 with 1 Axes>"
            ],
            "image/png": "[encoded data removed]"
          },
          "metadata": {}
        }
      ]
    },
    {
      "cell_type": "code",
      "source": [
        "@torch.no_grad() # this decorator disables gradient tracking\n",
        "def split_loss(split):\n",
        "  x,y = {\n",
        "    'train': (Xtr, Ytr),\n",
        "    'val': (Xdev, Ydev),\n",
        "    'test': (Xte, Yte),\n",
        "  }[split]\n",
        "  emb = C[x]\n",
        "  embcat = emb.view(emb.shape[0], -1)\n",
        "  hpreact = embcat @ W1  + b1\n",
        "  h = torch.tanh(hpreact) # (N, n_hidden)\n",
        "  logits = h @ W2 + b2 # (N, vocab_size)\n",
        "  loss = F.cross_entropy(logits, y)\n",
        "  print(split, loss.item())\n",
        "\n",
        "split_loss('train')\n",
        "split_loss('val')"
      ],
      "metadata": {
        "colab": {
          "base_uri": "https://localhost:8080/"
        },
        "id": "jsqBENMA86lD",
        "outputId": "77d35a8e-0967-4fe5-a4d5-2dc3f958b0aa"
      },
      "execution_count": 52,
      "outputs": [
        {
          "output_type": "stream",
          "name": "stdout",
          "text": [
            "train 2.035963535308838\n",
            "val 2.1026062965393066\n"
          ]
        }
      ]
    },
    {
      "cell_type": "code",
      "source": [
        "plt.hist(h.view(-1).tolist(),50)"
      ],
      "metadata": {
        "colab": {
          "base_uri": "https://localhost:8080/",
          "height": 777
        },
        "id": "EjXXCWB38_sJ",
        "outputId": "688652c7-5b20-4f5f-cebe-85d9fcea0d0e"
      },
      "execution_count": 53,
      "outputs": [
        {
          "output_type": "execute_result",
          "data": {
            "text/plain": [
              "(array([ 904.,  249.,  146.,  117.,  110.,   93.,   79.,   63.,   59.,\n",
              "          59.,   75.,   62.,   60.,   37.,   88.,   87.,   77.,  112.,\n",
              "          80.,   70.,  104.,  140.,   65.,  124.,  101.,  118.,   73.,\n",
              "          93.,  105.,   90.,   62.,  100.,   64.,   48.,   85.,   69.,\n",
              "          54.,   54.,   70.,   58.,   50.,   79.,   83.,   81.,   84.,\n",
              "         134.,  146.,  157.,  257., 1025.]),\n",
              " array([-1.00000000e+00, -9.60000004e-01, -9.20000007e-01, -8.80000011e-01,\n",
              "        -8.40000014e-01, -8.00000018e-01, -7.60000021e-01, -7.20000025e-01,\n",
              "        -6.80000029e-01, -6.40000032e-01, -6.00000036e-01, -5.60000039e-01,\n",
              "        -5.20000043e-01, -4.80000046e-01, -4.40000050e-01, -4.00000054e-01,\n",
              "        -3.60000057e-01, -3.20000061e-01, -2.80000064e-01, -2.40000068e-01,\n",
              "        -2.00000072e-01, -1.60000075e-01, -1.20000079e-01, -8.00000823e-02,\n",
              "        -4.00000858e-02, -8.94069673e-08,  3.99999070e-02,  7.99999034e-02,\n",
              "         1.19999900e-01,  1.59999896e-01,  1.99999893e-01,  2.39999889e-01,\n",
              "         2.79999886e-01,  3.19999882e-01,  3.59999878e-01,  3.99999875e-01,\n",
              "         4.39999871e-01,  4.79999868e-01,  5.19999864e-01,  5.59999861e-01,\n",
              "         5.99999857e-01,  6.39999853e-01,  6.79999850e-01,  7.19999846e-01,\n",
              "         7.59999843e-01,  7.99999839e-01,  8.39999835e-01,  8.79999832e-01,\n",
              "         9.19999828e-01,  9.59999825e-01,  9.99999821e-01]),\n",
              " <BarContainer object of 50 artists>)"
            ]
          },
          "metadata": {},
          "execution_count": 53
        },
        {
          "output_type": "display_data",
          "data": {
            "text/plain": [
              "<Figure size 640x480 with 1 Axes>"
            ],
            "image/png": "[encoded data removed]"
          },
          "metadata": {}
        }
      ]
    },
    {
      "cell_type": "code",
      "source": [
        "plt.hist(hpreact.view(-1).tolist(),50)"
      ],
      "metadata": {
        "colab": {
          "base_uri": "https://localhost:8080/",
          "height": 761
        },
        "id": "iiqSzzDs9D4n",
        "outputId": "d855c76b-3c6c-4565-8dae-e391d0aa2b4b"
      },
      "execution_count": 54,
      "outputs": [
        {
          "output_type": "execute_result",
          "data": {
            "text/plain": [
              "(array([  1.,   0.,   0.,   0.,   1.,   2.,   1.,   3.,   3.,   3.,   4.,\n",
              "          8.,  14.,  17.,  24.,  29.,  48.,  66.,  63.,  98., 120., 131.,\n",
              "        188., 238., 268., 333., 362., 624., 964., 561., 384., 372., 271.,\n",
              "        274., 188., 170., 131., 122.,  93.,  50.,  54.,  29.,  22.,  24.,\n",
              "         18.,   8.,   6.,   5.,   1.,   4.]),\n",
              " array([-10.86410618, -10.48289787, -10.10168957,  -9.72048126,\n",
              "         -9.33927296,  -8.95806465,  -8.57685635,  -8.19564804,\n",
              "         -7.81443974,  -7.43323143,  -7.05202312,  -6.67081482,\n",
              "         -6.28960651,  -5.90839821,  -5.5271899 ,  -5.1459816 ,\n",
              "         -4.76477329,  -4.38356499,  -4.00235668,  -3.62114838,\n",
              "         -3.23994007,  -2.85873177,  -2.47752346,  -2.09631516,\n",
              "         -1.71510685,  -1.33389854,  -0.95269024,  -0.57148193,\n",
              "         -0.19027363,   0.19093468,   0.57214298,   0.95335129,\n",
              "          1.33455959,   1.7157679 ,   2.0969762 ,   2.47818451,\n",
              "          2.85939281,   3.24060112,   3.62180943,   4.00301773,\n",
              "          4.38422604,   4.76543434,   5.14664265,   5.52785095,\n",
              "          5.90905926,   6.29026756,   6.67147587,   7.05268417,\n",
              "          7.43389248,   7.81510078,   8.19630909]),\n",
              " <BarContainer object of 50 artists>)"
            ]
          },
          "metadata": {},
          "execution_count": 54
        },
        {
          "output_type": "display_data",
          "data": {
            "text/plain": [
              "<Figure size 640x480 with 1 Axes>"
            ],
            "image/png": "[encoded data removed]"
          },
          "metadata": {}
        }
      ]
    },
    {
      "cell_type": "code",
      "source": [
        "plt.figure(figsize=(20,10))\n",
        "plt.imshow(h.abs()>0.5, cmap='gray', interpolation='nearest')"
      ],
      "metadata": {
        "colab": {
          "base_uri": "https://localhost:8080/",
          "height": 238
        },
        "id": "Bz3o962L9KRC",
        "outputId": "c640c145-c867-4464-f8ad-24a560c75d5c"
      },
      "execution_count": 55,
      "outputs": [
        {
          "output_type": "execute_result",
          "data": {
            "text/plain": [
              "<matplotlib.image.AxesImage at 0x7a48d790bf70>"
            ]
          },
          "metadata": {},
          "execution_count": 55
        },
        {
          "output_type": "display_data",
          "data": {
            "text/plain": [
              "<Figure size 2000x1000 with 1 Axes>"
            ],
            "image/png": "[encoded data removed]"
          },
          "metadata": {}
        }
      ]
    }
  ]
}