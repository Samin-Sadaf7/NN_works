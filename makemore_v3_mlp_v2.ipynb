{
  "nbformat": 4,
  "nbformat_minor": 0,
  "metadata": {
    "colab": {
      "provenance": [],
      "authorship_tag": "ABX9TyOPwnv+Qbfrdt8KM17grXxG",
      "include_colab_link": true
    },
    "kernelspec": {
      "name": "python3",
      "display_name": "Python 3"
    },
    "language_info": {
      "name": "python"
    }
  },
  "cells": [
    {
      "cell_type": "markdown",
      "metadata": {
        "id": "view-in-github",
        "colab_type": "text"
      },
      "source": [
        "<a href=\"https://colab.research.google.com/github/Samin-Sadaf7/NN_works/blob/main/makemore_v3_mlp_v2.ipynb\" target=\"_parent\"><img src=\"https://colab.research.google.com/assets/colab-badge.svg\" alt=\"Open In Colab\"/></a>"
      ]
    },
    {
      "cell_type": "code",
      "execution_count": 1,
      "metadata": {
        "id": "i89nuT2612MB"
      },
      "outputs": [],
      "source": [
        "import torch\n",
        "import torch.nn.functional as F\n",
        "import matplotlib.pyplot as plt # for making figures\n",
        "%matplotlib inline"
      ]
    },
    {
      "cell_type": "code",
      "source": [
        "# download the names.txt file from github\n",
        "!wget https://raw.githubusercontent.com/karpathy/makemore/master/names.txt"
      ],
      "metadata": {
        "colab": {
          "base_uri": "https://localhost:8080/"
        },
        "id": "cXTjTify1-i9",
        "outputId": "58274856-5846-4786-947b-baaeb877b27d"
      },
      "execution_count": 2,
      "outputs": [
        {
          "output_type": "stream",
          "name": "stdout",
          "text": [
            "--2024-07-06 04:10:03--  https://raw.githubusercontent.com/karpathy/makemore/master/names.txt\n",
            "Resolving raw.githubusercontent.com (raw.githubusercontent.com)... 185.199.108.133, 185.199.109.133, 185.199.110.133, ...\n",
            "Connecting to raw.githubusercontent.com (raw.githubusercontent.com)|185.199.108.133|:443... connected.\n",
            "HTTP request sent, awaiting response... 200 OK\n",
            "Length: 228145 (223K) [text/plain]\n",
            "Saving to: ‘names.txt’\n",
            "\n",
            "\rnames.txt             0%[                    ]       0  --.-KB/s               \rnames.txt           100%[===================>] 222.80K  --.-KB/s    in 0.04s   \n",
            "\n",
            "2024-07-06 04:10:03 (5.85 MB/s) - ‘names.txt’ saved [228145/228145]\n",
            "\n"
          ]
        }
      ]
    },
    {
      "cell_type": "code",
      "source": [
        "# read in all the words\n",
        "words = open('names.txt', 'r').read().splitlines()\n",
        "words[:8]"
      ],
      "metadata": {
        "colab": {
          "base_uri": "https://localhost:8080/"
        },
        "id": "uSkr615G2AbI",
        "outputId": "b4f30ff6-750b-4a60-9425-870d945028b6"
      },
      "execution_count": 3,
      "outputs": [
        {
          "output_type": "execute_result",
          "data": {
            "text/plain": [
              "['emma', 'olivia', 'ava', 'isabella', 'sophia', 'charlotte', 'mia', 'amelia']"
            ]
          },
          "metadata": {},
          "execution_count": 3
        }
      ]
    },
    {
      "cell_type": "code",
      "source": [
        "len(words)"
      ],
      "metadata": {
        "colab": {
          "base_uri": "https://localhost:8080/"
        },
        "id": "ScW2iMkr2CHa",
        "outputId": "1947baef-d46e-4a78-dc68-60be5ac8de7f"
      },
      "execution_count": 4,
      "outputs": [
        {
          "output_type": "execute_result",
          "data": {
            "text/plain": [
              "32033"
            ]
          },
          "metadata": {},
          "execution_count": 4
        }
      ]
    },
    {
      "cell_type": "code",
      "source": [
        "# build the vocabulary of characters and mappings to/from integers\n",
        "chars = sorted(list(set(''.join(words))))\n",
        "stoi = {s:i+1 for i,s in enumerate(chars)}\n",
        "stoi['.'] = 0\n",
        "itos = {i:s for s,i in stoi.items()}\n",
        "vocab_size = len(itos)\n",
        "print(itos)\n",
        "print(vocab_size)"
      ],
      "metadata": {
        "colab": {
          "base_uri": "https://localhost:8080/"
        },
        "id": "CaWmJTXv2E1F",
        "outputId": "9f804e91-f601-4b2f-ff68-8ae9b2d9f1e6"
      },
      "execution_count": 5,
      "outputs": [
        {
          "output_type": "stream",
          "name": "stdout",
          "text": [
            "{1: 'a', 2: 'b', 3: 'c', 4: 'd', 5: 'e', 6: 'f', 7: 'g', 8: 'h', 9: 'i', 10: 'j', 11: 'k', 12: 'l', 13: 'm', 14: 'n', 15: 'o', 16: 'p', 17: 'q', 18: 'r', 19: 's', 20: 't', 21: 'u', 22: 'v', 23: 'w', 24: 'x', 25: 'y', 26: 'z', 0: '.'}\n",
            "27\n"
          ]
        }
      ]
    },
    {
      "cell_type": "code",
      "source": [
        "# build the dataset\n",
        "block_size = 3 # context length: how many characters do we take to predict the next one?\n",
        "\n",
        "def build_dataset(words):\n",
        "  X, Y = [], []\n",
        "\n",
        "  for w in words:\n",
        "    context = [0] * block_size\n",
        "    for ch in w + '.':\n",
        "      ix = stoi[ch]\n",
        "      X.append(context)\n",
        "      Y.append(ix)\n",
        "      context = context[1:] + [ix] # crop and append\n",
        "\n",
        "  X = torch.tensor(X)\n",
        "  Y = torch.tensor(Y)\n",
        "  print(X.shape, Y.shape)\n",
        "  return X, Y\n",
        "\n",
        "import random\n",
        "random.seed(42)\n",
        "random.shuffle(words)\n",
        "n1 = int(0.8*len(words))\n",
        "n2 = int(0.9*len(words))\n",
        "\n",
        "Xtr,  Ytr  = build_dataset(words[:n1])     # 80%\n",
        "Xdev, Ydev = build_dataset(words[n1:n2])   # 10%\n",
        "Xte,  Yte  = build_dataset(words[n2:])     # 10%"
      ],
      "metadata": {
        "colab": {
          "base_uri": "https://localhost:8080/"
        },
        "id": "TpMVbmKE2Gtn",
        "outputId": "101bde35-ca1b-424d-edcb-dcc89d6fa1e9"
      },
      "execution_count": 6,
      "outputs": [
        {
          "output_type": "stream",
          "name": "stdout",
          "text": [
            "torch.Size([182625, 3]) torch.Size([182625])\n",
            "torch.Size([22655, 3]) torch.Size([22655])\n",
            "torch.Size([22866, 3]) torch.Size([22866])\n"
          ]
        }
      ]
    },
    {
      "cell_type": "code",
      "source": [
        "# MLP revisited\n",
        "n_embd = 10\n",
        "n_hidden = 200\n",
        "\n",
        "g = torch.Generator().manual_seed(2147483647) # for reproducibility\n",
        "C  = torch.randn((vocab_size, n_embd),            generator=g)\n",
        "W1 = torch.randn((n_embd * block_size, n_hidden), generator=g)\n",
        "b1 = torch.randn(n_hidden,                        generator=g)\n",
        "W2 = torch.randn((n_hidden, vocab_size),          generator=g) * 0.01\n",
        "b2 = torch.randn(vocab_size,                      generator=g) * 0\n",
        "\n",
        "parameters = [C, W1, W2, b2]\n",
        "print(sum(p.nelement() for p in parameters)) # number of parameters in total\n",
        "for p in parameters:\n",
        "  p.requires_grad = True"
      ],
      "metadata": {
        "colab": {
          "base_uri": "https://localhost:8080/"
        },
        "id": "md8ySjq82JuR",
        "outputId": "f30858c7-3413-4fe8-ebb1-3962576a26cb"
      },
      "execution_count": 7,
      "outputs": [
        {
          "output_type": "stream",
          "name": "stdout",
          "text": [
            "11697\n"
          ]
        }
      ]
    },
    {
      "cell_type": "code",
      "source": [
        "# same optimization as last time\n",
        "max_steps = 200000\n",
        "batch_size = 32\n",
        "lossi = []\n",
        "\n",
        "for i in range(max_steps):\n",
        "\n",
        "  # minibatch construct\n",
        "  ix = torch.randint(0, Xtr.shape[0], (batch_size,), generator=g)\n",
        "  Xb, Yb = Xtr[ix], Ytr[ix] # batch X,Y\n",
        "\n",
        "  # forward pass\n",
        "  emb = C[Xb] # embed the characters into vectors\n",
        "  embcat = emb.view(emb.shape[0], -1) # concatenate the vectors\n",
        "  # Linear layer\n",
        "  hpreact = embcat @ W1 #+ b1 # hidden layer pre-activation\n",
        "\n",
        "  # -------------------------------------------------------------\n",
        "  # Non-linearity\n",
        "  h = torch.tanh(hpreact) # hidden layer\n",
        "  logits = h @ W2 + b2 # output layer\n",
        "  loss = F.cross_entropy(logits, Yb) # loss function\n",
        "\n",
        "  # backward pass\n",
        "  for p in parameters:\n",
        "    p.grad = None\n",
        "  loss.backward()\n",
        "\n",
        "  # update\n",
        "  lr = 0.1 if i < 100000 else 0.01 # step learning rate decay\n",
        "  for p in parameters:\n",
        "    p.data += -lr * p.grad\n",
        "\n",
        "  # track stats\n",
        "  if i % 10000 == 0: # print every once in a while\n",
        "    print(f'{i:7d}/{max_steps:7d}: {loss.item():.4f}')\n",
        "  lossi.append(loss.log10().item())\n",
        "  break"
      ],
      "metadata": {
        "colab": {
          "base_uri": "https://localhost:8080/"
        },
        "id": "J-kvO9GR2W_6",
        "outputId": "c5ac4a84-9ca1-4a13-b432-8fd560d5ff5e"
      },
      "execution_count": 8,
      "outputs": [
        {
          "output_type": "stream",
          "name": "stdout",
          "text": [
            "      0/ 200000: 3.3277\n"
          ]
        }
      ]
    },
    {
      "cell_type": "code",
      "source": [
        "plt.plot(lossi)"
      ],
      "metadata": {
        "colab": {
          "base_uri": "https://localhost:8080/",
          "height": 447
        },
        "id": "dQNybiVS29TN",
        "outputId": "935cba2e-e485-4341-f251-ac49a4818816"
      },
      "execution_count": 9,
      "outputs": [
        {
          "output_type": "execute_result",
          "data": {
            "text/plain": [
              "[<matplotlib.lines.Line2D at 0x79ae66569690>]"
            ]
          },
          "metadata": {},
          "execution_count": 9
        },
        {
          "output_type": "display_data",
          "data": {
            "text/plain": [
              "<Figure size 640x480 with 1 Axes>"
            ],
            "image/png": "[encoded data removed]"
          },
          "metadata": {}
        }
      ]
    },
    {
      "cell_type": "markdown",
      "source": [
        "We initialized the W1 to be very close to zero to get a lower loss initially. Because it will help the gradient move onto the toughest road to optimize the loss function. It will not go move to the smooth part. So there is no smoothly decreasing line in the graph."
      ],
      "metadata": {
        "id": "vJVbIe034AAW"
      }
    },
    {
      "cell_type": "code",
      "source": [
        "@torch.no_grad() # this decorator disables gradient tracking\n",
        "def split_loss(split):\n",
        "  x,y = {\n",
        "    'train': (Xtr, Ytr),\n",
        "    'val': (Xdev, Ydev),\n",
        "    'test': (Xte, Yte),\n",
        "  }[split]\n",
        "  emb = C[x]\n",
        "  embcat = emb.view(emb.shape[0], -1)\n",
        "  hpreact = embcat @ W1  + b1\n",
        "  h = torch.tanh(hpreact) # (N, n_hidden)\n",
        "  logits = h @ W2 + b2 # (N, vocab_size)\n",
        "  loss = F.cross_entropy(logits, y)\n",
        "  print(split, loss.item())\n",
        "\n",
        "split_loss('train')\n",
        "split_loss('val')"
      ],
      "metadata": {
        "colab": {
          "base_uri": "https://localhost:8080/"
        },
        "id": "yyolY3pG2uCK",
        "outputId": "59fdb6d6-cbb8-48ad-f078-f2ce0ba8b517"
      },
      "execution_count": 10,
      "outputs": [
        {
          "output_type": "stream",
          "name": "stdout",
          "text": [
            "train 3.2052221298217773\n",
            "val 3.204833745956421\n"
          ]
        }
      ]
    },
    {
      "cell_type": "markdown",
      "source": [
        "**Problems** with value of **h** :\n",
        "1. In the plot: the output of tanh is 1 or -1\n",
        "2. While calculating gradient it becomes close to 0\n",
        "3. So, it is not updating or decreasing the loss\n",
        "4. If tanh=0, outgrad flows through no impact of tanh"
      ],
      "metadata": {
        "id": "Afx4JqHW4ezv"
      }
    },
    {
      "cell_type": "code",
      "source": [
        "plt.hist(h.view(-1).tolist(),50)"
      ],
      "metadata": {
        "colab": {
          "base_uri": "https://localhost:8080/",
          "height": 661
        },
        "id": "__lXHNqX2-ZI",
        "outputId": "e9891175-de85-47d6-b572-ea6cbc8eb116"
      },
      "execution_count": 11,
      "outputs": [
        {
          "output_type": "execute_result",
          "data": {
            "text/plain": [
              "(array([2069.,  145.,  101.,   73.,   68.,   48.,   42.,   44.,   32.,\n",
              "          47.,   38.,   28.,   32.,   22.,   30.,   21.,   20.,   16.,\n",
              "          15.,   14.,   23.,   27.,   14.,   20.,   23.,   29.,   25.,\n",
              "          18.,   21.,   26.,   21.,   27.,   21.,   18.,   12.,   34.,\n",
              "          32.,   21.,   28.,   31.,   35.,   23.,   50.,   35.,   47.,\n",
              "          68.,   96.,  116.,  172., 2382.]),\n",
              " array([-1.  , -0.96, -0.92, -0.88, -0.84, -0.8 , -0.76, -0.72, -0.68,\n",
              "        -0.64, -0.6 , -0.56, -0.52, -0.48, -0.44, -0.4 , -0.36, -0.32,\n",
              "        -0.28, -0.24, -0.2 , -0.16, -0.12, -0.08, -0.04,  0.  ,  0.04,\n",
              "         0.08,  0.12,  0.16,  0.2 ,  0.24,  0.28,  0.32,  0.36,  0.4 ,\n",
              "         0.44,  0.48,  0.52,  0.56,  0.6 ,  0.64,  0.68,  0.72,  0.76,\n",
              "         0.8 ,  0.84,  0.88,  0.92,  0.96,  1.  ]),\n",
              " <BarContainer object of 50 artists>)"
            ]
          },
          "metadata": {},
          "execution_count": 11
        },
        {
          "output_type": "display_data",
          "data": {
            "text/plain": [
              "<Figure size 640x480 with 1 Axes>"
            ],
            "image/png": "[encoded data removed]"
          },
          "metadata": {}
        }
      ]
    },
    {
      "cell_type": "code",
      "source": [
        "plt.hist(hpreact.view(-1).tolist(),50)"
      ],
      "metadata": {
        "colab": {
          "base_uri": "https://localhost:8080/",
          "height": 760
        },
        "id": "SKwh-9XKKGqq",
        "outputId": "67466af9-9afb-48be-81d0-c723fe59277e"
      },
      "execution_count": 12,
      "outputs": [
        {
          "output_type": "execute_result",
          "data": {
            "text/plain": [
              "(array([  1.,   2.,   0.,   1.,   5.,   3.,  11.,   6.,  13.,  10.,  25.,\n",
              "         40.,  39.,  77.,  64.,  99., 134., 169., 187., 219., 224., 275.,\n",
              "        308., 311., 355., 369., 379., 357., 366., 333., 292., 284., 287.,\n",
              "        244., 187., 170., 134., 104.,  82.,  74.,  41.,  30.,  27.,  19.,\n",
              "         12.,   7.,  12.,   3.,   2.,   7.]),\n",
              " array([-18.80574417, -18.08757278, -17.3694014 , -16.65123001,\n",
              "        -15.93305862, -15.21488724, -14.49671585, -13.77854446,\n",
              "        -13.06037308, -12.34220169, -11.6240303 , -10.90585892,\n",
              "        -10.18768753,  -9.46951614,  -8.75134476,  -8.03317337,\n",
              "         -7.31500198,  -6.5968306 ,  -5.87865921,  -5.16048782,\n",
              "         -4.44231644,  -3.72414505,  -3.00597366,  -2.28780228,\n",
              "         -1.56963089,  -0.8514595 ,  -0.13328812,   0.58488327,\n",
              "          1.30305466,   2.02122604,   2.73939743,   3.45756882,\n",
              "          4.1757402 ,   4.89391159,   5.61208298,   6.33025436,\n",
              "          7.04842575,   7.76659714,   8.48476852,   9.20293991,\n",
              "          9.9211113 ,  10.63928268,  11.35745407,  12.07562546,\n",
              "         12.79379684,  13.51196823,  14.23013962,  14.948311  ,\n",
              "         15.66648239,  16.38465378,  17.10282516]),\n",
              " <BarContainer object of 50 artists>)"
            ]
          },
          "metadata": {},
          "execution_count": 12
        },
        {
          "output_type": "display_data",
          "data": {
            "text/plain": [
              "<Figure size 640x480 with 1 Axes>"
            ],
            "image/png": "[encoded data removed]"
          },
          "metadata": {}
        }
      ]
    },
    {
      "cell_type": "code",
      "source": [
        "plt.figure(figsize=(20,10))\n",
        "plt.imshow(h.abs()>0.5, cmap='gray', interpolation='nearest')"
      ],
      "metadata": {
        "colab": {
          "base_uri": "https://localhost:8080/",
          "height": 238
        },
        "id": "OlbNQ7Z4Ln7A",
        "outputId": "235e5b89-7812-4a4e-bad0-ea8c6873ab75"
      },
      "execution_count": 13,
      "outputs": [
        {
          "output_type": "execute_result",
          "data": {
            "text/plain": [
              "<matplotlib.image.AxesImage at 0x79ae66833130>"
            ]
          },
          "metadata": {},
          "execution_count": 13
        },
        {
          "output_type": "display_data",
          "data": {
            "text/plain": [
              "<Figure size 2000x1000 with 1 Axes>"
            ],
            "image/png": "[encoded data removed]"
          },
          "metadata": {}
        }
      ]
    },
    {
      "cell_type": "markdown",
      "source": [
        "**To Solve** this issue we need h pre activation should be close to 0. It should not be too far off the 0."
      ],
      "metadata": {
        "id": "tgD2XIJV8FOl"
      }
    },
    {
      "cell_type": "code",
      "source": [
        "# MLP revisited\n",
        "n_embd = 10\n",
        "n_hidden = 200\n",
        "\n",
        "g = torch.Generator().manual_seed(2147483647) # for reproducibility\n",
        "C  = torch.randn((vocab_size, n_embd),            generator=g)\n",
        "W1 = torch.randn((n_embd * block_size, n_hidden), generator=g) * 0.2\n",
        "b1 = torch.randn(n_hidden,                        generator=g) * 0.01\n",
        "W2 = torch.randn((n_hidden, vocab_size),          generator=g) * 0.01\n",
        "b2 = torch.randn(vocab_size,                      generator=g) * 0\n",
        "\n",
        "parameters = [C, W1, W2, b2]\n",
        "print(sum(p.nelement() for p in parameters)) # number of parameters in total\n",
        "for p in parameters:\n",
        "  p.requires_grad = True"
      ],
      "metadata": {
        "id": "_n3Q2B8TPANX",
        "colab": {
          "base_uri": "https://localhost:8080/"
        },
        "outputId": "a4c20a75-d1af-4af8-bf6f-e0daef828f3e"
      },
      "execution_count": 14,
      "outputs": [
        {
          "output_type": "stream",
          "name": "stdout",
          "text": [
            "11697\n"
          ]
        }
      ]
    },
    {
      "cell_type": "code",
      "source": [
        "# same optimization as last time\n",
        "max_steps = 200000\n",
        "batch_size = 32\n",
        "lossi = []\n",
        "\n",
        "for i in range(max_steps):\n",
        "\n",
        "  # minibatch construct\n",
        "  ix = torch.randint(0, Xtr.shape[0], (batch_size,), generator=g)\n",
        "  Xb, Yb = Xtr[ix], Ytr[ix] # batch X,Y\n",
        "\n",
        "  # forward pass\n",
        "  emb = C[Xb] # embed the characters into vectors\n",
        "  embcat = emb.view(emb.shape[0], -1) # concatenate the vectors\n",
        "  # Linear layer\n",
        "  hpreact = embcat @ W1 + b1 # hidden layer pre-activation\n",
        "\n",
        "  # -------------------------------------------------------------\n",
        "  # Non-linearity\n",
        "  h = torch.tanh(hpreact) # hidden layer\n",
        "  logits = h @ W2 + b2 # output layer\n",
        "  loss = F.cross_entropy(logits, Yb) # loss function\n",
        "\n",
        "  # backward pass\n",
        "  for p in parameters:\n",
        "    p.grad = None\n",
        "  loss.backward()\n",
        "\n",
        "  # update\n",
        "  lr = 0.1 if i < 100000 else 0.01 # step learning rate decay\n",
        "  for p in parameters:\n",
        "    p.data += -lr * p.grad\n",
        "\n",
        "  # track stats\n",
        "  if i % 10000 == 0: # print every once in a while\n",
        "    print(f'{i:7d}/{max_steps:7d}: {loss.item():.4f}')\n",
        "  lossi.append(loss.log10().item())\n",
        "  #break"
      ],
      "metadata": {
        "colab": {
          "base_uri": "https://localhost:8080/"
        },
        "id": "YlVowCyS8uGK",
        "outputId": "43173186-daa9-4517-fa21-ae99b2a3bdb6"
      },
      "execution_count": 15,
      "outputs": [
        {
          "output_type": "stream",
          "name": "stdout",
          "text": [
            "      0/ 200000: 3.3135\n",
            "  10000/ 200000: 2.1715\n",
            "  20000/ 200000: 2.3240\n",
            "  30000/ 200000: 2.4010\n",
            "  40000/ 200000: 1.9887\n",
            "  50000/ 200000: 2.3029\n",
            "  60000/ 200000: 2.4564\n",
            "  70000/ 200000: 2.1249\n",
            "  80000/ 200000: 2.3069\n",
            "  90000/ 200000: 2.1057\n",
            " 100000/ 200000: 1.8948\n",
            " 110000/ 200000: 2.2326\n",
            " 120000/ 200000: 1.9659\n",
            " 130000/ 200000: 2.4410\n",
            " 140000/ 200000: 2.2106\n",
            " 150000/ 200000: 2.1795\n",
            " 160000/ 200000: 1.8383\n",
            " 170000/ 200000: 1.8131\n",
            " 180000/ 200000: 1.9572\n",
            " 190000/ 200000: 1.8002\n"
          ]
        }
      ]
    },
    {
      "cell_type": "code",
      "source": [
        "plt.plot(lossi)"
      ],
      "metadata": {
        "colab": {
          "base_uri": "https://localhost:8080/",
          "height": 447
        },
        "id": "Q4WhbCsp81iz",
        "outputId": "46cb6ff7-aa80-41b5-b597-fd7aa2eb5699"
      },
      "execution_count": 16,
      "outputs": [
        {
          "output_type": "execute_result",
          "data": {
            "text/plain": [
              "[<matplotlib.lines.Line2D at 0x79ae66caed10>]"
            ]
          },
          "metadata": {},
          "execution_count": 16
        },
        {
          "output_type": "display_data",
          "data": {
            "text/plain": [
              "<Figure size 640x480 with 1 Axes>"
            ],
            "image/png": "[encoded data removed]"
          },
          "metadata": {}
        }
      ]
    },
    {
      "cell_type": "code",
      "source": [
        "@torch.no_grad() # this decorator disables gradient tracking\n",
        "def split_loss(split):\n",
        "  x,y = {\n",
        "    'train': (Xtr, Ytr),\n",
        "    'val': (Xdev, Ydev),\n",
        "    'test': (Xte, Yte),\n",
        "  }[split]\n",
        "  emb = C[x]\n",
        "  embcat = emb.view(emb.shape[0], -1)\n",
        "  hpreact = embcat @ W1  + b1\n",
        "  h = torch.tanh(hpreact) # (N, n_hidden)\n",
        "  logits = h @ W2 + b2 # (N, vocab_size)\n",
        "  loss = F.cross_entropy(logits, y)\n",
        "  print(split, loss.item())\n",
        "\n",
        "split_loss('train')\n",
        "split_loss('val')"
      ],
      "metadata": {
        "colab": {
          "base_uri": "https://localhost:8080/"
        },
        "id": "jsqBENMA86lD",
        "outputId": "2efe0794-d69c-4245-9dc7-34b46eb7e6d9"
      },
      "execution_count": 17,
      "outputs": [
        {
          "output_type": "stream",
          "name": "stdout",
          "text": [
            "train 2.036555528640747\n",
            "val 2.103057384490967\n"
          ]
        }
      ]
    },
    {
      "cell_type": "code",
      "source": [
        "plt.hist(h.view(-1).tolist(),50)"
      ],
      "metadata": {
        "colab": {
          "base_uri": "https://localhost:8080/",
          "height": 777
        },
        "id": "EjXXCWB38_sJ",
        "outputId": "2f1890aa-c635-41ef-c6b1-b4934305de3a"
      },
      "execution_count": 18,
      "outputs": [
        {
          "output_type": "execute_result",
          "data": {
            "text/plain": [
              "(array([ 885.,  251.,  166.,   97.,  114.,   79.,   87.,   85.,   63.,\n",
              "          66.,   54.,   56.,   51.,   65.,   63.,   72.,   82.,   80.,\n",
              "          65.,  103.,  133.,   94.,   93.,  107.,  158.,  119.,   80.,\n",
              "          96.,  116.,   65.,   95.,   71.,   62.,   80.,   62.,   63.,\n",
              "          88.,   67.,   51.,   46.,   66.,   60.,   77.,   93.,   96.,\n",
              "         132.,  138.,  156.,  245., 1007.]),\n",
              " array([-1.00000000e+00, -9.60000002e-01, -9.20000005e-01, -8.80000007e-01,\n",
              "        -8.40000010e-01, -8.00000012e-01, -7.60000014e-01, -7.20000017e-01,\n",
              "        -6.80000019e-01, -6.40000021e-01, -6.00000024e-01, -5.60000026e-01,\n",
              "        -5.20000029e-01, -4.80000031e-01, -4.40000033e-01, -4.00000036e-01,\n",
              "        -3.60000038e-01, -3.20000041e-01, -2.80000043e-01, -2.40000045e-01,\n",
              "        -2.00000048e-01, -1.60000050e-01, -1.20000052e-01, -8.00000548e-02,\n",
              "        -4.00000572e-02, -5.96046448e-08,  3.99999380e-02,  7.99999356e-02,\n",
              "         1.19999933e-01,  1.59999931e-01,  1.99999928e-01,  2.39999926e-01,\n",
              "         2.79999924e-01,  3.19999921e-01,  3.59999919e-01,  3.99999917e-01,\n",
              "         4.39999914e-01,  4.79999912e-01,  5.19999909e-01,  5.59999907e-01,\n",
              "         5.99999905e-01,  6.39999902e-01,  6.79999900e-01,  7.19999897e-01,\n",
              "         7.59999895e-01,  7.99999893e-01,  8.39999890e-01,  8.79999888e-01,\n",
              "         9.19999886e-01,  9.59999883e-01,  9.99999881e-01]),\n",
              " <BarContainer object of 50 artists>)"
            ]
          },
          "metadata": {},
          "execution_count": 18
        },
        {
          "output_type": "display_data",
          "data": {
            "text/plain": [
              "<Figure size 640x480 with 1 Axes>"
            ],
            "image/png": "[encoded data removed]"
          },
          "metadata": {}
        }
      ]
    },
    {
      "cell_type": "code",
      "source": [
        "plt.hist(hpreact.view(-1).tolist(),50)"
      ],
      "metadata": {
        "colab": {
          "base_uri": "https://localhost:8080/",
          "height": 829
        },
        "id": "iiqSzzDs9D4n",
        "outputId": "79a22a4e-98c0-40e1-c5a4-8a6130dd0773"
      },
      "execution_count": 19,
      "outputs": [
        {
          "output_type": "execute_result",
          "data": {
            "text/plain": [
              "(array([1.00e+00, 0.00e+00, 0.00e+00, 0.00e+00, 0.00e+00, 2.00e+00,\n",
              "        1.00e+00, 2.00e+00, 5.00e+00, 2.00e+00, 5.00e+00, 7.00e+00,\n",
              "        9.00e+00, 1.00e+01, 3.30e+01, 3.30e+01, 4.30e+01, 4.20e+01,\n",
              "        6.80e+01, 8.30e+01, 1.22e+02, 1.43e+02, 1.68e+02, 2.27e+02,\n",
              "        2.88e+02, 2.97e+02, 3.75e+02, 5.58e+02, 1.04e+03, 6.25e+02,\n",
              "        3.64e+02, 3.91e+02, 2.90e+02, 2.50e+02, 2.08e+02, 1.61e+02,\n",
              "        1.36e+02, 1.11e+02, 8.40e+01, 6.60e+01, 3.20e+01, 3.00e+01,\n",
              "        3.30e+01, 2.00e+01, 1.30e+01, 5.00e+00, 8.00e+00, 4.00e+00,\n",
              "        3.00e+00, 2.00e+00]),\n",
              " array([-11.0007267 , -10.61599222, -10.23125774,  -9.84652327,\n",
              "         -9.46178879,  -9.07705431,  -8.69231983,  -8.30758535,\n",
              "         -7.92285088,  -7.5381164 ,  -7.15338192,  -6.76864744,\n",
              "         -6.38391296,  -5.99917849,  -5.61444401,  -5.22970953,\n",
              "         -4.84497505,  -4.46024057,  -4.0755061 ,  -3.69077162,\n",
              "         -3.30603714,  -2.92130266,  -2.53656818,  -2.15183371,\n",
              "         -1.76709923,  -1.38236475,  -0.99763027,  -0.61289579,\n",
              "         -0.22816132,   0.15657316,   0.54130764,   0.92604212,\n",
              "          1.3107766 ,   1.69551107,   2.08024555,   2.46498003,\n",
              "          2.84971451,   3.23444899,   3.61918346,   4.00391794,\n",
              "          4.38865242,   4.7733869 ,   5.15812138,   5.54285585,\n",
              "          5.92759033,   6.31232481,   6.69705929,   7.08179377,\n",
              "          7.46652824,   7.85126272,   8.2359972 ]),\n",
              " <BarContainer object of 50 artists>)"
            ]
          },
          "metadata": {},
          "execution_count": 19
        },
        {
          "output_type": "display_data",
          "data": {
            "text/plain": [
              "<Figure size 640x480 with 1 Axes>"
            ],
            "image/png": "[encoded data removed]"
          },
          "metadata": {}
        }
      ]
    },
    {
      "cell_type": "code",
      "source": [
        "plt.figure(figsize=(20,10))\n",
        "plt.imshow(h.abs()>0.5, cmap='gray', interpolation='nearest')"
      ],
      "metadata": {
        "colab": {
          "base_uri": "https://localhost:8080/",
          "height": 238
        },
        "id": "Bz3o962L9KRC",
        "outputId": "67fffb74-ca10-4366-d47f-af2333f54ac5"
      },
      "execution_count": 20,
      "outputs": [
        {
          "output_type": "execute_result",
          "data": {
            "text/plain": [
              "<matplotlib.image.AxesImage at 0x79ae669e8ee0>"
            ]
          },
          "metadata": {},
          "execution_count": 20
        },
        {
          "output_type": "display_data",
          "data": {
            "text/plain": [
              "<Figure size 2000x1000 with 1 Axes>"
            ],
            "image/png": "[encoded data removed]"
          },
          "metadata": {}
        }
      ]
    },
    {
      "cell_type": "markdown",
      "source": [
        "Calculating the initial scale.\n",
        "1. Divide by the square root of fan in\n",
        "2. if the standard deviation is higher than the x, we have the y spread out largely.\n",
        "3. If the standard deviation is smaller, it does not spread"
      ],
      "metadata": {
        "id": "VvFkXftKAgti"
      }
    },
    {
      "cell_type": "code",
      "source": [
        "x= torch.randn(1000, 10)\n",
        "w= torch.randn(10, 20) / (10 ** 0.5) # fan in is 10, the dimension which does not stay in the y but a criteria to multiply\n",
        "y = x @ w\n",
        "print(x.mean(), x.std())\n",
        "print(y.mean(), y.std())\n",
        "plt.figure(figsize=(20,5))\n",
        "plt.subplot(1,2,1)\n",
        "plt.hist(x.view(-1).tolist(),50, density = True)\n",
        "plt.subplot(1,2,2)\n",
        "plt.hist(y.view(-1).tolist(),50, density = True)"
      ],
      "metadata": {
        "colab": {
          "base_uri": "https://localhost:8080/",
          "height": 780
        },
        "id": "sx34VGpWAgKw",
        "outputId": "c688f7ea-4461-4f81-e19a-b7e4de582bd6"
      },
      "execution_count": 21,
      "outputs": [
        {
          "output_type": "stream",
          "name": "stdout",
          "text": [
            "tensor(0.0063) tensor(0.9848)\n",
            "tensor(0.0069) tensor(0.8728)\n"
          ]
        },
        {
          "output_type": "execute_result",
          "data": {
            "text/plain": [
              "(array([3.01271120e-04, 0.00000000e+00, 6.02542239e-04, 9.03813359e-04,\n",
              "        1.80762672e-03, 1.50635560e-03, 2.10889784e-03, 7.53177799e-03,\n",
              "        1.23521159e-02, 1.71724538e-02, 2.74156719e-02, 3.58512632e-02,\n",
              "        5.75427839e-02, 7.59203222e-02, 1.03637265e-01, 1.34969462e-01,\n",
              "        1.80762672e-01, 2.32581304e-01, 2.77470701e-01, 3.47365601e-01,\n",
              "        3.97677878e-01, 4.52207951e-01, 4.99808788e-01, 4.74803285e-01,\n",
              "        4.68777862e-01, 4.36843124e-01, 3.75986357e-01, 3.22962640e-01,\n",
              "        2.66926212e-01, 2.18421562e-01, 1.68711827e-01, 1.22617346e-01,\n",
              "        1.00925825e-01, 6.53758330e-02, 4.36843124e-02, 3.19347387e-02,\n",
              "        1.59673693e-02, 1.86788094e-02, 9.64067583e-03, 6.02542239e-03,\n",
              "        3.01271120e-03, 1.80762672e-03, 2.10889784e-03, 3.01271120e-04,\n",
              "        9.03813359e-04, 3.01271120e-04, 0.00000000e+00, 6.02542239e-04,\n",
              "        3.01271120e-04, 3.01271120e-04]),\n",
              " array([-3.86516809, -3.69920463, -3.53324116, -3.36727769, -3.20131422,\n",
              "        -3.03535075, -2.86938728, -2.70342381, -2.53746035, -2.37149688,\n",
              "        -2.20553341, -2.03956994, -1.87360647, -1.707643  , -1.54167953,\n",
              "        -1.37571607, -1.2097526 , -1.04378913, -0.87782566, -0.71186219,\n",
              "        -0.54589872, -0.37993526, -0.21397179, -0.04800832,  0.11795515,\n",
              "         0.28391862,  0.44988209,  0.61584556,  0.78180902,  0.94777249,\n",
              "         1.11373596,  1.27969943,  1.4456629 ,  1.61162637,  1.77758984,\n",
              "         1.9435533 ,  2.10951677,  2.27548024,  2.44144371,  2.60740718,\n",
              "         2.77337065,  2.93933412,  3.10529758,  3.27126105,  3.43722452,\n",
              "         3.60318799,  3.76915146,  3.93511493,  4.1010784 ,  4.26704186,\n",
              "         4.43300533]),\n",
              " <BarContainer object of 50 artists>)"
            ]
          },
          "metadata": {},
          "execution_count": 21
        },
        {
          "output_type": "display_data",
          "data": {
            "text/plain": [
              "<Figure size 2000x500 with 2 Axes>"
            ],
            "image/png": "[encoded data removed]"
          },
          "metadata": {}
        }
      ]
    },
    {
      "cell_type": "markdown",
      "source": [
        "Kaiming initialization paper suggests a gain for the activation function and how to initialize to get the best training situation."
      ],
      "metadata": {
        "id": "GxSY1JpVDRXf"
      }
    },
    {
      "cell_type": "code",
      "source": [
        "#For tanh gain is 5/3\n",
        "(5/3)/(30 ** 0.5)"
      ],
      "metadata": {
        "id": "GHG4NCuYBCgV",
        "colab": {
          "base_uri": "https://localhost:8080/"
        },
        "outputId": "a4056b1d-07ad-442b-f976-fab8586f768b"
      },
      "execution_count": 22,
      "outputs": [
        {
          "output_type": "execute_result",
          "data": {
            "text/plain": [
              "0.3042903097250923"
            ]
          },
          "metadata": {},
          "execution_count": 22
        }
      ]
    },
    {
      "cell_type": "code",
      "source": [
        "# MLP revisited\n",
        "n_embd = 10\n",
        "n_hidden = 200\n",
        "\n",
        "g = torch.Generator().manual_seed(2147483647) # for reproducibility\n",
        "C  = torch.randn((vocab_size, n_embd),            generator=g)\n",
        "W1 = torch.randn((n_embd * block_size, n_hidden), generator=g) * (5/3)/((n_embd*block_size) ** 0.5)\n",
        "b1 = torch.randn(n_hidden,                        generator=g) * 0.01\n",
        "W2 = torch.randn((n_hidden, vocab_size),          generator=g) * 0.01\n",
        "b2 = torch.randn(vocab_size,                      generator=g) * 0\n",
        "\n",
        "parameters = [C, W1, W2, b2]\n",
        "print(sum(p.nelement() for p in parameters)) # number of parameters in total\n",
        "for p in parameters:\n",
        "  p.requires_grad = True"
      ],
      "metadata": {
        "colab": {
          "base_uri": "https://localhost:8080/"
        },
        "id": "KZRaJiX-Dv5U",
        "outputId": "ef23c57a-03da-4cce-cb74-649bbbb791ea"
      },
      "execution_count": 23,
      "outputs": [
        {
          "output_type": "stream",
          "name": "stdout",
          "text": [
            "11697\n"
          ]
        }
      ]
    },
    {
      "cell_type": "code",
      "source": [
        "# same optimization as last time\n",
        "max_steps = 200000\n",
        "batch_size = 32\n",
        "lossi = []\n",
        "\n",
        "for i in range(max_steps):\n",
        "\n",
        "  # minibatch construct\n",
        "  ix = torch.randint(0, Xtr.shape[0], (batch_size,), generator=g)\n",
        "  Xb, Yb = Xtr[ix], Ytr[ix] # batch X,Y\n",
        "\n",
        "  # forward pass\n",
        "  emb = C[Xb] # embed the characters into vectors\n",
        "  embcat = emb.view(emb.shape[0], -1) # concatenate the vectors\n",
        "  # Linear layer\n",
        "  hpreact = embcat @ W1 + b1 # hidden layer pre-activation\n",
        "\n",
        "  # -------------------------------------------------------------\n",
        "  # Non-linearity\n",
        "  h = torch.tanh(hpreact) # hidden layer\n",
        "  logits = h @ W2 + b2 # output layer\n",
        "  loss = F.cross_entropy(logits, Yb) # loss function\n",
        "\n",
        "  # backward pass\n",
        "  for p in parameters:\n",
        "    p.grad = None\n",
        "  loss.backward()\n",
        "\n",
        "  # update\n",
        "  lr = 0.1 if i < 100000 else 0.01 # step learning rate decay\n",
        "  for p in parameters:\n",
        "    p.data += -lr * p.grad\n",
        "\n",
        "  # track stats\n",
        "  if i % 10000 == 0: # print every once in a while\n",
        "    print(f'{i:7d}/{max_steps:7d}: {loss.item():.4f}')\n",
        "  lossi.append(loss.log10().item())\n",
        "  #break"
      ],
      "metadata": {
        "colab": {
          "base_uri": "https://localhost:8080/"
        },
        "id": "VjTrFkuWEIL0",
        "outputId": "4d8cfd65-ade8-4957-e744-6122c7bcdb5c"
      },
      "execution_count": 24,
      "outputs": [
        {
          "output_type": "stream",
          "name": "stdout",
          "text": [
            "      0/ 200000: 3.3179\n",
            "  10000/ 200000: 2.1928\n",
            "  20000/ 200000: 2.3333\n",
            "  30000/ 200000: 2.5376\n",
            "  40000/ 200000: 1.9618\n",
            "  50000/ 200000: 2.3344\n",
            "  60000/ 200000: 2.3849\n",
            "  70000/ 200000: 2.1605\n",
            "  80000/ 200000: 2.3181\n",
            "  90000/ 200000: 2.2200\n",
            " 100000/ 200000: 1.8285\n",
            " 110000/ 200000: 2.1300\n",
            " 120000/ 200000: 1.9468\n",
            " 130000/ 200000: 2.3329\n",
            " 140000/ 200000: 2.1031\n",
            " 150000/ 200000: 2.1707\n",
            " 160000/ 200000: 1.7700\n",
            " 170000/ 200000: 1.7840\n",
            " 180000/ 200000: 1.9529\n",
            " 190000/ 200000: 1.8062\n"
          ]
        }
      ]
    },
    {
      "cell_type": "code",
      "source": [
        "plt.plot(lossi)"
      ],
      "metadata": {
        "colab": {
          "base_uri": "https://localhost:8080/",
          "height": 447
        },
        "id": "Z_zaLckWEUjM",
        "outputId": "a17d7d12-35c7-4022-d221-8ede629a377c"
      },
      "execution_count": 25,
      "outputs": [
        {
          "output_type": "execute_result",
          "data": {
            "text/plain": [
              "[<matplotlib.lines.Line2D at 0x79ae63d842e0>]"
            ]
          },
          "metadata": {},
          "execution_count": 25
        },
        {
          "output_type": "display_data",
          "data": {
            "text/plain": [
              "<Figure size 640x480 with 1 Axes>"
            ],
            "image/png": "[encoded data removed]"
          },
          "metadata": {}
        }
      ]
    },
    {
      "cell_type": "code",
      "source": [
        "@torch.no_grad() # this decorator disables gradient tracking\n",
        "def split_loss(split):\n",
        "  x,y = {\n",
        "    'train': (Xtr, Ytr),\n",
        "    'val': (Xdev, Ydev),\n",
        "    'test': (Xte, Yte),\n",
        "  }[split]\n",
        "  emb = C[x]\n",
        "  embcat = emb.view(emb.shape[0], -1)\n",
        "  hpreact = embcat @ W1  + b1\n",
        "  h = torch.tanh(hpreact) # (N, n_hidden)\n",
        "  logits = h @ W2 + b2 # (N, vocab_size)\n",
        "  loss = F.cross_entropy(logits, y)\n",
        "  print(split, loss.item())\n",
        "\n",
        "split_loss('train')\n",
        "split_loss('val')"
      ],
      "metadata": {
        "colab": {
          "base_uri": "https://localhost:8080/"
        },
        "id": "luZzKmLyEjNB",
        "outputId": "ccd3d7be-35ed-4732-cc88-c62ef7f58a58"
      },
      "execution_count": 26,
      "outputs": [
        {
          "output_type": "stream",
          "name": "stdout",
          "text": [
            "train 2.0394740104675293\n",
            "val 2.109386444091797\n"
          ]
        }
      ]
    },
    {
      "cell_type": "code",
      "source": [
        "plt.hist(h.view(-1).tolist(),50)"
      ],
      "metadata": {
        "colab": {
          "base_uri": "https://localhost:8080/",
          "height": 656
        },
        "id": "A1Oixqy5EpGj",
        "outputId": "142383ba-b9f5-4014-ec69-83345e87f366"
      },
      "execution_count": 27,
      "outputs": [
        {
          "output_type": "execute_result",
          "data": {
            "text/plain": [
              "(array([1076.,  211.,  170.,  107.,   99.,   79.,   74.,   52.,   86.,\n",
              "          50.,   65.,   49.,   53.,   67.,   49.,   69.,   84.,  110.,\n",
              "          58.,   93.,   73.,   63.,   95.,   78.,  111.,   79.,  129.,\n",
              "          87.,   95.,   85.,   62.,   72.,   73.,   74.,   68.,   60.,\n",
              "          69.,   67.,   65.,   68.,   60.,   79.,   91.,   67.,  107.,\n",
              "          95.,  130.,  167.,  238., 1092.]),\n",
              " array([-1.  , -0.96, -0.92, -0.88, -0.84, -0.8 , -0.76, -0.72, -0.68,\n",
              "        -0.64, -0.6 , -0.56, -0.52, -0.48, -0.44, -0.4 , -0.36, -0.32,\n",
              "        -0.28, -0.24, -0.2 , -0.16, -0.12, -0.08, -0.04,  0.  ,  0.04,\n",
              "         0.08,  0.12,  0.16,  0.2 ,  0.24,  0.28,  0.32,  0.36,  0.4 ,\n",
              "         0.44,  0.48,  0.52,  0.56,  0.6 ,  0.64,  0.68,  0.72,  0.76,\n",
              "         0.8 ,  0.84,  0.88,  0.92,  0.96,  1.  ]),\n",
              " <BarContainer object of 50 artists>)"
            ]
          },
          "metadata": {},
          "execution_count": 27
        },
        {
          "output_type": "display_data",
          "data": {
            "text/plain": [
              "<Figure size 640x480 with 1 Axes>"
            ],
            "image/png": "[encoded data removed]"
          },
          "metadata": {}
        }
      ]
    },
    {
      "cell_type": "code",
      "source": [
        "plt.hist(hpreact.view(-1).tolist(),50)"
      ],
      "metadata": {
        "colab": {
          "base_uri": "https://localhost:8080/",
          "height": 725
        },
        "id": "vDe5cM4VEwX3",
        "outputId": "ad796a48-d3c8-4b81-eed9-720dc19f76a2"
      },
      "execution_count": 28,
      "outputs": [
        {
          "output_type": "execute_result",
          "data": {
            "text/plain": [
              "(array([  1.,   2.,   0.,   1.,   3.,   5.,   8.,   7.,  13.,  24.,  27.,\n",
              "         37.,  56.,  56.,  91., 107., 135., 180., 189., 204., 268., 307.,\n",
              "        345., 545., 877., 599., 427., 343., 316., 243., 213., 174., 126.,\n",
              "        109.,  88.,  73.,  44.,  48.,  34.,  23.,  21.,  12.,   7.,   3.,\n",
              "          3.,   1.,   1.,   2.,   1.,   1.]),\n",
              " array([-9.66356754, -9.2710623 , -8.87855705, -8.48605181, -8.09354656,\n",
              "        -7.70104132, -7.30853607, -6.91603083, -6.52352558, -6.13102034,\n",
              "        -5.73851509, -5.34600985, -4.9535046 , -4.56099936, -4.16849411,\n",
              "        -3.77598886, -3.38348362, -2.99097837, -2.59847313, -2.20596788,\n",
              "        -1.81346264, -1.42095739, -1.02845215, -0.6359469 , -0.24344166,\n",
              "         0.14906359,  0.54156883,  0.93407408,  1.32657932,  1.71908457,\n",
              "         2.11158981,  2.50409506,  2.8966003 ,  3.28910555,  3.68161079,\n",
              "         4.07411604,  4.46662128,  4.85912653,  5.25163177,  5.64413702,\n",
              "         6.03664227,  6.42914751,  6.82165276,  7.214158  ,  7.60666325,\n",
              "         7.99916849,  8.39167374,  8.78417898,  9.17668423,  9.56918947,\n",
              "         9.96169472]),\n",
              " <BarContainer object of 50 artists>)"
            ]
          },
          "metadata": {},
          "execution_count": 28
        },
        {
          "output_type": "display_data",
          "data": {
            "text/plain": [
              "<Figure size 640x480 with 1 Axes>"
            ],
            "image/png": "[encoded data removed]"
          },
          "metadata": {}
        }
      ]
    },
    {
      "cell_type": "code",
      "source": [
        "plt.figure(figsize=(20,10))\n",
        "plt.imshow(h.abs()>0.5, cmap='gray', interpolation='nearest')"
      ],
      "metadata": {
        "colab": {
          "base_uri": "https://localhost:8080/",
          "height": 238
        },
        "id": "lSfwJE_rE01W",
        "outputId": "3f360d48-a09d-4410-fc61-fed43eedf617"
      },
      "execution_count": 29,
      "outputs": [
        {
          "output_type": "execute_result",
          "data": {
            "text/plain": [
              "<matplotlib.image.AxesImage at 0x79ae63a5ba90>"
            ]
          },
          "metadata": {},
          "execution_count": 29
        },
        {
          "output_type": "display_data",
          "data": {
            "text/plain": [
              "<Figure size 2000x1000 with 1 Axes>"
            ],
            "image/png": "[encoded data removed]"
          },
          "metadata": {}
        }
      ]
    },
    {
      "cell_type": "markdown",
      "source": [
        "**Batch Normalization**\n",
        "Normalizing batch can help the initialization to be normal.Not just roughly normal. It can help training greatly. But additionally, we need to add some normalization gain. Otherwise, every time h preactivation will be set to normal. We want it to move around and gradient to tell us where the graph should be shifted.\n",
        "\n",
        "\n",
        "\n",
        "*   Batch Normalization makes some of the batch examples normal which looks like a bug. Cause problem is we are coupling some samples and make them normal which is mathematically problematic.\n",
        "*   Weirdly, this is good. Because it works as regularizer which helps the model not to overfit on training set. So, we can not discard it.\n",
        "\n"
      ],
      "metadata": {
        "id": "p3GR2U6VK3kx"
      }
    },
    {
      "cell_type": "code",
      "source": [
        "hpreact.shape"
      ],
      "metadata": {
        "colab": {
          "base_uri": "https://localhost:8080/"
        },
        "id": "t3lqd3ucLHa6",
        "outputId": "1d83f022-d220-48b5-9dee-fa8a0916782c"
      },
      "execution_count": 30,
      "outputs": [
        {
          "output_type": "execute_result",
          "data": {
            "text/plain": [
              "torch.Size([32, 200])"
            ]
          },
          "metadata": {},
          "execution_count": 30
        }
      ]
    },
    {
      "cell_type": "code",
      "source": [
        "hpreact.mean(0, keepdim=True).shape"
      ],
      "metadata": {
        "colab": {
          "base_uri": "https://localhost:8080/"
        },
        "id": "HTQVnvWjLMiS",
        "outputId": "7603f1ef-1a69-43f5-d9ea-791dd32d9286"
      },
      "execution_count": 31,
      "outputs": [
        {
          "output_type": "execute_result",
          "data": {
            "text/plain": [
              "torch.Size([1, 200])"
            ]
          },
          "metadata": {},
          "execution_count": 31
        }
      ]
    },
    {
      "cell_type": "code",
      "source": [
        "hpreact.std(0, keepdim=True).shape"
      ],
      "metadata": {
        "colab": {
          "base_uri": "https://localhost:8080/"
        },
        "id": "rA6lNxPMLSDq",
        "outputId": "5753ebf1-6a7f-4abc-ea4b-57a7d722c412"
      },
      "execution_count": 32,
      "outputs": [
        {
          "output_type": "execute_result",
          "data": {
            "text/plain": [
              "torch.Size([1, 200])"
            ]
          },
          "metadata": {},
          "execution_count": 32
        }
      ]
    },
    {
      "cell_type": "code",
      "source": [
        "# MLP revisited\n",
        "n_embd = 10\n",
        "n_hidden = 200\n",
        "\n",
        "g = torch.Generator().manual_seed(2147483647) # for reproducibility\n",
        "C  = torch.randn((vocab_size, n_embd),            generator=g)\n",
        "W1 = torch.randn((n_embd * block_size, n_hidden), generator=g) * (5/3)/((n_embd*block_size) ** 0.5)\n",
        "b1 = torch.randn(n_hidden,                        generator=g) * 0.01\n",
        "W2 = torch.randn((n_hidden, vocab_size),          generator=g) * 0.01\n",
        "b2 = torch.randn(vocab_size,                      generator=g) * 0\n",
        "\n",
        "bngain = torch.ones((1, n_hidden))\n",
        "bnbias = torch.zeros((1, n_hidden)) #for batch normalization for gain and bias\n",
        "parameters = [C, W1, W2, b2, bngain,bnbias]\n",
        "print(sum(p.nelement() for p in parameters)) # number of parameters in total\n",
        "for p in parameters:\n",
        "  p.requires_grad = True"
      ],
      "metadata": {
        "colab": {
          "base_uri": "https://localhost:8080/"
        },
        "id": "6OyrEeWHNRq2",
        "outputId": "709a1c99-9856-4874-f6fe-e0d508eab864"
      },
      "execution_count": 33,
      "outputs": [
        {
          "output_type": "stream",
          "name": "stdout",
          "text": [
            "12097\n"
          ]
        }
      ]
    },
    {
      "cell_type": "code",
      "source": [
        "# same optimization as last time\n",
        "max_steps = 200000\n",
        "batch_size = 32\n",
        "lossi = []\n",
        "\n",
        "for i in range(max_steps):\n",
        "\n",
        "  # minibatch construct\n",
        "  ix = torch.randint(0, Xtr.shape[0], (batch_size,), generator=g)\n",
        "  Xb, Yb = Xtr[ix], Ytr[ix] # batch X,Y\n",
        "\n",
        "  # forward pass\n",
        "  emb = C[Xb] # embed the characters into vectors\n",
        "  embcat = emb.view(emb.shape[0], -1) # concatenate the vectors\n",
        "  # Linear layer\n",
        "  hpreact = embcat @ W1 + b1 # hidden layer pre-activation\n",
        "  hpreact = hpreact - hpreact.mean(0, keepdim=True)\n",
        "  hpreact = hpreact / hpreact.std(0, keepdim=True)\n",
        "  hpreact = bngain * hpreact + bnbias\n",
        "  # -------------------------------------------------------------\n",
        "  # Non-linearity\n",
        "  h = torch.tanh(hpreact) # hidden layer\n",
        "  logits = h @ W2 + b2 # output layer\n",
        "  loss = F.cross_entropy(logits, Yb) # loss function\n",
        "\n",
        "  # backward pass\n",
        "  for p in parameters:\n",
        "    p.grad = None\n",
        "  loss.backward()\n",
        "\n",
        "  # update\n",
        "  lr = 0.1 if i < 100000 else 0.01 # step learning rate decay\n",
        "  for p in parameters:\n",
        "    p.data += -lr * p.grad\n",
        "\n",
        "  # track stats\n",
        "  if i % 10000 == 0: # print every once in a while\n",
        "    print(f'{i:7d}/{max_steps:7d}: {loss.item():.4f}')\n",
        "  lossi.append(loss.log10().item())"
      ],
      "metadata": {
        "colab": {
          "base_uri": "https://localhost:8080/"
        },
        "id": "7Gdqhoz0E6NN",
        "outputId": "a031e3e4-3d89-4faa-bbbb-874b1682f16f"
      },
      "execution_count": 34,
      "outputs": [
        {
          "output_type": "stream",
          "name": "stdout",
          "text": [
            "      0/ 200000: 3.3147\n",
            "  10000/ 200000: 2.1984\n",
            "  20000/ 200000: 2.3375\n",
            "  30000/ 200000: 2.4359\n",
            "  40000/ 200000: 2.0119\n",
            "  50000/ 200000: 2.2595\n",
            "  60000/ 200000: 2.4775\n",
            "  70000/ 200000: 2.1020\n",
            "  80000/ 200000: 2.2788\n",
            "  90000/ 200000: 2.1862\n",
            " 100000/ 200000: 1.9474\n",
            " 110000/ 200000: 2.3010\n",
            " 120000/ 200000: 1.9837\n",
            " 130000/ 200000: 2.4523\n",
            " 140000/ 200000: 2.3839\n",
            " 150000/ 200000: 2.1987\n",
            " 160000/ 200000: 1.9733\n",
            " 170000/ 200000: 1.8668\n",
            " 180000/ 200000: 1.9973\n",
            " 190000/ 200000: 1.8347\n"
          ]
        }
      ]
    },
    {
      "cell_type": "markdown",
      "source": [
        "Problem during test time: The neural net now wants batch size to normalize the batches. In the test set, we give individual data to the model and get an output for it. That does not seem to be possible right here. So, we calculate mean of batch gain and bias for that and use that in the training set."
      ],
      "metadata": {
        "id": "NtArpwyVS6gy"
      }
    },
    {
      "cell_type": "code",
      "source": [
        "with torch.no_grad():\n",
        "  emb = C[Xtr]\n",
        "  embcat = emb.view(emb.shape[0], -1)\n",
        "  hpreact = embcat @ W1 + b1\n",
        "#calculate the mean and std for the whole training set\n",
        "  bnmean = hpreact.mean(0, keepdim=True)\n",
        "  bnstd = hpreact.std(0, keepdim=True)"
      ],
      "metadata": {
        "id": "VIFkp8MjTTmQ"
      },
      "execution_count": 35,
      "outputs": []
    },
    {
      "cell_type": "code",
      "source": [
        "@torch.no_grad() # this decorator disables gradient tracking\n",
        "def split_loss(split):\n",
        "  x,y = {\n",
        "    'train': (Xtr, Ytr),\n",
        "    'val': (Xdev, Ydev),\n",
        "    'test': (Xte, Yte),\n",
        "  }[split]\n",
        "  emb = C[x]\n",
        "  embcat = emb.view(emb.shape[0], -1)\n",
        "  hpreact = embcat @ W1 + b1 # hidden layer pre-activation\n",
        "  hpreact = bngain * ((hpreact-bnmean)/bnstd) + bnbias\n",
        "  h = torch.tanh(hpreact) # (N, n_hidden)\n",
        "  logits = h @ W2 + b2 # (N, vocab_size)\n",
        "  loss = F.cross_entropy(logits, y)\n",
        "  print(split, loss.item())\n",
        "\n",
        "split_loss('train')\n",
        "split_loss('val')"
      ],
      "metadata": {
        "colab": {
          "base_uri": "https://localhost:8080/"
        },
        "id": "9akXwrkyMche",
        "outputId": "abf60358-6589-4eb9-f598-2a91afdeb0f0"
      },
      "execution_count": 41,
      "outputs": [
        {
          "output_type": "stream",
          "name": "stdout",
          "text": [
            "train 2.0668270587921143\n",
            "val 2.104926824569702\n"
          ]
        }
      ]
    },
    {
      "cell_type": "markdown",
      "source": [
        "Let's introduce running mean and standard deviation and not putting an extra layer of code after a certain training completion. We just want to go straight to test"
      ],
      "metadata": {
        "id": "-8-265u4T_tQ"
      }
    },
    {
      "cell_type": "code",
      "source": [
        "# MLP revisited\n",
        "n_embd = 10\n",
        "n_hidden = 200\n",
        "\n",
        "g = torch.Generator().manual_seed(2147483647) # for reproducibility\n",
        "C  = torch.randn((vocab_size, n_embd),            generator=g)\n",
        "W1 = torch.randn((n_embd * block_size, n_hidden), generator=g) * (5/3)/((n_embd*block_size) ** 0.5)\n",
        "b1 = torch.randn(n_hidden,                        generator=g) * 0.01\n",
        "W2 = torch.randn((n_hidden, vocab_size),          generator=g) * 0.01\n",
        "b2 = torch.randn(vocab_size,                      generator=g) * 0\n",
        "\n",
        "bngain = torch.ones((1, n_hidden))\n",
        "bnbias = torch.zeros((1, n_hidden)) #for batch normalization for gain and bias\n",
        "bnmean_running = torch.zeros((1, n_hidden))\n",
        "bnstd_running = torch.ones((1, n_hidden))\n",
        "parameters = [C, W1, W2, b2, bngain,bnbias]\n",
        "print(sum(p.nelement() for p in parameters)) # number of parameters in total\n",
        "for p in parameters:\n",
        "  p.requires_grad = True"
      ],
      "metadata": {
        "colab": {
          "base_uri": "https://localhost:8080/"
        },
        "id": "_-RNkYKHOuFs",
        "outputId": "aa41688f-9db4-42ce-a3d0-bf316ad0b086"
      },
      "execution_count": 37,
      "outputs": [
        {
          "output_type": "stream",
          "name": "stdout",
          "text": [
            "12097\n"
          ]
        }
      ]
    },
    {
      "cell_type": "code",
      "source": [
        "# same optimization as last time\n",
        "max_steps = 200000\n",
        "batch_size = 32\n",
        "lossi = []\n",
        "\n",
        "for i in range(max_steps):\n",
        "\n",
        "  # minibatch construct\n",
        "  ix = torch.randint(0, Xtr.shape[0], (batch_size,), generator=g)\n",
        "  Xb, Yb = Xtr[ix], Ytr[ix] # batch X,Y\n",
        "\n",
        "  # forward pass\n",
        "  emb = C[Xb] # embed the characters into vectors\n",
        "  embcat = emb.view(emb.shape[0], -1) # concatenate the vectors\n",
        "  # Linear layer\n",
        "  hpreact = embcat @ W1 + b1 # hidden layer pre-activation\n",
        "  bnmean_i = hpreact.mean(0, keepdim=True)\n",
        "  bnstd_i = hpreact.std(0, keepdim=True)\n",
        "  hpreact = bngain * ((hpreact-bnmean_i)/bnstd_i) + bnbias\n",
        "\n",
        "  with torch.no_grad():\n",
        "    bnmean_running = 0.999 * bnmean_running + 0.001 * bnmean_i\n",
        "    bnstd_running = 0.999 * bnstd_running + 0.001 * bnstd_i\n",
        "  # -------------------------------------------------------------\n",
        "  # Non-linearity\n",
        "  h = torch.tanh(hpreact) # hidden layer\n",
        "  logits = h @ W2 + b2 # output layer\n",
        "  loss = F.cross_entropy(logits, Yb) # loss function\n",
        "\n",
        "  # backward pass\n",
        "  for p in parameters:\n",
        "    p.grad = None\n",
        "  loss.backward()\n",
        "\n",
        "  # update\n",
        "  lr = 0.1 if i < 100000 else 0.01 # step learning rate decay\n",
        "  for p in parameters:\n",
        "    p.data += -lr * p.grad\n",
        "\n",
        "  # track stats\n",
        "  if i % 10000 == 0: # print every once in a while\n",
        "    print(f'{i:7d}/{max_steps:7d}: {loss.item():.4f}')\n",
        "  lossi.append(loss.log10().item())"
      ],
      "metadata": {
        "colab": {
          "base_uri": "https://localhost:8080/"
        },
        "id": "FAq_AfERVxow",
        "outputId": "b6334adb-b7f8-4ecb-9707-a007a3530e5f"
      },
      "execution_count": 38,
      "outputs": [
        {
          "output_type": "stream",
          "name": "stdout",
          "text": [
            "      0/ 200000: 3.3147\n",
            "  10000/ 200000: 2.1984\n",
            "  20000/ 200000: 2.3375\n",
            "  30000/ 200000: 2.4359\n",
            "  40000/ 200000: 2.0119\n",
            "  50000/ 200000: 2.2595\n",
            "  60000/ 200000: 2.4775\n",
            "  70000/ 200000: 2.1020\n",
            "  80000/ 200000: 2.2788\n",
            "  90000/ 200000: 2.1862\n",
            " 100000/ 200000: 1.9474\n",
            " 110000/ 200000: 2.3010\n",
            " 120000/ 200000: 1.9837\n",
            " 130000/ 200000: 2.4523\n",
            " 140000/ 200000: 2.3839\n",
            " 150000/ 200000: 2.1987\n",
            " 160000/ 200000: 1.9733\n",
            " 170000/ 200000: 1.8668\n",
            " 180000/ 200000: 1.9973\n",
            " 190000/ 200000: 1.8347\n"
          ]
        }
      ]
    },
    {
      "cell_type": "code",
      "source": [
        "@torch.no_grad() # this decorator disables gradient tracking\n",
        "def split_loss(split):\n",
        "  x,y = {\n",
        "    'train': (Xtr, Ytr),\n",
        "    'val': (Xdev, Ydev),\n",
        "    'test': (Xte, Yte),\n",
        "  }[split]\n",
        "  emb = C[x]\n",
        "  embcat = emb.view(emb.shape[0], -1)\n",
        "  hpreact = embcat @ W1 + b1 # hidden layer pre-activation\n",
        "  hpreact = bngain * ((hpreact-bnmean_running)/bnstd_running) + bnbias\n",
        "  h = torch.tanh(hpreact) # (N, n_hidden)\n",
        "  logits = h @ W2 + b2 # (N, vocab_size)\n",
        "  loss = F.cross_entropy(logits, y)\n",
        "  print(split, loss.item())\n",
        "\n",
        "split_loss('train')\n",
        "split_loss('val')"
      ],
      "metadata": {
        "colab": {
          "base_uri": "https://localhost:8080/"
        },
        "id": "nNP9TgIyXVoP",
        "outputId": "7c3f45e2-772c-4d89-b070-07f3a054da2e"
      },
      "execution_count": 40,
      "outputs": [
        {
          "output_type": "stream",
          "name": "stdout",
          "text": [
            "train 2.06659197807312\n",
            "val 2.1050572395324707\n"
          ]
        }
      ]
    },
    {
      "cell_type": "code",
      "source": [],
      "metadata": {
        "id": "iQcxxdpLXpUQ"
      },
      "execution_count": 39,
      "outputs": []
    }
  ]
}