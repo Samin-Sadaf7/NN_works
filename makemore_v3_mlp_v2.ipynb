{
  "nbformat": 4,
  "nbformat_minor": 0,
  "metadata": {
    "colab": {
      "provenance": [],
      "authorship_tag": "ABX9TyPKqaX7qWNDXPqQmM90rPlm",
      "include_colab_link": true
    },
    "kernelspec": {
      "name": "python3",
      "display_name": "Python 3"
    },
    "language_info": {
      "name": "python"
    }
  },
  "cells": [
    {
      "cell_type": "markdown",
      "metadata": {
        "id": "view-in-github",
        "colab_type": "text"
      },
      "source": [
        "<a href=\"https://colab.research.google.com/github/Samin-Sadaf7/NN_works/blob/main/makemore_v3_mlp_v2.ipynb\" target=\"_parent\"><img src=\"https://colab.research.google.com/assets/colab-badge.svg\" alt=\"Open In Colab\"/></a>"
      ]
    },
    {
      "cell_type": "code",
      "execution_count": 1,
      "metadata": {
        "id": "i89nuT2612MB"
      },
      "outputs": [],
      "source": [
        "import torch\n",
        "import torch.nn.functional as F\n",
        "import matplotlib.pyplot as plt # for making figures\n",
        "%matplotlib inline"
      ]
    },
    {
      "cell_type": "code",
      "source": [
        "# download the names.txt file from github\n",
        "!wget https://raw.githubusercontent.com/karpathy/makemore/master/names.txt"
      ],
      "metadata": {
        "colab": {
          "base_uri": "https://localhost:8080/"
        },
        "id": "cXTjTify1-i9",
        "outputId": "dbcb4c95-6d05-4f66-f349-8dc09b586d4d"
      },
      "execution_count": 2,
      "outputs": [
        {
          "output_type": "stream",
          "name": "stdout",
          "text": [
            "--2024-07-04 09:16:11--  https://raw.githubusercontent.com/karpathy/makemore/master/names.txt\n",
            "Resolving raw.githubusercontent.com (raw.githubusercontent.com)... 185.199.111.133, 185.199.109.133, 185.199.110.133, ...\n",
            "Connecting to raw.githubusercontent.com (raw.githubusercontent.com)|185.199.111.133|:443... connected.\n",
            "HTTP request sent, awaiting response... 200 OK\n",
            "Length: 228145 (223K) [text/plain]\n",
            "Saving to: ‘names.txt’\n",
            "\n",
            "names.txt           100%[===================>] 222.80K  --.-KB/s    in 0.04s   \n",
            "\n",
            "2024-07-04 09:16:12 (6.01 MB/s) - ‘names.txt’ saved [228145/228145]\n",
            "\n"
          ]
        }
      ]
    },
    {
      "cell_type": "code",
      "source": [
        "# read in all the words\n",
        "words = open('names.txt', 'r').read().splitlines()\n",
        "words[:8]"
      ],
      "metadata": {
        "colab": {
          "base_uri": "https://localhost:8080/"
        },
        "id": "uSkr615G2AbI",
        "outputId": "8f7f800e-f2e9-45ca-d7dc-bd2d6cc73f14"
      },
      "execution_count": 3,
      "outputs": [
        {
          "output_type": "execute_result",
          "data": {
            "text/plain": [
              "['emma', 'olivia', 'ava', 'isabella', 'sophia', 'charlotte', 'mia', 'amelia']"
            ]
          },
          "metadata": {},
          "execution_count": 3
        }
      ]
    },
    {
      "cell_type": "code",
      "source": [
        "len(words)"
      ],
      "metadata": {
        "colab": {
          "base_uri": "https://localhost:8080/"
        },
        "id": "ScW2iMkr2CHa",
        "outputId": "618ac0fc-0822-4e99-9c5f-c709a53ec00b"
      },
      "execution_count": 4,
      "outputs": [
        {
          "output_type": "execute_result",
          "data": {
            "text/plain": [
              "32033"
            ]
          },
          "metadata": {},
          "execution_count": 4
        }
      ]
    },
    {
      "cell_type": "code",
      "source": [
        "# build the vocabulary of characters and mappings to/from integers\n",
        "chars = sorted(list(set(''.join(words))))\n",
        "stoi = {s:i+1 for i,s in enumerate(chars)}\n",
        "stoi['.'] = 0\n",
        "itos = {i:s for s,i in stoi.items()}\n",
        "vocab_size = len(itos)\n",
        "print(itos)\n",
        "print(vocab_size)"
      ],
      "metadata": {
        "colab": {
          "base_uri": "https://localhost:8080/"
        },
        "id": "CaWmJTXv2E1F",
        "outputId": "b75a095b-c2f8-4a4f-cb24-4b8c972025b4"
      },
      "execution_count": 5,
      "outputs": [
        {
          "output_type": "stream",
          "name": "stdout",
          "text": [
            "{1: 'a', 2: 'b', 3: 'c', 4: 'd', 5: 'e', 6: 'f', 7: 'g', 8: 'h', 9: 'i', 10: 'j', 11: 'k', 12: 'l', 13: 'm', 14: 'n', 15: 'o', 16: 'p', 17: 'q', 18: 'r', 19: 's', 20: 't', 21: 'u', 22: 'v', 23: 'w', 24: 'x', 25: 'y', 26: 'z', 0: '.'}\n",
            "27\n"
          ]
        }
      ]
    },
    {
      "cell_type": "code",
      "source": [
        "# build the dataset\n",
        "block_size = 3 # context length: how many characters do we take to predict the next one?\n",
        "\n",
        "def build_dataset(words):\n",
        "  X, Y = [], []\n",
        "\n",
        "  for w in words:\n",
        "    context = [0] * block_size\n",
        "    for ch in w + '.':\n",
        "      ix = stoi[ch]\n",
        "      X.append(context)\n",
        "      Y.append(ix)\n",
        "      context = context[1:] + [ix] # crop and append\n",
        "\n",
        "  X = torch.tensor(X)\n",
        "  Y = torch.tensor(Y)\n",
        "  print(X.shape, Y.shape)\n",
        "  return X, Y\n",
        "\n",
        "import random\n",
        "random.seed(42)\n",
        "random.shuffle(words)\n",
        "n1 = int(0.8*len(words))\n",
        "n2 = int(0.9*len(words))\n",
        "\n",
        "Xtr,  Ytr  = build_dataset(words[:n1])     # 80%\n",
        "Xdev, Ydev = build_dataset(words[n1:n2])   # 10%\n",
        "Xte,  Yte  = build_dataset(words[n2:])     # 10%"
      ],
      "metadata": {
        "colab": {
          "base_uri": "https://localhost:8080/"
        },
        "id": "TpMVbmKE2Gtn",
        "outputId": "247b3cd7-52c1-4cec-9503-19784d581917"
      },
      "execution_count": 6,
      "outputs": [
        {
          "output_type": "stream",
          "name": "stdout",
          "text": [
            "torch.Size([182625, 3]) torch.Size([182625])\n",
            "torch.Size([22655, 3]) torch.Size([22655])\n",
            "torch.Size([22866, 3]) torch.Size([22866])\n"
          ]
        }
      ]
    },
    {
      "cell_type": "code",
      "source": [
        "# MLP revisited\n",
        "n_embd = 10\n",
        "n_hidden = 200\n",
        "\n",
        "g = torch.Generator().manual_seed(2147483647) # for reproducibility\n",
        "C  = torch.randn((vocab_size, n_embd),            generator=g)\n",
        "W1 = torch.randn((n_embd * block_size, n_hidden), generator=g)\n",
        "b1 = torch.randn(n_hidden,                        generator=g)\n",
        "W2 = torch.randn((n_hidden, vocab_size),          generator=g) * 0.01\n",
        "b2 = torch.randn(vocab_size,                      generator=g) * 0\n",
        "\n",
        "parameters = [C, W1, W2, b2]\n",
        "print(sum(p.nelement() for p in parameters)) # number of parameters in total\n",
        "for p in parameters:\n",
        "  p.requires_grad = True"
      ],
      "metadata": {
        "colab": {
          "base_uri": "https://localhost:8080/"
        },
        "id": "md8ySjq82JuR",
        "outputId": "2d53c999-75df-4281-aa83-3fd5901fe88a"
      },
      "execution_count": 7,
      "outputs": [
        {
          "output_type": "stream",
          "name": "stdout",
          "text": [
            "11697\n"
          ]
        }
      ]
    },
    {
      "cell_type": "code",
      "source": [
        "# same optimization as last time\n",
        "max_steps = 200000\n",
        "batch_size = 32\n",
        "lossi = []\n",
        "\n",
        "for i in range(max_steps):\n",
        "\n",
        "  # minibatch construct\n",
        "  ix = torch.randint(0, Xtr.shape[0], (batch_size,), generator=g)\n",
        "  Xb, Yb = Xtr[ix], Ytr[ix] # batch X,Y\n",
        "\n",
        "  # forward pass\n",
        "  emb = C[Xb] # embed the characters into vectors\n",
        "  embcat = emb.view(emb.shape[0], -1) # concatenate the vectors\n",
        "  # Linear layer\n",
        "  hpreact = embcat @ W1 #+ b1 # hidden layer pre-activation\n",
        "\n",
        "  # -------------------------------------------------------------\n",
        "  # Non-linearity\n",
        "  h = torch.tanh(hpreact) # hidden layer\n",
        "  logits = h @ W2 + b2 # output layer\n",
        "  loss = F.cross_entropy(logits, Yb) # loss function\n",
        "\n",
        "  # backward pass\n",
        "  for p in parameters:\n",
        "    p.grad = None\n",
        "  loss.backward()\n",
        "\n",
        "  # update\n",
        "  lr = 0.1 if i < 100000 else 0.01 # step learning rate decay\n",
        "  for p in parameters:\n",
        "    p.data += -lr * p.grad\n",
        "\n",
        "  # track stats\n",
        "  if i % 10000 == 0: # print every once in a while\n",
        "    print(f'{i:7d}/{max_steps:7d}: {loss.item():.4f}')\n",
        "  lossi.append(loss.log10().item())\n",
        "  break"
      ],
      "metadata": {
        "colab": {
          "base_uri": "https://localhost:8080/"
        },
        "id": "J-kvO9GR2W_6",
        "outputId": "803cf8da-ac31-40cf-acbb-478e12abb100"
      },
      "execution_count": 8,
      "outputs": [
        {
          "output_type": "stream",
          "name": "stdout",
          "text": [
            "      0/ 200000: 3.3277\n"
          ]
        }
      ]
    },
    {
      "cell_type": "code",
      "source": [
        "plt.plot(lossi)"
      ],
      "metadata": {
        "colab": {
          "base_uri": "https://localhost:8080/",
          "height": 447
        },
        "id": "dQNybiVS29TN",
        "outputId": "2f077a67-c666-49a5-d34a-f0b1bf498f1c"
      },
      "execution_count": 9,
      "outputs": [
        {
          "output_type": "execute_result",
          "data": {
            "text/plain": [
              "[<matplotlib.lines.Line2D at 0x7f57ce3e50c0>]"
            ]
          },
          "metadata": {},
          "execution_count": 9
        },
        {
          "output_type": "display_data",
          "data": {
            "text/plain": [
              "<Figure size 640x480 with 1 Axes>"
            ],
            "image/png": "[encoded data removed]"
          },
          "metadata": {}
        }
      ]
    },
    {
      "cell_type": "markdown",
      "source": [
        "We initialized the W1 to be very close to zero to get a lower loss initially. Because it will help the gradient move onto the toughest road to optimize the loss function. It will not go move to the smooth part. So there is no smoothly decreasing line in the graph."
      ],
      "metadata": {
        "id": "vJVbIe034AAW"
      }
    },
    {
      "cell_type": "code",
      "source": [
        "@torch.no_grad() # this decorator disables gradient tracking\n",
        "def split_loss(split):\n",
        "  x,y = {\n",
        "    'train': (Xtr, Ytr),\n",
        "    'val': (Xdev, Ydev),\n",
        "    'test': (Xte, Yte),\n",
        "  }[split]\n",
        "  emb = C[x]\n",
        "  embcat = emb.view(emb.shape[0], -1)\n",
        "  hpreact = embcat @ W1  + b1\n",
        "  h = torch.tanh(hpreact) # (N, n_hidden)\n",
        "  logits = h @ W2 + b2 # (N, vocab_size)\n",
        "  loss = F.cross_entropy(logits, y)\n",
        "  print(split, loss.item())\n",
        "\n",
        "split_loss('train')\n",
        "split_loss('val')"
      ],
      "metadata": {
        "colab": {
          "base_uri": "https://localhost:8080/"
        },
        "id": "yyolY3pG2uCK",
        "outputId": "96290c15-8bfb-4f39-b22c-75bc9ecee507"
      },
      "execution_count": 10,
      "outputs": [
        {
          "output_type": "stream",
          "name": "stdout",
          "text": [
            "train 3.2052221298217773\n",
            "val 3.204833745956421\n"
          ]
        }
      ]
    },
    {
      "cell_type": "markdown",
      "source": [
        "**Problems** with value of **h** :\n",
        "1. In the plot: the output of tanh is 1 or -1\n",
        "2. While calculating gradient it becomes close to 0\n",
        "3. So, it is not updating or decreasing the loss\n",
        "4. If tanh=0, outgrad flows through no impact of tanh"
      ],
      "metadata": {
        "id": "Afx4JqHW4ezv"
      }
    },
    {
      "cell_type": "code",
      "source": [
        "plt.hist(h.view(-1).tolist(),50)"
      ],
      "metadata": {
        "colab": {
          "base_uri": "https://localhost:8080/",
          "height": 661
        },
        "id": "__lXHNqX2-ZI",
        "outputId": "9713c28b-6501-47ae-926a-2222b58b7879"
      },
      "execution_count": 11,
      "outputs": [
        {
          "output_type": "execute_result",
          "data": {
            "text/plain": [
              "(array([2069.,  145.,  101.,   73.,   68.,   48.,   42.,   44.,   32.,\n",
              "          47.,   38.,   28.,   32.,   22.,   30.,   21.,   20.,   16.,\n",
              "          15.,   14.,   23.,   27.,   14.,   20.,   23.,   29.,   25.,\n",
              "          18.,   21.,   26.,   21.,   27.,   21.,   18.,   12.,   34.,\n",
              "          32.,   21.,   28.,   31.,   35.,   23.,   50.,   35.,   47.,\n",
              "          68.,   96.,  116.,  172., 2382.]),\n",
              " array([-1.  , -0.96, -0.92, -0.88, -0.84, -0.8 , -0.76, -0.72, -0.68,\n",
              "        -0.64, -0.6 , -0.56, -0.52, -0.48, -0.44, -0.4 , -0.36, -0.32,\n",
              "        -0.28, -0.24, -0.2 , -0.16, -0.12, -0.08, -0.04,  0.  ,  0.04,\n",
              "         0.08,  0.12,  0.16,  0.2 ,  0.24,  0.28,  0.32,  0.36,  0.4 ,\n",
              "         0.44,  0.48,  0.52,  0.56,  0.6 ,  0.64,  0.68,  0.72,  0.76,\n",
              "         0.8 ,  0.84,  0.88,  0.92,  0.96,  1.  ]),\n",
              " <BarContainer object of 50 artists>)"
            ]
          },
          "metadata": {},
          "execution_count": 11
        },
        {
          "output_type": "display_data",
          "data": {
            "text/plain": [
              "<Figure size 640x480 with 1 Axes>"
            ],
            "image/png": "[encoded data removed]"
          },
          "metadata": {}
        }
      ]
    },
    {
      "cell_type": "code",
      "source": [
        "plt.hist(hpreact.view(-1).tolist(),50)"
      ],
      "metadata": {
        "colab": {
          "base_uri": "https://localhost:8080/",
          "height": 760
        },
        "id": "SKwh-9XKKGqq",
        "outputId": "1163ac12-69df-49c8-ef25-1be62b67882d"
      },
      "execution_count": 12,
      "outputs": [
        {
          "output_type": "execute_result",
          "data": {
            "text/plain": [
              "(array([  1.,   2.,   0.,   1.,   5.,   3.,  11.,   6.,  13.,  10.,  25.,\n",
              "         40.,  39.,  77.,  64.,  99., 134., 169., 187., 219., 224., 275.,\n",
              "        308., 311., 355., 369., 379., 357., 366., 333., 292., 284., 287.,\n",
              "        244., 187., 170., 134., 104.,  82.,  74.,  41.,  30.,  27.,  19.,\n",
              "         12.,   7.,  12.,   3.,   2.,   7.]),\n",
              " array([-18.80574417, -18.08757278, -17.3694014 , -16.65123001,\n",
              "        -15.93305862, -15.21488724, -14.49671585, -13.77854446,\n",
              "        -13.06037308, -12.34220169, -11.6240303 , -10.90585892,\n",
              "        -10.18768753,  -9.46951614,  -8.75134476,  -8.03317337,\n",
              "         -7.31500198,  -6.5968306 ,  -5.87865921,  -5.16048782,\n",
              "         -4.44231644,  -3.72414505,  -3.00597366,  -2.28780228,\n",
              "         -1.56963089,  -0.8514595 ,  -0.13328812,   0.58488327,\n",
              "          1.30305466,   2.02122604,   2.73939743,   3.45756882,\n",
              "          4.1757402 ,   4.89391159,   5.61208298,   6.33025436,\n",
              "          7.04842575,   7.76659714,   8.48476852,   9.20293991,\n",
              "          9.9211113 ,  10.63928268,  11.35745407,  12.07562546,\n",
              "         12.79379684,  13.51196823,  14.23013962,  14.948311  ,\n",
              "         15.66648239,  16.38465378,  17.10282516]),\n",
              " <BarContainer object of 50 artists>)"
            ]
          },
          "metadata": {},
          "execution_count": 12
        },
        {
          "output_type": "display_data",
          "data": {
            "text/plain": [
              "<Figure size 640x480 with 1 Axes>"
            ],
            "image/png": "[encoded data removed]"
          },
          "metadata": {}
        }
      ]
    },
    {
      "cell_type": "code",
      "source": [
        "plt.figure(figsize=(20,10))\n",
        "plt.imshow(h.abs()>0.5, cmap='gray', interpolation='nearest')"
      ],
      "metadata": {
        "colab": {
          "base_uri": "https://localhost:8080/",
          "height": 238
        },
        "id": "OlbNQ7Z4Ln7A",
        "outputId": "cc400cd4-4806-4050-a974-1c91aa764347"
      },
      "execution_count": 13,
      "outputs": [
        {
          "output_type": "execute_result",
          "data": {
            "text/plain": [
              "<matplotlib.image.AxesImage at 0x7f57cd49ed40>"
            ]
          },
          "metadata": {},
          "execution_count": 13
        },
        {
          "output_type": "display_data",
          "data": {
            "text/plain": [
              "<Figure size 2000x1000 with 1 Axes>"
            ],
            "image/png": "[encoded data removed]"
          },
          "metadata": {}
        }
      ]
    },
    {
      "cell_type": "markdown",
      "source": [
        "**To Solve** this issue we need h pre activation should be close to 0. It should not be too far off the 0."
      ],
      "metadata": {
        "id": "tgD2XIJV8FOl"
      }
    },
    {
      "cell_type": "code",
      "source": [
        "# MLP revisited\n",
        "n_embd = 10\n",
        "n_hidden = 200\n",
        "\n",
        "g = torch.Generator().manual_seed(2147483647) # for reproducibility\n",
        "C  = torch.randn((vocab_size, n_embd),            generator=g)\n",
        "W1 = torch.randn((n_embd * block_size, n_hidden), generator=g) * 0.2\n",
        "b1 = torch.randn(n_hidden,                        generator=g) * 0.01\n",
        "W2 = torch.randn((n_hidden, vocab_size),          generator=g) * 0.01\n",
        "b2 = torch.randn(vocab_size,                      generator=g) * 0\n",
        "\n",
        "parameters = [C, W1, W2, b2]\n",
        "print(sum(p.nelement() for p in parameters)) # number of parameters in total\n",
        "for p in parameters:\n",
        "  p.requires_grad = True"
      ],
      "metadata": {
        "id": "_n3Q2B8TPANX",
        "colab": {
          "base_uri": "https://localhost:8080/"
        },
        "outputId": "0e5109d6-cc7e-439c-9a8c-a9ba5e0ff547"
      },
      "execution_count": 14,
      "outputs": [
        {
          "output_type": "stream",
          "name": "stdout",
          "text": [
            "11697\n"
          ]
        }
      ]
    },
    {
      "cell_type": "code",
      "source": [
        "# same optimization as last time\n",
        "max_steps = 200000\n",
        "batch_size = 32\n",
        "lossi = []\n",
        "\n",
        "for i in range(max_steps):\n",
        "\n",
        "  # minibatch construct\n",
        "  ix = torch.randint(0, Xtr.shape[0], (batch_size,), generator=g)\n",
        "  Xb, Yb = Xtr[ix], Ytr[ix] # batch X,Y\n",
        "\n",
        "  # forward pass\n",
        "  emb = C[Xb] # embed the characters into vectors\n",
        "  embcat = emb.view(emb.shape[0], -1) # concatenate the vectors\n",
        "  # Linear layer\n",
        "  hpreact = embcat @ W1 + b1 # hidden layer pre-activation\n",
        "\n",
        "  # -------------------------------------------------------------\n",
        "  # Non-linearity\n",
        "  h = torch.tanh(hpreact) # hidden layer\n",
        "  logits = h @ W2 + b2 # output layer\n",
        "  loss = F.cross_entropy(logits, Yb) # loss function\n",
        "\n",
        "  # backward pass\n",
        "  for p in parameters:\n",
        "    p.grad = None\n",
        "  loss.backward()\n",
        "\n",
        "  # update\n",
        "  lr = 0.1 if i < 100000 else 0.01 # step learning rate decay\n",
        "  for p in parameters:\n",
        "    p.data += -lr * p.grad\n",
        "\n",
        "  # track stats\n",
        "  if i % 10000 == 0: # print every once in a while\n",
        "    print(f'{i:7d}/{max_steps:7d}: {loss.item():.4f}')\n",
        "  lossi.append(loss.log10().item())\n",
        "  #break"
      ],
      "metadata": {
        "colab": {
          "base_uri": "https://localhost:8080/"
        },
        "id": "YlVowCyS8uGK",
        "outputId": "0c552325-6dc5-4767-d6be-a87eb8b70e65"
      },
      "execution_count": 15,
      "outputs": [
        {
          "output_type": "stream",
          "name": "stdout",
          "text": [
            "      0/ 200000: 3.3134\n",
            "  10000/ 200000: 2.1660\n",
            "  20000/ 200000: 2.3240\n",
            "  30000/ 200000: 2.3918\n",
            "  40000/ 200000: 1.9870\n",
            "  50000/ 200000: 2.2887\n",
            "  60000/ 200000: 2.4205\n",
            "  70000/ 200000: 2.1077\n",
            "  80000/ 200000: 2.2996\n",
            "  90000/ 200000: 2.1169\n",
            " 100000/ 200000: 1.8800\n",
            " 110000/ 200000: 2.1717\n",
            " 120000/ 200000: 1.9890\n",
            " 130000/ 200000: 2.4198\n",
            " 140000/ 200000: 2.2000\n",
            " 150000/ 200000: 2.1517\n",
            " 160000/ 200000: 1.8120\n",
            " 170000/ 200000: 1.8149\n",
            " 180000/ 200000: 1.9480\n",
            " 190000/ 200000: 1.8681\n"
          ]
        }
      ]
    },
    {
      "cell_type": "code",
      "source": [
        "plt.plot(lossi)"
      ],
      "metadata": {
        "colab": {
          "base_uri": "https://localhost:8080/",
          "height": 447
        },
        "id": "Q4WhbCsp81iz",
        "outputId": "631d0852-942f-4dd7-caff-0cf8c79c5dd0"
      },
      "execution_count": 16,
      "outputs": [
        {
          "output_type": "execute_result",
          "data": {
            "text/plain": [
              "[<matplotlib.lines.Line2D at 0x7f57cd886710>]"
            ]
          },
          "metadata": {},
          "execution_count": 16
        },
        {
          "output_type": "display_data",
          "data": {
            "text/plain": [
              "<Figure size 640x480 with 1 Axes>"
            ],
            "image/png": "[encoded data removed]"
          },
          "metadata": {}
        }
      ]
    },
    {
      "cell_type": "code",
      "source": [
        "@torch.no_grad() # this decorator disables gradient tracking\n",
        "def split_loss(split):\n",
        "  x,y = {\n",
        "    'train': (Xtr, Ytr),\n",
        "    'val': (Xdev, Ydev),\n",
        "    'test': (Xte, Yte),\n",
        "  }[split]\n",
        "  emb = C[x]\n",
        "  embcat = emb.view(emb.shape[0], -1)\n",
        "  hpreact = embcat @ W1  + b1\n",
        "  h = torch.tanh(hpreact) # (N, n_hidden)\n",
        "  logits = h @ W2 + b2 # (N, vocab_size)\n",
        "  loss = F.cross_entropy(logits, y)\n",
        "  print(split, loss.item())\n",
        "\n",
        "split_loss('train')\n",
        "split_loss('val')"
      ],
      "metadata": {
        "colab": {
          "base_uri": "https://localhost:8080/"
        },
        "id": "jsqBENMA86lD",
        "outputId": "832eadb9-2ce0-4fc5-97bd-49b51b2f05a3"
      },
      "execution_count": 17,
      "outputs": [
        {
          "output_type": "stream",
          "name": "stdout",
          "text": [
            "train 2.035963535308838\n",
            "val 2.1026062965393066\n"
          ]
        }
      ]
    },
    {
      "cell_type": "code",
      "source": [
        "plt.hist(h.view(-1).tolist(),50)"
      ],
      "metadata": {
        "colab": {
          "base_uri": "https://localhost:8080/",
          "height": 777
        },
        "id": "EjXXCWB38_sJ",
        "outputId": "5fb29a5b-142a-41ba-954b-dd3aa4588172"
      },
      "execution_count": 18,
      "outputs": [
        {
          "output_type": "execute_result",
          "data": {
            "text/plain": [
              "(array([ 904.,  249.,  146.,  117.,  110.,   93.,   79.,   63.,   59.,\n",
              "          59.,   75.,   62.,   60.,   37.,   88.,   87.,   77.,  112.,\n",
              "          80.,   70.,  104.,  140.,   65.,  124.,  101.,  118.,   73.,\n",
              "          93.,  105.,   90.,   62.,  100.,   64.,   48.,   85.,   69.,\n",
              "          54.,   54.,   70.,   58.,   50.,   79.,   83.,   81.,   84.,\n",
              "         134.,  146.,  157.,  257., 1025.]),\n",
              " array([-1.00000000e+00, -9.60000004e-01, -9.20000007e-01, -8.80000011e-01,\n",
              "        -8.40000014e-01, -8.00000018e-01, -7.60000021e-01, -7.20000025e-01,\n",
              "        -6.80000029e-01, -6.40000032e-01, -6.00000036e-01, -5.60000039e-01,\n",
              "        -5.20000043e-01, -4.80000046e-01, -4.40000050e-01, -4.00000054e-01,\n",
              "        -3.60000057e-01, -3.20000061e-01, -2.80000064e-01, -2.40000068e-01,\n",
              "        -2.00000072e-01, -1.60000075e-01, -1.20000079e-01, -8.00000823e-02,\n",
              "        -4.00000858e-02, -8.94069673e-08,  3.99999070e-02,  7.99999034e-02,\n",
              "         1.19999900e-01,  1.59999896e-01,  1.99999893e-01,  2.39999889e-01,\n",
              "         2.79999886e-01,  3.19999882e-01,  3.59999878e-01,  3.99999875e-01,\n",
              "         4.39999871e-01,  4.79999868e-01,  5.19999864e-01,  5.59999861e-01,\n",
              "         5.99999857e-01,  6.39999853e-01,  6.79999850e-01,  7.19999846e-01,\n",
              "         7.59999843e-01,  7.99999839e-01,  8.39999835e-01,  8.79999832e-01,\n",
              "         9.19999828e-01,  9.59999825e-01,  9.99999821e-01]),\n",
              " <BarContainer object of 50 artists>)"
            ]
          },
          "metadata": {},
          "execution_count": 18
        },
        {
          "output_type": "display_data",
          "data": {
            "text/plain": [
              "<Figure size 640x480 with 1 Axes>"
            ],
            "image/png": "[encoded data removed]"
          },
          "metadata": {}
        }
      ]
    },
    {
      "cell_type": "code",
      "source": [
        "plt.hist(hpreact.view(-1).tolist(),50)"
      ],
      "metadata": {
        "colab": {
          "base_uri": "https://localhost:8080/",
          "height": 761
        },
        "id": "iiqSzzDs9D4n",
        "outputId": "ed419b3a-d9a4-4c64-997f-6acf6cbfad74"
      },
      "execution_count": 19,
      "outputs": [
        {
          "output_type": "execute_result",
          "data": {
            "text/plain": [
              "(array([  1.,   0.,   0.,   0.,   1.,   2.,   1.,   3.,   3.,   3.,   4.,\n",
              "          8.,  14.,  17.,  24.,  29.,  48.,  66.,  63.,  98., 120., 131.,\n",
              "        188., 238., 268., 333., 362., 624., 964., 561., 384., 372., 271.,\n",
              "        274., 188., 170., 131., 122.,  93.,  50.,  54.,  29.,  22.,  24.,\n",
              "         18.,   8.,   6.,   5.,   1.,   4.]),\n",
              " array([-10.86410618, -10.48289787, -10.10168957,  -9.72048126,\n",
              "         -9.33927296,  -8.95806465,  -8.57685635,  -8.19564804,\n",
              "         -7.81443974,  -7.43323143,  -7.05202312,  -6.67081482,\n",
              "         -6.28960651,  -5.90839821,  -5.5271899 ,  -5.1459816 ,\n",
              "         -4.76477329,  -4.38356499,  -4.00235668,  -3.62114838,\n",
              "         -3.23994007,  -2.85873177,  -2.47752346,  -2.09631516,\n",
              "         -1.71510685,  -1.33389854,  -0.95269024,  -0.57148193,\n",
              "         -0.19027363,   0.19093468,   0.57214298,   0.95335129,\n",
              "          1.33455959,   1.7157679 ,   2.0969762 ,   2.47818451,\n",
              "          2.85939281,   3.24060112,   3.62180943,   4.00301773,\n",
              "          4.38422604,   4.76543434,   5.14664265,   5.52785095,\n",
              "          5.90905926,   6.29026756,   6.67147587,   7.05268417,\n",
              "          7.43389248,   7.81510078,   8.19630909]),\n",
              " <BarContainer object of 50 artists>)"
            ]
          },
          "metadata": {},
          "execution_count": 19
        },
        {
          "output_type": "display_data",
          "data": {
            "text/plain": [
              "<Figure size 640x480 with 1 Axes>"
            ],
            "image/png": "[encoded data removed]"
          },
          "metadata": {}
        }
      ]
    },
    {
      "cell_type": "code",
      "source": [
        "plt.figure(figsize=(20,10))\n",
        "plt.imshow(h.abs()>0.5, cmap='gray', interpolation='nearest')"
      ],
      "metadata": {
        "colab": {
          "base_uri": "https://localhost:8080/",
          "height": 238
        },
        "id": "Bz3o962L9KRC",
        "outputId": "67af2768-bb57-4b71-d4a5-bbb17324f17c"
      },
      "execution_count": 20,
      "outputs": [
        {
          "output_type": "execute_result",
          "data": {
            "text/plain": [
              "<matplotlib.image.AxesImage at 0x7f57cd6c4700>"
            ]
          },
          "metadata": {},
          "execution_count": 20
        },
        {
          "output_type": "display_data",
          "data": {
            "text/plain": [
              "<Figure size 2000x1000 with 1 Axes>"
            ],
            "image/png": "[encoded data removed]"
          },
          "metadata": {}
        }
      ]
    },
    {
      "cell_type": "markdown",
      "source": [
        "Calculating the initial scale.\n",
        "1. Divide by the square root of fan in\n",
        "2. if the standard deviation is higher than the x, we have the y spread out largely.\n",
        "3. If the standard deviation is smaller, it does not spread"
      ],
      "metadata": {
        "id": "VvFkXftKAgti"
      }
    },
    {
      "cell_type": "code",
      "source": [
        "x= torch.randn(1000, 10)\n",
        "w= torch.randn(10, 20) / (10 ** 0.5) # fan in is 10, the dimension which does not stay in the y but a criteria to multiply\n",
        "y = x @ w\n",
        "print(x.mean(), x.std())\n",
        "print(y.mean(), y.std())\n",
        "plt.figure(figsize=(20,5))\n",
        "plt.subplot(1,2,1)\n",
        "plt.hist(x.view(-1).tolist(),50, density = True)\n",
        "plt.subplot(1,2,2)\n",
        "plt.hist(y.view(-1).tolist(),50, density = True)"
      ],
      "metadata": {
        "colab": {
          "base_uri": "https://localhost:8080/",
          "height": 780
        },
        "id": "sx34VGpWAgKw",
        "outputId": "6fafc17f-d814-4b65-cfa2-5351cf8a3bdb"
      },
      "execution_count": 21,
      "outputs": [
        {
          "output_type": "stream",
          "name": "stdout",
          "text": [
            "tensor(-0.0008) tensor(0.9911)\n",
            "tensor(-0.0015) tensor(0.9735)\n"
          ]
        },
        {
          "output_type": "execute_result",
          "data": {
            "text/plain": [
              "(array([2.05204317e-04, 2.05204317e-04, 0.00000000e+00, 0.00000000e+00,\n",
              "        0.00000000e+00, 2.05204317e-04, 2.05204317e-04, 2.05204317e-04,\n",
              "        2.05204317e-04, 1.02602158e-03, 2.05204317e-04, 1.23122590e-03,\n",
              "        2.87286043e-03, 6.56653813e-03, 8.82378562e-03, 1.39538935e-02,\n",
              "        2.54453353e-02, 4.28877022e-02, 6.15612950e-02, 8.29025439e-02,\n",
              "        1.38923322e-01, 1.95354509e-01, 2.53632535e-01, 3.39202735e-01,\n",
              "        3.99738009e-01, 4.32160291e-01, 4.34212334e-01, 4.18001193e-01,\n",
              "        3.56029489e-01, 2.66149999e-01, 2.05819930e-01, 1.54929259e-01,\n",
              "        9.72668461e-02, 5.49947569e-02, 4.45293367e-02, 2.81129914e-02,\n",
              "        1.51851194e-02, 9.02898993e-03, 5.33531223e-03, 3.07806475e-03,\n",
              "        8.20817267e-04, 1.43643022e-03, 8.20817267e-04, 4.10408633e-04,\n",
              "        0.00000000e+00, 0.00000000e+00, 0.00000000e+00, 0.00000000e+00,\n",
              "        0.00000000e+00, 2.05204317e-04]),\n",
              " array([-6.35557842, -6.11191883, -5.86825924, -5.62459965, -5.38094006,\n",
              "        -5.13728046, -4.89362087, -4.64996128, -4.40630169, -4.1626421 ,\n",
              "        -3.91898251, -3.67532291, -3.43166332, -3.18800373, -2.94434414,\n",
              "        -2.70068455, -2.45702496, -2.21336536, -1.96970577, -1.72604618,\n",
              "        -1.48238659, -1.238727  , -0.99506741, -0.75140781, -0.50774822,\n",
              "        -0.26408863, -0.02042904,  0.22323055,  0.46689014,  0.71054974,\n",
              "         0.95420933,  1.19786892,  1.44152851,  1.6851881 ,  1.92884769,\n",
              "         2.17250729,  2.41616688,  2.65982647,  2.90348606,  3.14714565,\n",
              "         3.39080524,  3.63446484,  3.87812443,  4.12178402,  4.36544361,\n",
              "         4.6091032 ,  4.85276279,  5.09642239,  5.34008198,  5.58374157,\n",
              "         5.82740116]),\n",
              " <BarContainer object of 50 artists>)"
            ]
          },
          "metadata": {},
          "execution_count": 21
        },
        {
          "output_type": "display_data",
          "data": {
            "text/plain": [
              "<Figure size 2000x500 with 2 Axes>"
            ],
            "image/png": "[encoded data removed]"
          },
          "metadata": {}
        }
      ]
    },
    {
      "cell_type": "markdown",
      "source": [
        "Kaiming initialization paper suggests a gain for the activation function and how to initialize to get the best training situation."
      ],
      "metadata": {
        "id": "GxSY1JpVDRXf"
      }
    },
    {
      "cell_type": "code",
      "source": [
        "#For tanh gain is 5/3\n",
        "(5/3)/(30 ** 0.5)"
      ],
      "metadata": {
        "id": "GHG4NCuYBCgV",
        "colab": {
          "base_uri": "https://localhost:8080/"
        },
        "outputId": "269180f5-446b-4c6a-d1ae-8a606b900b31"
      },
      "execution_count": 22,
      "outputs": [
        {
          "output_type": "execute_result",
          "data": {
            "text/plain": [
              "0.3042903097250923"
            ]
          },
          "metadata": {},
          "execution_count": 22
        }
      ]
    },
    {
      "cell_type": "code",
      "source": [
        "# MLP revisited\n",
        "n_embd = 10\n",
        "n_hidden = 200\n",
        "\n",
        "g = torch.Generator().manual_seed(2147483647) # for reproducibility\n",
        "C  = torch.randn((vocab_size, n_embd),            generator=g)\n",
        "W1 = torch.randn((n_embd * block_size, n_hidden), generator=g) * (5/3)/((n_embd*block_size) ** 0.5)\n",
        "b1 = torch.randn(n_hidden,                        generator=g) * 0.01\n",
        "W2 = torch.randn((n_hidden, vocab_size),          generator=g) * 0.01\n",
        "b2 = torch.randn(vocab_size,                      generator=g) * 0\n",
        "\n",
        "parameters = [C, W1, W2, b2]\n",
        "print(sum(p.nelement() for p in parameters)) # number of parameters in total\n",
        "for p in parameters:\n",
        "  p.requires_grad = True"
      ],
      "metadata": {
        "colab": {
          "base_uri": "https://localhost:8080/"
        },
        "id": "KZRaJiX-Dv5U",
        "outputId": "0faf2c50-bd69-46c4-ef18-5d2cddeed7ae"
      },
      "execution_count": 31,
      "outputs": [
        {
          "output_type": "stream",
          "name": "stdout",
          "text": [
            "11697\n"
          ]
        }
      ]
    },
    {
      "cell_type": "code",
      "source": [
        "# same optimization as last time\n",
        "max_steps = 200000\n",
        "batch_size = 32\n",
        "lossi = []\n",
        "\n",
        "for i in range(max_steps):\n",
        "\n",
        "  # minibatch construct\n",
        "  ix = torch.randint(0, Xtr.shape[0], (batch_size,), generator=g)\n",
        "  Xb, Yb = Xtr[ix], Ytr[ix] # batch X,Y\n",
        "\n",
        "  # forward pass\n",
        "  emb = C[Xb] # embed the characters into vectors\n",
        "  embcat = emb.view(emb.shape[0], -1) # concatenate the vectors\n",
        "  # Linear layer\n",
        "  hpreact = embcat @ W1 + b1 # hidden layer pre-activation\n",
        "\n",
        "  # -------------------------------------------------------------\n",
        "  # Non-linearity\n",
        "  h = torch.tanh(hpreact) # hidden layer\n",
        "  logits = h @ W2 + b2 # output layer\n",
        "  loss = F.cross_entropy(logits, Yb) # loss function\n",
        "\n",
        "  # backward pass\n",
        "  for p in parameters:\n",
        "    p.grad = None\n",
        "  loss.backward()\n",
        "\n",
        "  # update\n",
        "  lr = 0.1 if i < 100000 else 0.01 # step learning rate decay\n",
        "  for p in parameters:\n",
        "    p.data += -lr * p.grad\n",
        "\n",
        "  # track stats\n",
        "  if i % 10000 == 0: # print every once in a while\n",
        "    print(f'{i:7d}/{max_steps:7d}: {loss.item():.4f}')\n",
        "  lossi.append(loss.log10().item())\n",
        "  #break"
      ],
      "metadata": {
        "colab": {
          "base_uri": "https://localhost:8080/"
        },
        "id": "VjTrFkuWEIL0",
        "outputId": "ef6546b9-3b4a-4433-dad5-0d89dd5e2638"
      },
      "execution_count": 32,
      "outputs": [
        {
          "output_type": "stream",
          "name": "stdout",
          "text": [
            "      0/ 200000: 3.3179\n",
            "  10000/ 200000: 2.1931\n",
            "  20000/ 200000: 2.3239\n",
            "  30000/ 200000: 2.5364\n",
            "  40000/ 200000: 1.9723\n",
            "  50000/ 200000: 2.3183\n",
            "  60000/ 200000: 2.3864\n",
            "  70000/ 200000: 2.1508\n",
            "  80000/ 200000: 2.3094\n",
            "  90000/ 200000: 2.2279\n",
            " 100000/ 200000: 1.8242\n",
            " 110000/ 200000: 2.1281\n",
            " 120000/ 200000: 1.9468\n",
            " 130000/ 200000: 2.3681\n",
            " 140000/ 200000: 2.1050\n",
            " 150000/ 200000: 2.1441\n",
            " 160000/ 200000: 1.7716\n",
            " 170000/ 200000: 1.7771\n",
            " 180000/ 200000: 1.9463\n",
            " 190000/ 200000: 1.8029\n"
          ]
        }
      ]
    },
    {
      "cell_type": "code",
      "source": [
        "plt.plot(lossi)"
      ],
      "metadata": {
        "colab": {
          "base_uri": "https://localhost:8080/",
          "height": 447
        },
        "id": "Z_zaLckWEUjM",
        "outputId": "52fbe276-cfe3-4576-9d4c-145449eef3e7"
      },
      "execution_count": 33,
      "outputs": [
        {
          "output_type": "execute_result",
          "data": {
            "text/plain": [
              "[<matplotlib.lines.Line2D at 0x7f57cd9cec50>]"
            ]
          },
          "metadata": {},
          "execution_count": 33
        },
        {
          "output_type": "display_data",
          "data": {
            "text/plain": [
              "<Figure size 640x480 with 1 Axes>"
            ],
            "image/png": "[encoded data removed]"
          },
          "metadata": {}
        }
      ]
    },
    {
      "cell_type": "code",
      "source": [
        "@torch.no_grad() # this decorator disables gradient tracking\n",
        "def split_loss(split):\n",
        "  x,y = {\n",
        "    'train': (Xtr, Ytr),\n",
        "    'val': (Xdev, Ydev),\n",
        "    'test': (Xte, Yte),\n",
        "  }[split]\n",
        "  emb = C[x]\n",
        "  embcat = emb.view(emb.shape[0], -1)\n",
        "  hpreact = embcat @ W1  + b1\n",
        "  h = torch.tanh(hpreact) # (N, n_hidden)\n",
        "  logits = h @ W2 + b2 # (N, vocab_size)\n",
        "  loss = F.cross_entropy(logits, y)\n",
        "  print(split, loss.item())\n",
        "\n",
        "split_loss('train')\n",
        "split_loss('val')"
      ],
      "metadata": {
        "colab": {
          "base_uri": "https://localhost:8080/"
        },
        "id": "luZzKmLyEjNB",
        "outputId": "b46c9373-1478-42bc-e2a3-1b793058e043"
      },
      "execution_count": 34,
      "outputs": [
        {
          "output_type": "stream",
          "name": "stdout",
          "text": [
            "train 2.0388665199279785\n",
            "val 2.108630418777466\n"
          ]
        }
      ]
    },
    {
      "cell_type": "code",
      "source": [
        "plt.hist(h.view(-1).tolist(),50)"
      ],
      "metadata": {
        "colab": {
          "base_uri": "https://localhost:8080/",
          "height": 656
        },
        "id": "A1Oixqy5EpGj",
        "outputId": "c70caa30-6f7e-45d2-8793-9c8f3b818ca8"
      },
      "execution_count": 35,
      "outputs": [
        {
          "output_type": "execute_result",
          "data": {
            "text/plain": [
              "(array([1076.,  224.,  125.,  129.,   89.,   73.,   76.,   69.,   81.,\n",
              "          72.,   64.,   51.,   62.,   65.,   63.,   77.,   78.,   73.,\n",
              "          52.,  116.,   88.,   46.,   77.,  132.,   88.,  112.,  105.,\n",
              "          98.,   68.,   69.,   80.,   82.,   48.,   74.,   67.,   65.,\n",
              "          55.,   62.,   63.,   66.,   69.,   67.,   93.,   83.,   86.,\n",
              "         111.,  120.,  168.,  257., 1086.]),\n",
              " array([-1.  , -0.96, -0.92, -0.88, -0.84, -0.8 , -0.76, -0.72, -0.68,\n",
              "        -0.64, -0.6 , -0.56, -0.52, -0.48, -0.44, -0.4 , -0.36, -0.32,\n",
              "        -0.28, -0.24, -0.2 , -0.16, -0.12, -0.08, -0.04,  0.  ,  0.04,\n",
              "         0.08,  0.12,  0.16,  0.2 ,  0.24,  0.28,  0.32,  0.36,  0.4 ,\n",
              "         0.44,  0.48,  0.52,  0.56,  0.6 ,  0.64,  0.68,  0.72,  0.76,\n",
              "         0.8 ,  0.84,  0.88,  0.92,  0.96,  1.  ]),\n",
              " <BarContainer object of 50 artists>)"
            ]
          },
          "metadata": {},
          "execution_count": 35
        },
        {
          "output_type": "display_data",
          "data": {
            "text/plain": [
              "<Figure size 640x480 with 1 Axes>"
            ],
            "image/png": "[encoded data removed]"
          },
          "metadata": {}
        }
      ]
    },
    {
      "cell_type": "code",
      "source": [
        "plt.hist(hpreact.view(-1).tolist(),50)"
      ],
      "metadata": {
        "colab": {
          "base_uri": "https://localhost:8080/",
          "height": 725
        },
        "id": "vDe5cM4VEwX3",
        "outputId": "20a42899-c87a-4c08-e576-981877011bb5"
      },
      "execution_count": 36,
      "outputs": [
        {
          "output_type": "execute_result",
          "data": {
            "text/plain": [
              "(array([  2.,   0.,   1.,   1.,   1.,   3.,   7.,   8.,   7.,  24.,  28.,\n",
              "         24.,  45.,  50.,  67.,  96., 119., 131., 180., 180., 238., 239.,\n",
              "        303., 374., 593., 833., 563., 396., 323., 323., 248., 207., 170.,\n",
              "        134., 115.,  86.,  63.,  53.,  37.,  43.,  29.,  18.,  13.,  10.,\n",
              "          5.,   4.,   2.,   1.,   0.,   3.]),\n",
              " array([-9.70876026, -9.32836636, -8.94797245, -8.56757854, -8.18718464,\n",
              "        -7.80679073, -7.42639683, -7.04600292, -6.66560902, -6.28521511,\n",
              "        -5.90482121, -5.5244273 , -5.14403339, -4.76363949, -4.38324558,\n",
              "        -4.00285168, -3.62245777, -3.24206387, -2.86166996, -2.48127605,\n",
              "        -2.10088215, -1.72048824, -1.34009434, -0.95970043, -0.57930653,\n",
              "        -0.19891262,  0.18148129,  0.56187519,  0.9422691 ,  1.322663  ,\n",
              "         1.70305691,  2.08345081,  2.46384472,  2.84423862,  3.22463253,\n",
              "         3.60502644,  3.98542034,  4.36581425,  4.74620815,  5.12660206,\n",
              "         5.50699596,  5.88738987,  6.26778378,  6.64817768,  7.02857159,\n",
              "         7.40896549,  7.7893594 ,  8.1697533 ,  8.55014721,  8.93054111,\n",
              "         9.31093502]),\n",
              " <BarContainer object of 50 artists>)"
            ]
          },
          "metadata": {},
          "execution_count": 36
        },
        {
          "output_type": "display_data",
          "data": {
            "text/plain": [
              "<Figure size 640x480 with 1 Axes>"
            ],
            "image/png": "[encoded data removed]"
          },
          "metadata": {}
        }
      ]
    },
    {
      "cell_type": "code",
      "source": [
        "plt.figure(figsize=(20,10))\n",
        "plt.imshow(h.abs()>0.5, cmap='gray', interpolation='nearest')"
      ],
      "metadata": {
        "colab": {
          "base_uri": "https://localhost:8080/",
          "height": 238
        },
        "id": "lSfwJE_rE01W",
        "outputId": "cea00cd2-0eed-4585-dab7-e4c5200095a6"
      },
      "execution_count": 37,
      "outputs": [
        {
          "output_type": "execute_result",
          "data": {
            "text/plain": [
              "<matplotlib.image.AxesImage at 0x7f57c9c31a20>"
            ]
          },
          "metadata": {},
          "execution_count": 37
        },
        {
          "output_type": "display_data",
          "data": {
            "text/plain": [
              "<Figure size 2000x1000 with 1 Axes>"
            ],
            "image/png": "[encoded data removed]"
          },
          "metadata": {}
        }
      ]
    },
    {
      "cell_type": "markdown",
      "source": [
        "**Batch Normalization**\n",
        "Normalizing batch can help the initialization to be normal.Not just roughly normal. It can help training greatly. But additionally, we need to add some normalization gain. Otherwise, every time h preactivation will be set to normal. We want it to move around and gradient to tell us where the graph should be shifted.\n",
        "\n",
        "\n",
        "\n",
        "*   Batch Normalization makes some of the batch examples normal which looks like a bug. Cause problem is we are coupling some samples and make them normal which is mathematically problematic.\n",
        "*   Weirdly, this is good. Because it works as regularizer which helps the model not to overfit on training set. So, we can not discard it.\n",
        "\n"
      ],
      "metadata": {
        "id": "p3GR2U6VK3kx"
      }
    },
    {
      "cell_type": "code",
      "source": [
        "hpreact.shape"
      ],
      "metadata": {
        "colab": {
          "base_uri": "https://localhost:8080/"
        },
        "id": "t3lqd3ucLHa6",
        "outputId": "bf055429-5915-4438-c75d-be4c03baa840"
      },
      "execution_count": 38,
      "outputs": [
        {
          "output_type": "execute_result",
          "data": {
            "text/plain": [
              "torch.Size([32, 200])"
            ]
          },
          "metadata": {},
          "execution_count": 38
        }
      ]
    },
    {
      "cell_type": "code",
      "source": [
        "hpreact.mean(0, keepdim=True).shape"
      ],
      "metadata": {
        "colab": {
          "base_uri": "https://localhost:8080/"
        },
        "id": "HTQVnvWjLMiS",
        "outputId": "b26109b2-6010-4beb-c936-5232ba455fe0"
      },
      "execution_count": 39,
      "outputs": [
        {
          "output_type": "execute_result",
          "data": {
            "text/plain": [
              "torch.Size([1, 200])"
            ]
          },
          "metadata": {},
          "execution_count": 39
        }
      ]
    },
    {
      "cell_type": "code",
      "source": [
        "hpreact.std(0, keepdim=True).shape"
      ],
      "metadata": {
        "colab": {
          "base_uri": "https://localhost:8080/"
        },
        "id": "rA6lNxPMLSDq",
        "outputId": "9d600f65-e050-425a-e88d-7d4da43e6efc"
      },
      "execution_count": 40,
      "outputs": [
        {
          "output_type": "execute_result",
          "data": {
            "text/plain": [
              "torch.Size([1, 200])"
            ]
          },
          "metadata": {},
          "execution_count": 40
        }
      ]
    },
    {
      "cell_type": "code",
      "source": [
        "# MLP revisited\n",
        "n_embd = 10\n",
        "n_hidden = 200\n",
        "\n",
        "g = torch.Generator().manual_seed(2147483647) # for reproducibility\n",
        "C  = torch.randn((vocab_size, n_embd),            generator=g)\n",
        "W1 = torch.randn((n_embd * block_size, n_hidden), generator=g) * (5/3)/((n_embd*block_size) ** 0.5)\n",
        "b1 = torch.randn(n_hidden,                        generator=g) * 0.01\n",
        "W2 = torch.randn((n_hidden, vocab_size),          generator=g) * 0.01\n",
        "b2 = torch.randn(vocab_size,                      generator=g) * 0\n",
        "\n",
        "bngain = torch.ones((1, n_hidden))\n",
        "bnbias = torch.zeros((1, n_hidden)) #for batch normalization for gain and bias\n",
        "parameters = [C, W1, W2, b2, bngain,bnbias]\n",
        "print(sum(p.nelement() for p in parameters)) # number of parameters in total\n",
        "for p in parameters:\n",
        "  p.requires_grad = True"
      ],
      "metadata": {
        "colab": {
          "base_uri": "https://localhost:8080/"
        },
        "id": "6OyrEeWHNRq2",
        "outputId": "4720ee38-8cb9-4d00-c1ba-56c66569c59f"
      },
      "execution_count": 45,
      "outputs": [
        {
          "output_type": "stream",
          "name": "stdout",
          "text": [
            "12097\n"
          ]
        }
      ]
    },
    {
      "cell_type": "code",
      "source": [
        "# same optimization as last time\n",
        "max_steps = 200000\n",
        "batch_size = 32\n",
        "lossi = []\n",
        "\n",
        "for i in range(max_steps):\n",
        "\n",
        "  # minibatch construct\n",
        "  ix = torch.randint(0, Xtr.shape[0], (batch_size,), generator=g)\n",
        "  Xb, Yb = Xtr[ix], Ytr[ix] # batch X,Y\n",
        "\n",
        "  # forward pass\n",
        "  emb = C[Xb] # embed the characters into vectors\n",
        "  embcat = emb.view(emb.shape[0], -1) # concatenate the vectors\n",
        "  # Linear layer\n",
        "  hpreact = embcat @ W1 + b1 # hidden layer pre-activation\n",
        "  hpreact = hpreact - hpreact.mean(0, keepdim=True)\n",
        "  hpreact = hpreact / hpreact.std(0, keepdim=True)\n",
        "  hpreact = bngain * hpreact + bnbias\n",
        "  # -------------------------------------------------------------\n",
        "  # Non-linearity\n",
        "  h = torch.tanh(hpreact) # hidden layer\n",
        "  logits = h @ W2 + b2 # output layer\n",
        "  loss = F.cross_entropy(logits, Yb) # loss function\n",
        "\n",
        "  # backward pass\n",
        "  for p in parameters:\n",
        "    p.grad = None\n",
        "  loss.backward()\n",
        "\n",
        "  # update\n",
        "  lr = 0.1 if i < 100000 else 0.01 # step learning rate decay\n",
        "  for p in parameters:\n",
        "    p.data += -lr * p.grad\n",
        "\n",
        "  # track stats\n",
        "  if i % 10000 == 0: # print every once in a while\n",
        "    print(f'{i:7d}/{max_steps:7d}: {loss.item():.4f}')\n",
        "  lossi.append(loss.log10().item())"
      ],
      "metadata": {
        "colab": {
          "base_uri": "https://localhost:8080/"
        },
        "id": "7Gdqhoz0E6NN",
        "outputId": "72f0c913-9b99-4f20-cf7e-012db5f9cbd0"
      },
      "execution_count": 48,
      "outputs": [
        {
          "output_type": "stream",
          "name": "stdout",
          "text": [
            "      0/ 200000: 3.2583\n",
            "  10000/ 200000: 2.0047\n",
            "  20000/ 200000: 2.0050\n",
            "  30000/ 200000: 2.0915\n",
            "  40000/ 200000: 2.2622\n",
            "  50000/ 200000: 2.1409\n",
            "  60000/ 200000: 2.0578\n",
            "  70000/ 200000: 2.3608\n",
            "  80000/ 200000: 2.3628\n",
            "  90000/ 200000: 2.2181\n",
            " 100000/ 200000: 2.3150\n",
            " 110000/ 200000: 1.8988\n",
            " 120000/ 200000: 2.2336\n",
            " 130000/ 200000: 2.0206\n",
            " 140000/ 200000: 1.7877\n",
            " 150000/ 200000: 2.3862\n",
            " 160000/ 200000: 2.2466\n",
            " 170000/ 200000: 1.7835\n",
            " 180000/ 200000: 1.9487\n",
            " 190000/ 200000: 2.2894\n"
          ]
        }
      ]
    },
    {
      "cell_type": "markdown",
      "source": [
        "Problem during test time: The neural net now wants batch size to normalize the batches. In the test set, we give individual data to the model and get an output for it. That does not seem to be possible right here. So, we calculate mean of batch gain and bias for that and use that in the training set."
      ],
      "metadata": {
        "id": "NtArpwyVS6gy"
      }
    },
    {
      "cell_type": "code",
      "source": [
        "with torch.no_grad():\n",
        "  emb = C[Xtr]\n",
        "  embcat = emb.view(emb.shape[0], -1)\n",
        "  hpreact = embcat @ W1 + b1\n",
        "#calculate the mean and std for the whole training set\n",
        "  bnmean = hpreact.mean(0, keepdim=True)\n",
        "  bnstd = hpreact.std(0, keepdim=True)"
      ],
      "metadata": {
        "id": "VIFkp8MjTTmQ"
      },
      "execution_count": 50,
      "outputs": []
    },
    {
      "cell_type": "code",
      "source": [
        "@torch.no_grad() # this decorator disables gradient tracking\n",
        "def split_loss(split):\n",
        "  x,y = {\n",
        "    'train': (Xtr, Ytr),\n",
        "    'val': (Xdev, Ydev),\n",
        "    'test': (Xte, Yte),\n",
        "  }[split]\n",
        "  emb = C[x]\n",
        "  embcat = emb.view(emb.shape[0], -1)\n",
        "  hpreact = embcat @ W1 + b1 # hidden layer pre-activation\n",
        "  hpreact = bnmean * ((hpreact-bnmean)/bnstd) + bnstd\n",
        "  h = torch.tanh(hpreact) # (N, n_hidden)\n",
        "  logits = h @ W2 + b2 # (N, vocab_size)\n",
        "  loss = F.cross_entropy(logits, y)\n",
        "  print(split, loss.item())\n",
        "\n",
        "split_loss('train')\n",
        "split_loss('val')"
      ],
      "metadata": {
        "colab": {
          "base_uri": "https://localhost:8080/"
        },
        "id": "9akXwrkyMche",
        "outputId": "2a764646-a0b3-40f7-d702-e7a2485af198"
      },
      "execution_count": 51,
      "outputs": [
        {
          "output_type": "stream",
          "name": "stdout",
          "text": [
            "train 7.6624755859375\n",
            "val 7.66627311706543\n"
          ]
        }
      ]
    },
    {
      "cell_type": "markdown",
      "source": [
        "Let's introduce running mean and standard deviation and not putting an extra layer of code after a certain training completion. We just want to go straight to test"
      ],
      "metadata": {
        "id": "-8-265u4T_tQ"
      }
    },
    {
      "cell_type": "code",
      "source": [
        "# MLP revisited\n",
        "n_embd = 10\n",
        "n_hidden = 200\n",
        "\n",
        "g = torch.Generator().manual_seed(2147483647) # for reproducibility\n",
        "C  = torch.randn((vocab_size, n_embd),            generator=g)\n",
        "W1 = torch.randn((n_embd * block_size, n_hidden), generator=g) * (5/3)/((n_embd*block_size) ** 0.5)\n",
        "b1 = torch.randn(n_hidden,                        generator=g) * 0.01\n",
        "W2 = torch.randn((n_hidden, vocab_size),          generator=g) * 0.01\n",
        "b2 = torch.randn(vocab_size,                      generator=g) * 0\n",
        "\n",
        "bngain = torch.ones((1, n_hidden))\n",
        "bnbias = torch.zeros((1, n_hidden)) #for batch normalization for gain and bias\n",
        "bnmean_running = torch.zeros((1, n_hidden))\n",
        "bnstd_running = torch.ones((1, n_hidden))\n",
        "parameters = [C, W1, W2, b2, bngain,bnbias]\n",
        "print(sum(p.nelement() for p in parameters)) # number of parameters in total\n",
        "for p in parameters:\n",
        "  p.requires_grad = True"
      ],
      "metadata": {
        "colab": {
          "base_uri": "https://localhost:8080/"
        },
        "id": "_-RNkYKHOuFs",
        "outputId": "51160a28-a73b-4d91-baf5-fa74d3823732"
      },
      "execution_count": 52,
      "outputs": [
        {
          "output_type": "stream",
          "name": "stdout",
          "text": [
            "12097\n"
          ]
        }
      ]
    },
    {
      "cell_type": "code",
      "source": [
        "# same optimization as last time\n",
        "max_steps = 200000\n",
        "batch_size = 32\n",
        "lossi = []\n",
        "\n",
        "for i in range(max_steps):\n",
        "\n",
        "  # minibatch construct\n",
        "  ix = torch.randint(0, Xtr.shape[0], (batch_size,), generator=g)\n",
        "  Xb, Yb = Xtr[ix], Ytr[ix] # batch X,Y\n",
        "\n",
        "  # forward pass\n",
        "  emb = C[Xb] # embed the characters into vectors\n",
        "  embcat = emb.view(emb.shape[0], -1) # concatenate the vectors\n",
        "  # Linear layer\n",
        "  hpreact = embcat @ W1 + b1 # hidden layer pre-activation\n",
        "  bnmean_i = hpreact.mean(0, keepdim=True)\n",
        "  bnstd_i = hpreact.std(0, keepdim=True)\n",
        "  hpreact = bngain * ((hpreact-bnmean_i)/bnstd_i) + bnbias\n",
        "\n",
        "  with torch.no_grad():\n",
        "    bnmean_running = 0.999 * bnmean_running + 0.001 * bnmean_i\n",
        "    bnstd_running = 0.999 * bnstd_running + 0.001 * bnstd_i\n",
        "  # -------------------------------------------------------------\n",
        "  # Non-linearity\n",
        "  h = torch.tanh(hpreact) # hidden layer\n",
        "  logits = h @ W2 + b2 # output layer\n",
        "  loss = F.cross_entropy(logits, Yb) # loss function\n",
        "\n",
        "  # backward pass\n",
        "  for p in parameters:\n",
        "    p.grad = None\n",
        "  loss.backward()\n",
        "\n",
        "  # update\n",
        "  lr = 0.1 if i < 100000 else 0.01 # step learning rate decay\n",
        "  for p in parameters:\n",
        "    p.data += -lr * p.grad\n",
        "\n",
        "  # track stats\n",
        "  if i % 10000 == 0: # print every once in a while\n",
        "    print(f'{i:7d}/{max_steps:7d}: {loss.item():.4f}')\n",
        "  lossi.append(loss.log10().item())"
      ],
      "metadata": {
        "colab": {
          "base_uri": "https://localhost:8080/"
        },
        "id": "FAq_AfERVxow",
        "outputId": "ae033177-6213-4794-8f9c-20192969cd59"
      },
      "execution_count": 53,
      "outputs": [
        {
          "output_type": "stream",
          "name": "stdout",
          "text": [
            "      0/ 200000: 3.3147\n",
            "  10000/ 200000: 2.1984\n",
            "  20000/ 200000: 2.3375\n",
            "  30000/ 200000: 2.4359\n",
            "  40000/ 200000: 2.0119\n",
            "  50000/ 200000: 2.2595\n",
            "  60000/ 200000: 2.4775\n",
            "  70000/ 200000: 2.1020\n",
            "  80000/ 200000: 2.2788\n",
            "  90000/ 200000: 2.1862\n",
            " 100000/ 200000: 1.9474\n",
            " 110000/ 200000: 2.3010\n",
            " 120000/ 200000: 1.9837\n",
            " 130000/ 200000: 2.4523\n",
            " 140000/ 200000: 2.3839\n",
            " 150000/ 200000: 2.1987\n",
            " 160000/ 200000: 1.9733\n",
            " 170000/ 200000: 1.8668\n",
            " 180000/ 200000: 1.9973\n",
            " 190000/ 200000: 1.8347\n"
          ]
        }
      ]
    },
    {
      "cell_type": "code",
      "source": [
        "@torch.no_grad() # this decorator disables gradient tracking\n",
        "def split_loss(split):\n",
        "  x,y = {\n",
        "    'train': (Xtr, Ytr),\n",
        "    'val': (Xdev, Ydev),\n",
        "    'test': (Xte, Yte),\n",
        "  }[split]\n",
        "  emb = C[x]\n",
        "  embcat = emb.view(emb.shape[0], -1)\n",
        "  hpreact = embcat @ W1 + b1 # hidden layer pre-activation\n",
        "  hpreact = bnmean_running * ((hpreact-bnmean_running)/bnstd_running) + bnstd_running\n",
        "  h = torch.tanh(hpreact) # (N, n_hidden)\n",
        "  logits = h @ W2 + b2 # (N, vocab_size)\n",
        "  loss = F.cross_entropy(logits, y)\n",
        "  print(split, loss.item())\n",
        "\n",
        "split_loss('train')\n",
        "split_loss('val')"
      ],
      "metadata": {
        "colab": {
          "base_uri": "https://localhost:8080/"
        },
        "id": "nNP9TgIyXVoP",
        "outputId": "af99e90c-9b55-40b9-fd71-06032c1181b4"
      },
      "execution_count": 55,
      "outputs": [
        {
          "output_type": "stream",
          "name": "stdout",
          "text": [
            "train 7.6446967124938965\n",
            "val 7.648149013519287\n"
          ]
        }
      ]
    },
    {
      "cell_type": "code",
      "source": [],
      "metadata": {
        "id": "iQcxxdpLXpUQ"
      },
      "execution_count": null,
      "outputs": []
    }
  ]
}