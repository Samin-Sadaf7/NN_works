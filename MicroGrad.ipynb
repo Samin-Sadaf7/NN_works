{
  "nbformat": 4,
  "nbformat_minor": 0,
  "metadata": {
    "colab": {
      "provenance": [],
      "authorship_tag": "ABX9TyPMJ01EbIEcjM+FZXjybuRU",
      "include_colab_link": true
    },
    "kernelspec": {
      "name": "python3",
      "display_name": "Python 3"
    },
    "language_info": {
      "name": "python"
    }
  },
  "cells": [
    {
      "cell_type": "markdown",
      "metadata": {
        "id": "view-in-github",
        "colab_type": "text"
      },
      "source": [
        "<a href=\"https://colab.research.google.com/github/Samin-Sadaf7/NN_works/blob/main/MicroGrad.ipynb\" target=\"_parent\"><img src=\"https://colab.research.google.com/assets/colab-badge.svg\" alt=\"Open In Colab\"/></a>"
      ]
    },
    {
      "cell_type": "markdown",
      "source": [
        "**`Original idea and works:  Andrej Karpathy`**"
      ],
      "metadata": {
        "id": "YTNjgJJDtTkF"
      }
    },
    {
      "cell_type": "code",
      "execution_count": 6,
      "metadata": {
        "id": "f3r5aXtxkNJ3"
      },
      "outputs": [],
      "source": [
        "import numpy as np\n",
        "import math\n",
        "import matplotlib.pyplot as plt\n",
        "%matplotlib inline"
      ]
    },
    {
      "cell_type": "code",
      "source": [
        "def func(x):\n",
        "  return 2*x**2+4*x-7"
      ],
      "metadata": {
        "id": "bUlVHPjpnDBS"
      },
      "execution_count": 7,
      "outputs": []
    },
    {
      "cell_type": "code",
      "source": [
        "func(3.0)"
      ],
      "metadata": {
        "colab": {
          "base_uri": "https://localhost:8080/"
        },
        "id": "IUdiRhyxnSWt",
        "outputId": "4bffa0d2-283a-4a3f-9701-bb4371d32c50"
      },
      "execution_count": 8,
      "outputs": [
        {
          "output_type": "execute_result",
          "data": {
            "text/plain": [
              "23.0"
            ]
          },
          "metadata": {},
          "execution_count": 8
        }
      ]
    },
    {
      "cell_type": "code",
      "source": [
        "xs = np.arange(-3, 3,0.1)\n",
        "ys = func(xs)\n",
        "plt.plot(xs, ys)"
      ],
      "metadata": {
        "colab": {
          "base_uri": "https://localhost:8080/",
          "height": 447
        },
        "id": "bAGnuhEpnUmA",
        "outputId": "0832fa54-193e-454e-c24c-789f1fc8651e"
      },
      "execution_count": 26,
      "outputs": [
        {
          "output_type": "execute_result",
          "data": {
            "text/plain": [
              "[<matplotlib.lines.Line2D at 0x7ba329da2bf0>]"
            ]
          },
          "metadata": {},
          "execution_count": 26
        },
        {
          "output_type": "display_data",
          "data": {
            "text/plain": [
              "<Figure size 640x480 with 1 Axes>"
            ],
            "image/png": "[encoded data removed]"
          },
          "metadata": {}
        }
      ]
    },
    {
      "cell_type": "markdown",
      "source": [
        "###Derivative\n",
        "\n",
        "Let  a∈R\n",
        "  and let  f(x)\n",
        "  be defined on an open interval 6 that contains  a.\n",
        "\n",
        "The derivative of  f(x)\n",
        "  at  x=a\n",
        "  is denoted  f′(a)\n",
        "  and is defined by\n",
        "f′(a)=limh→0f(a+h)−f(a)h\n",
        "\n",
        "if the limit exists.\n",
        "When the above limit exists, the function  f(x)\n",
        "  is said to be differentiable at  x=a.\n",
        "  When the limit does not exist, the function  f(x)\n",
        "  is said to be not differentiable at  x=a.\n",
        "\n",
        "We can equivalently define the derivative  f′(a)\n",
        "  by the limit\n",
        "f′(a)=limx→af(x)−f(a)x−a.\n",
        "\n",
        "To see that these two definitions are the same, we set  x=a+h\n",
        "  and then the limit as  h\n",
        "  goes to  0\n",
        "  is equivalent to the limit as  x\n",
        "  goes to  a."
      ],
      "metadata": {
        "id": "_Cv-_HHfogqC"
      }
    },
    {
      "cell_type": "code",
      "source": [
        "h = 0.0000001\n",
        "x = -2.5\n",
        "(func(x+h)-func(x))/h"
      ],
      "metadata": {
        "colab": {
          "base_uri": "https://localhost:8080/"
        },
        "id": "sTdI0GkVn0HE",
        "outputId": "623d3216-3adb-4406-d172-ecbb5b3c6735"
      },
      "execution_count": 29,
      "outputs": [
        {
          "output_type": "execute_result",
          "data": {
            "text/plain": [
              "-5.99999978589949"
            ]
          },
          "metadata": {},
          "execution_count": 29
        }
      ]
    },
    {
      "cell_type": "code",
      "source": [
        "a = 2.0\n",
        "b = -3.0\n",
        "c = 4.0\n",
        "d = a*b +c\n",
        "print(d)"
      ],
      "metadata": {
        "colab": {
          "base_uri": "https://localhost:8080/"
        },
        "id": "Kn7IaDhzpJDO",
        "outputId": "6b3be4ac-1ccd-4b96-e1d6-9d69410603d8"
      },
      "execution_count": 30,
      "outputs": [
        {
          "output_type": "stream",
          "name": "stdout",
          "text": [
            "-2.0\n"
          ]
        }
      ]
    },
    {
      "cell_type": "code",
      "source": [
        "h = 0.001\n",
        "#inputs\n",
        "a = 2.0\n",
        "b = -3.0\n",
        "c = 4.0\n",
        "\n",
        "d1 = a*b +c\n",
        "a+=h\n",
        "d2 = a*b +c\n",
        "print('d1:', d1)\n",
        "print('d2:', d2)\n",
        "print(\"slope d with respect to a :\" , (d2-d1)/h)"
      ],
      "metadata": {
        "colab": {
          "base_uri": "https://localhost:8080/"
        },
        "id": "xmkqsRfMqfdW",
        "outputId": "348e846f-efa4-49d3-e807-c0391ba40693"
      },
      "execution_count": 33,
      "outputs": [
        {
          "output_type": "stream",
          "name": "stdout",
          "text": [
            "d1: -2.0\n",
            "d2: -2.003\n",
            "slope d with respect to a : -3.0000000000001137\n"
          ]
        }
      ]
    },
    {
      "cell_type": "code",
      "source": [
        "h = 0.001\n",
        "#inputs\n",
        "a = 2.0\n",
        "b = -3.0\n",
        "c = 4.0\n",
        "\n",
        "d1 = a*b +c\n",
        "b+=h\n",
        "d2 = a*b +c\n",
        "print('d1:', d1)\n",
        "print('d2:', d2)\n",
        "print(\"slope d with respect to b :\" , (d2-d1)/h)"
      ],
      "metadata": {
        "colab": {
          "base_uri": "https://localhost:8080/"
        },
        "id": "X_Idi22erKyY",
        "outputId": "502f06e6-3a59-45a4-9971-aee87ec9bbed"
      },
      "execution_count": 34,
      "outputs": [
        {
          "output_type": "stream",
          "name": "stdout",
          "text": [
            "d1: -2.0\n",
            "d2: -1.9980000000000002\n",
            "slope d with respect to b : 1.9999999999997797\n"
          ]
        }
      ]
    },
    {
      "cell_type": "code",
      "source": [
        "h = 0.001\n",
        "#inputs\n",
        "a = 2.0\n",
        "b = -3.0\n",
        "c = 4.0\n",
        "\n",
        "d1 = a*b +c\n",
        "c+=h\n",
        "d2 = a*b +c\n",
        "print('d1:', d1)\n",
        "print('d2:', d2)\n",
        "print(\"slope d with respect to c :\" , (d2-d1)/h)"
      ],
      "metadata": {
        "colab": {
          "base_uri": "https://localhost:8080/"
        },
        "id": "RizSX3wQrw3C",
        "outputId": "79f1b9cb-7b29-4a93-901c-c1639b4fb1e7"
      },
      "execution_count": 35,
      "outputs": [
        {
          "output_type": "stream",
          "name": "stdout",
          "text": [
            "d1: -2.0\n",
            "d2: -1.9989999999999997\n",
            "slope d with respect to c : 1.000000000000334\n"
          ]
        }
      ]
    },
    {
      "cell_type": "markdown",
      "source": [
        "### Need a Data Structure to wrap up the data  in Neural Network\n",
        "Building the core of MicroGrad"
      ],
      "metadata": {
        "id": "K7edvQvTtJPf"
      }
    },
    {
      "cell_type": "code",
      "source": [
        "class Value:\n",
        "  # constructor in python\n",
        "  def __init__(self, data, _children=(), _op=(), label=''):\n",
        "    self.data = data\n",
        "    self._prev = set(_children)\n",
        "    self.grad = 0.0\n",
        "    self._op = _op\n",
        "    self.label = label\n",
        "  def __repr__(self):\n",
        "    return f\"Value(data:{self.data})\"\n",
        "  #operator overloading in python\n",
        "  def __add__(self, other):\n",
        "    out = Value(self.data + other.data, (self, other),'+')\n",
        "    return out\n",
        "  def __mul__(self, other):\n",
        "    out = Value(self.data * other.data, (self, other),'*')\n",
        "    return out\n",
        "\n",
        "a= Value(2.0, label='a')\n",
        "b= Value(-3.0, label = 'b')\n",
        "c= Value(-4,label ='c')\n",
        "e= a*b\n",
        "e.label='e'\n",
        "d = e + c\n",
        "d.label='d'\n",
        "f = Value( -2.0, label = 'f')\n",
        "L = d*f\n",
        "L.label='L'\n",
        "L"
      ],
      "metadata": {
        "colab": {
          "base_uri": "https://localhost:8080/"
        },
        "id": "6w2EbB4Ir8z7",
        "outputId": "44d5206f-233f-476c-e88c-e8cbfd02165e"
      },
      "execution_count": 135,
      "outputs": [
        {
          "output_type": "execute_result",
          "data": {
            "text/plain": [
              "Value(data:20.0)"
            ]
          },
          "metadata": {},
          "execution_count": 135
        }
      ]
    },
    {
      "cell_type": "code",
      "source": [
        "from graphviz import Digraph\n",
        "\n",
        "def trace(root):\n",
        "  # builds a set of all nodes and edges in a graph\n",
        "  nodes, edges = set(), set()\n",
        "  def build(v):\n",
        "    if v not in nodes:\n",
        "      nodes.add(v)\n",
        "      for child in v._prev:\n",
        "        edges.add((child, v))\n",
        "        build(child)\n",
        "  build(root)\n",
        "  return nodes, edges\n",
        "\n",
        "def draw_dot(root):\n",
        "  dot = Digraph(format='svg', graph_attr={'rankdir': 'LR'}) # LR = left to right\n",
        "\n",
        "  nodes, edges = trace(root)\n",
        "  for n in nodes:\n",
        "    uid = str(id(n))\n",
        "    # for any value in the graph, create a rectangular ('record') node for it\n",
        "    dot.node(name = uid, label = \"{ %s | data %.4f | grad %.4f }\" % (n.label , n.data, n.grad ), shape='record')\n",
        "    if n._op:\n",
        "      # if this value is a result of some operation, create an op node for it\n",
        "      dot.node(name = uid + n._op, label = n._op)\n",
        "      # and connect this node to it\n",
        "      dot.edge(uid + n._op, uid)\n",
        "\n",
        "  for n1, n2 in edges:\n",
        "    # connect n1 to the op node of n2\n",
        "    dot.edge(str(id(n1)), str(id(n2)) + n2._op)\n",
        "\n",
        "  return dot"
      ],
      "metadata": {
        "id": "xdlDXzg5yYOu"
      },
      "execution_count": 124,
      "outputs": []
    },
    {
      "cell_type": "code",
      "source": [
        "draw_dot(L)"
      ],
      "metadata": {
        "colab": {
          "base_uri": "https://localhost:8080/",
          "height": 212
        },
        "id": "n_FaNdGwyyfP",
        "outputId": "00411fb5-3a33-4bef-9bb0-5c9ed764e004"
      },
      "execution_count": 147,
      "outputs": [
        {
          "output_type": "execute_result",
          "data": {
            "image/svg+xml": "<?xml version=\"1.0\" encoding=\"UTF-8\" standalone=\"no\"?>\n<!DOCTYPE svg PUBLIC \"-//W3C//DTD SVG 1.1//EN\"\n \"http://www.w3.org/Graphics/SVG/1.1/DTD/svg11.dtd\">\n<!-- Generated by graphviz version 2.43.0 (0)\n -->\n<!-- Title: %3 Pages: 1 -->\n<svg width=\"1174pt\" height=\"128pt\"\n viewBox=\"0.00 0.00 1174.00 128.00\" xmlns=\"http://www.w3.org/2000/svg\" xmlns:xlink=\"http://www.w3.org/1999/xlink\">\n<g id=\"graph0\" class=\"graph\" transform=\"scale(1 1) rotate(0) translate(4 124)\">\n<title>%3</title>\n<polygon fill=\"white\" stroke=\"transparent\" points=\"-4,4 -4,-124 1170,-124 1170,4 -4,4\"/>\n<!-- 135939818891264 -->\n<g id=\"node1\" class=\"node\">\n<title>135939818891264</title>\n<polygon fill=\"none\" stroke=\"black\" points=\"320,-83.5 320,-119.5 514,-119.5 514,-83.5 320,-83.5\"/>\n<text text-anchor=\"middle\" x=\"331.5\" y=\"-97.8\" font-family=\"Times,serif\" font-size=\"14.00\">c</text>\n<polyline fill=\"none\" stroke=\"black\" points=\"343,-83.5 343,-119.5 \"/>\n<text text-anchor=\"middle\" x=\"385.5\" y=\"-97.8\" font-family=\"Times,serif\" font-size=\"14.00\">data &#45;4.0620</text>\n<polyline fill=\"none\" stroke=\"black\" points=\"428,-83.5 428,-119.5 \"/>\n<text text-anchor=\"middle\" x=\"471\" y=\"-97.8\" font-family=\"Times,serif\" font-size=\"14.00\">grad &#45;2.3057</text>\n</g>\n<!-- 135939818897360+ -->\n<g id=\"node9\" class=\"node\">\n<title>135939818897360+</title>\n<ellipse fill=\"none\" stroke=\"black\" cx=\"577\" cy=\"-73.5\" rx=\"27\" ry=\"18\"/>\n<text text-anchor=\"middle\" x=\"577\" y=\"-69.8\" font-family=\"Times,serif\" font-size=\"14.00\">+</text>\n</g>\n<!-- 135939818891264&#45;&gt;135939818897360+ -->\n<g id=\"edge8\" class=\"edge\">\n<title>135939818891264&#45;&gt;135939818897360+</title>\n<path fill=\"none\" stroke=\"black\" d=\"M514.01,-84.49C523.35,-82.83 532.37,-81.23 540.49,-79.79\"/>\n<polygon fill=\"black\" stroke=\"black\" points=\"541.37,-83.19 550.6,-78 540.15,-76.3 541.37,-83.19\"/>\n</g>\n<!-- 135939818894864 -->\n<g id=\"node2\" class=\"node\">\n<title>135939818894864</title>\n<polygon fill=\"none\" stroke=\"black\" points=\"967,-27.5 967,-63.5 1166,-63.5 1166,-27.5 967,-27.5\"/>\n<text text-anchor=\"middle\" x=\"979.5\" y=\"-41.8\" font-family=\"Times,serif\" font-size=\"14.00\">L</text>\n<polyline fill=\"none\" stroke=\"black\" points=\"992,-27.5 992,-63.5 \"/>\n<text text-anchor=\"middle\" x=\"1038\" y=\"-41.8\" font-family=\"Times,serif\" font-size=\"14.00\">data &#45;13.2080</text>\n<polyline fill=\"none\" stroke=\"black\" points=\"1084,-27.5 1084,-63.5 \"/>\n<text text-anchor=\"middle\" x=\"1125\" y=\"-41.8\" font-family=\"Times,serif\" font-size=\"14.00\">grad 1.0000</text>\n</g>\n<!-- 135939818894864+ -->\n<g id=\"node3\" class=\"node\">\n<title>135939818894864+</title>\n<ellipse fill=\"none\" stroke=\"black\" cx=\"904\" cy=\"-45.5\" rx=\"27\" ry=\"18\"/>\n<text text-anchor=\"middle\" x=\"904\" y=\"-41.8\" font-family=\"Times,serif\" font-size=\"14.00\">+</text>\n</g>\n<!-- 135939818894864+&#45;&gt;135939818894864 -->\n<g id=\"edge1\" class=\"edge\">\n<title>135939818894864+&#45;&gt;135939818894864</title>\n<path fill=\"none\" stroke=\"black\" d=\"M931.14,-45.5C938.65,-45.5 947.33,-45.5 956.6,-45.5\"/>\n<polygon fill=\"black\" stroke=\"black\" points=\"956.86,-49 966.86,-45.5 956.86,-42 956.86,-49\"/>\n</g>\n<!-- 135939818886272 -->\n<g id=\"node4\" class=\"node\">\n<title>135939818886272</title>\n<polygon fill=\"none\" stroke=\"black\" points=\"320,-28.5 320,-64.5 514,-64.5 514,-28.5 320,-28.5\"/>\n<text text-anchor=\"middle\" x=\"331.5\" y=\"-42.8\" font-family=\"Times,serif\" font-size=\"14.00\">e</text>\n<polyline fill=\"none\" stroke=\"black\" points=\"343,-28.5 343,-64.5 \"/>\n<text text-anchor=\"middle\" x=\"385.5\" y=\"-42.8\" font-family=\"Times,serif\" font-size=\"14.00\">data &#45;6.8403</text>\n<polyline fill=\"none\" stroke=\"black\" points=\"428,-28.5 428,-64.5 \"/>\n<text text-anchor=\"middle\" x=\"471\" y=\"-42.8\" font-family=\"Times,serif\" font-size=\"14.00\">grad &#45;2.3057</text>\n</g>\n<!-- 135939818886272&#45;&gt;135939818897360+ -->\n<g id=\"edge9\" class=\"edge\">\n<title>135939818886272&#45;&gt;135939818897360+</title>\n<path fill=\"none\" stroke=\"black\" d=\"M514.01,-62.91C523.35,-64.5 532.37,-66.04 540.49,-67.43\"/>\n<polygon fill=\"black\" stroke=\"black\" points=\"540.16,-70.93 550.6,-69.16 541.34,-64.03 540.16,-70.93\"/>\n</g>\n<!-- 135939818886272* -->\n<g id=\"node5\" class=\"node\">\n<title>135939818886272*</title>\n<ellipse fill=\"none\" stroke=\"black\" cx=\"257\" cy=\"-46.5\" rx=\"27\" ry=\"18\"/>\n<text text-anchor=\"middle\" x=\"257\" y=\"-42.8\" font-family=\"Times,serif\" font-size=\"14.00\">*</text>\n</g>\n<!-- 135939818886272*&#45;&gt;135939818886272 -->\n<g id=\"edge2\" class=\"edge\">\n<title>135939818886272*&#45;&gt;135939818886272</title>\n<path fill=\"none\" stroke=\"black\" d=\"M284.09,-46.5C291.62,-46.5 300.34,-46.5 309.63,-46.5\"/>\n<polygon fill=\"black\" stroke=\"black\" points=\"309.92,-50 319.92,-46.5 309.92,-43 309.92,-50\"/>\n</g>\n<!-- 135939818890640 -->\n<g id=\"node6\" class=\"node\">\n<title>135939818890640</title>\n<polygon fill=\"none\" stroke=\"black\" points=\"4.5,-56.5 4.5,-92.5 189.5,-92.5 189.5,-56.5 4.5,-56.5\"/>\n<text text-anchor=\"middle\" x=\"16\" y=\"-70.8\" font-family=\"Times,serif\" font-size=\"14.00\">a</text>\n<polyline fill=\"none\" stroke=\"black\" points=\"27.5,-56.5 27.5,-92.5 \"/>\n<text text-anchor=\"middle\" x=\"67.5\" y=\"-70.8\" font-family=\"Times,serif\" font-size=\"14.00\">data 2.1878</text>\n<polyline fill=\"none\" stroke=\"black\" points=\"107.5,-56.5 107.5,-92.5 \"/>\n<text text-anchor=\"middle\" x=\"148.5\" y=\"-70.8\" font-family=\"Times,serif\" font-size=\"14.00\">grad 7.2091</text>\n</g>\n<!-- 135939818890640&#45;&gt;135939818886272* -->\n<g id=\"edge5\" class=\"edge\">\n<title>135939818890640&#45;&gt;135939818886272*</title>\n<path fill=\"none\" stroke=\"black\" d=\"M189.91,-58.21C200.76,-56.29 211.28,-54.43 220.61,-52.77\"/>\n<polygon fill=\"black\" stroke=\"black\" points=\"221.37,-56.19 230.6,-51 220.15,-49.3 221.37,-56.19\"/>\n</g>\n<!-- 135939818892704 -->\n<g id=\"node7\" class=\"node\">\n<title>135939818892704</title>\n<polygon fill=\"none\" stroke=\"black\" points=\"0,-1.5 0,-37.5 194,-37.5 194,-1.5 0,-1.5\"/>\n<text text-anchor=\"middle\" x=\"11.5\" y=\"-15.8\" font-family=\"Times,serif\" font-size=\"14.00\">b</text>\n<polyline fill=\"none\" stroke=\"black\" points=\"23,-1.5 23,-37.5 \"/>\n<text text-anchor=\"middle\" x=\"65.5\" y=\"-15.8\" font-family=\"Times,serif\" font-size=\"14.00\">data &#45;3.1266</text>\n<polyline fill=\"none\" stroke=\"black\" points=\"108,-1.5 108,-37.5 \"/>\n<text text-anchor=\"middle\" x=\"151\" y=\"-15.8\" font-family=\"Times,serif\" font-size=\"14.00\">grad &#45;5.0443</text>\n</g>\n<!-- 135939818892704&#45;&gt;135939818886272* -->\n<g id=\"edge7\" class=\"edge\">\n<title>135939818892704&#45;&gt;135939818886272*</title>\n<path fill=\"none\" stroke=\"black\" d=\"M194.01,-35.91C203.35,-37.5 212.37,-39.04 220.49,-40.43\"/>\n<polygon fill=\"black\" stroke=\"black\" points=\"220.16,-43.93 230.6,-42.16 221.34,-37.03 220.16,-43.93\"/>\n</g>\n<!-- 135939818897360 -->\n<g id=\"node8\" class=\"node\">\n<title>135939818897360</title>\n<polygon fill=\"none\" stroke=\"black\" points=\"640,-55.5 640,-91.5 841,-91.5 841,-55.5 640,-55.5\"/>\n<text text-anchor=\"middle\" x=\"651.5\" y=\"-69.8\" font-family=\"Times,serif\" font-size=\"14.00\">d</text>\n<polyline fill=\"none\" stroke=\"black\" points=\"663,-55.5 663,-91.5 \"/>\n<text text-anchor=\"middle\" x=\"709\" y=\"-69.8\" font-family=\"Times,serif\" font-size=\"14.00\">data &#45;10.9023</text>\n<polyline fill=\"none\" stroke=\"black\" points=\"755,-55.5 755,-91.5 \"/>\n<text text-anchor=\"middle\" x=\"798\" y=\"-69.8\" font-family=\"Times,serif\" font-size=\"14.00\">grad &#45;2.3057</text>\n</g>\n<!-- 135939818897360&#45;&gt;135939818894864+ -->\n<g id=\"edge4\" class=\"edge\">\n<title>135939818897360&#45;&gt;135939818894864+</title>\n<path fill=\"none\" stroke=\"black\" d=\"M841.02,-56.25C850.41,-54.62 859.44,-53.05 867.56,-51.64\"/>\n<polygon fill=\"black\" stroke=\"black\" points=\"868.42,-55.05 877.68,-49.89 867.23,-48.15 868.42,-55.05\"/>\n</g>\n<!-- 135939818897360+&#45;&gt;135939818897360 -->\n<g id=\"edge3\" class=\"edge\">\n<title>135939818897360+&#45;&gt;135939818897360</title>\n<path fill=\"none\" stroke=\"black\" d=\"M604.31,-73.5C611.79,-73.5 620.44,-73.5 629.68,-73.5\"/>\n<polygon fill=\"black\" stroke=\"black\" points=\"629.9,-77 639.9,-73.5 629.9,-70 629.9,-77\"/>\n</g>\n<!-- 135939818893280 -->\n<g id=\"node10\" class=\"node\">\n<title>135939818893280</title>\n<polygon fill=\"none\" stroke=\"black\" points=\"641,-0.5 641,-36.5 840,-36.5 840,-0.5 641,-0.5\"/>\n<text text-anchor=\"middle\" x=\"651.5\" y=\"-14.8\" font-family=\"Times,serif\" font-size=\"14.00\">f</text>\n<polyline fill=\"none\" stroke=\"black\" points=\"662,-0.5 662,-36.5 \"/>\n<text text-anchor=\"middle\" x=\"704.5\" y=\"-14.8\" font-family=\"Times,serif\" font-size=\"14.00\">data &#45;2.3057</text>\n<polyline fill=\"none\" stroke=\"black\" points=\"747,-0.5 747,-36.5 \"/>\n<text text-anchor=\"middle\" x=\"793.5\" y=\"-14.8\" font-family=\"Times,serif\" font-size=\"14.00\">grad &#45;10.9023</text>\n</g>\n<!-- 135939818893280&#45;&gt;135939818894864+ -->\n<g id=\"edge6\" class=\"edge\">\n<title>135939818893280&#45;&gt;135939818894864+</title>\n<path fill=\"none\" stroke=\"black\" d=\"M840.1,-34.98C849.79,-36.6 859.13,-38.17 867.51,-39.57\"/>\n<polygon fill=\"black\" stroke=\"black\" points=\"867.12,-43.05 877.56,-41.25 868.27,-36.15 867.12,-43.05\"/>\n</g>\n</g>\n</svg>\n",
            "text/plain": [
              "<graphviz.graphs.Digraph at 0x7ba2f49bfd00>"
            ]
          },
          "metadata": {},
          "execution_count": 147
        }
      ]
    },
    {
      "cell_type": "code",
      "source": [
        "# Manual Backpropagation\n",
        "L.grad = 1.0\n",
        "d.grad = f.data\n",
        "f.grad = d.data\n",
        "c.grad = d.grad * 1.0\n",
        "e.grad = d.grad * 1.0\n",
        "b.grad = e.grad * a.data\n",
        "a.grad = e.grad * b.data"
      ],
      "metadata": {
        "id": "_tN2gOhL5Tu_"
      },
      "execution_count": 146,
      "outputs": []
    },
    {
      "cell_type": "code",
      "source": [
        "# Sinlge optimization run\n",
        "a.data += (0.01 * a.grad)\n",
        "b.data += (0.01 * b.grad)\n",
        "c.data += (0.01 * c.grad)\n",
        "f.data += (0.01 *  f.grad)\n",
        "\n",
        "e = a * b\n",
        "e.label = 'e'\n",
        "d = e + c\n",
        "d.label = 'd'\n",
        "L = d + f\n",
        "L.label ='L'\n",
        "print(L.data)"
      ],
      "metadata": {
        "colab": {
          "base_uri": "https://localhost:8080/"
        },
        "id": "Sl2y5gyU-pbH",
        "outputId": "c9461622-c12f-4a12-eb1d-1c70bb904848"
      },
      "execution_count": 144,
      "outputs": [
        {
          "output_type": "stream",
          "name": "stdout",
          "text": [
            "-13.208033926399999\n"
          ]
        }
      ]
    },
    {
      "cell_type": "code",
      "source": [
        "def man_def():\n",
        "  h = 0.001\n",
        "\n",
        "  a = Value(2.0, label='a')\n",
        "  b = Value(-3.0, label='b')\n",
        "  c = Value(-4.0, label='c')\n",
        "  e = a*b; e.label = 'e'\n",
        "  d = e + c; d.label = 'd'\n",
        "  f = Value(-2.0, label='f')\n",
        "  L = d * f; L.label = 'L'\n",
        "  L1 = L.data\n",
        "\n",
        "  a = Value(2.0, label='a')\n",
        "  b = Value(-3.0, label='b')\n",
        "  c = Value(-4.0, label='c')\n",
        "  e = a*b; e.label = 'e'\n",
        "  d = e + c; d.label = 'd'\n",
        "  f = Value(-2.0, label='f')\n",
        "  f.data+=h\n",
        "  L = d * f; L.label = 'L'\n",
        "  L2 = L.data\n",
        "\n",
        "  print((L2 - L1)/h)\n",
        "\n",
        "man_def()"
      ],
      "metadata": {
        "colab": {
          "base_uri": "https://localhost:8080/"
        },
        "id": "w6BOeGmB0pPL",
        "outputId": "e4c6d8d0-b6dd-461b-eedf-1e5e0e546eed"
      },
      "execution_count": 112,
      "outputs": [
        {
          "output_type": "stream",
          "name": "stdout",
          "text": [
            "-9.99999999999801\n"
          ]
        }
      ]
    },
    {
      "cell_type": "code",
      "source": [
        "\n"
      ],
      "metadata": {
        "colab": {
          "base_uri": "https://localhost:8080/",
          "height": 249
        },
        "id": "zDE6Xlqj5O-r",
        "outputId": "b342270f-c6ff-4acb-d0cc-f149d9ea025e"
      },
      "execution_count": 83,
      "outputs": [
        {
          "output_type": "execute_result",
          "data": {
            "image/svg+xml": "<?xml version=\"1.0\" encoding=\"UTF-8\" standalone=\"no\"?>\n<!DOCTYPE svg PUBLIC \"-//W3C//DTD SVG 1.1//EN\"\n \"http://www.w3.org/Graphics/SVG/1.1/DTD/svg11.dtd\">\n<!-- Generated by graphviz version 2.43.0 (0)\n -->\n<!-- Title: %3 Pages: 1 -->\n<svg width=\"1155pt\" height=\"156pt\"\n viewBox=\"0.00 0.00 1155.00 156.00\" xmlns=\"http://www.w3.org/2000/svg\" xmlns:xlink=\"http://www.w3.org/1999/xlink\">\n<g id=\"graph0\" class=\"graph\" transform=\"scale(1 1) rotate(0) translate(4 152)\">\n<title>%3</title>\n<polygon fill=\"white\" stroke=\"transparent\" points=\"-4,4 -4,-152 1151,-152 1151,4 -4,4\"/>\n<!-- 135939818887184 -->\n<g id=\"node1\" class=\"node\">\n<title>135939818887184</title>\n<polygon fill=\"none\" stroke=\"black\" points=\"2.5,-111.5 2.5,-147.5 187.5,-147.5 187.5,-111.5 2.5,-111.5\"/>\n<text text-anchor=\"middle\" x=\"14\" y=\"-125.8\" font-family=\"Times,serif\" font-size=\"14.00\">a</text>\n<polyline fill=\"none\" stroke=\"black\" points=\"25.5,-111.5 25.5,-147.5 \"/>\n<text text-anchor=\"middle\" x=\"65.5\" y=\"-125.8\" font-family=\"Times,serif\" font-size=\"14.00\">data 2.0000</text>\n<polyline fill=\"none\" stroke=\"black\" points=\"105.5,-111.5 105.5,-147.5 \"/>\n<text text-anchor=\"middle\" x=\"146.5\" y=\"-125.8\" font-family=\"Times,serif\" font-size=\"14.00\">grad 0.0000</text>\n</g>\n<!-- 135939818889632* -->\n<g id=\"node7\" class=\"node\">\n<title>135939818889632*</title>\n<ellipse fill=\"none\" stroke=\"black\" cx=\"253\" cy=\"-101.5\" rx=\"27\" ry=\"18\"/>\n<text text-anchor=\"middle\" x=\"253\" y=\"-97.8\" font-family=\"Times,serif\" font-size=\"14.00\">*</text>\n</g>\n<!-- 135939818887184&#45;&gt;135939818889632* -->\n<g id=\"edge7\" class=\"edge\">\n<title>135939818887184&#45;&gt;135939818889632*</title>\n<path fill=\"none\" stroke=\"black\" d=\"M187.65,-113.05C197.94,-111.2 207.91,-109.41 216.81,-107.82\"/>\n<polygon fill=\"black\" stroke=\"black\" points=\"217.48,-111.25 226.71,-106.04 216.25,-104.36 217.48,-111.25\"/>\n</g>\n<!-- 135939818895968 -->\n<g id=\"node2\" class=\"node\">\n<title>135939818895968</title>\n<polygon fill=\"none\" stroke=\"black\" points=\"633,-0.5 633,-36.5 821,-36.5 821,-0.5 633,-0.5\"/>\n<text text-anchor=\"middle\" x=\"643.5\" y=\"-14.8\" font-family=\"Times,serif\" font-size=\"14.00\">f</text>\n<polyline fill=\"none\" stroke=\"black\" points=\"654,-0.5 654,-36.5 \"/>\n<text text-anchor=\"middle\" x=\"696.5\" y=\"-14.8\" font-family=\"Times,serif\" font-size=\"14.00\">data &#45;2.0000</text>\n<polyline fill=\"none\" stroke=\"black\" points=\"739,-0.5 739,-36.5 \"/>\n<text text-anchor=\"middle\" x=\"780\" y=\"-14.8\" font-family=\"Times,serif\" font-size=\"14.00\">grad 0.0000</text>\n</g>\n<!-- 135939818885600+ -->\n<g id=\"node9\" class=\"node\">\n<title>135939818885600+</title>\n<ellipse fill=\"none\" stroke=\"black\" cx=\"885\" cy=\"-45.5\" rx=\"27\" ry=\"18\"/>\n<text text-anchor=\"middle\" x=\"885\" y=\"-41.8\" font-family=\"Times,serif\" font-size=\"14.00\">+</text>\n</g>\n<!-- 135939818895968&#45;&gt;135939818885600+ -->\n<g id=\"edge9\" class=\"edge\">\n<title>135939818895968&#45;&gt;135939818885600+</title>\n<path fill=\"none\" stroke=\"black\" d=\"M821.45,-34.67C831.03,-36.33 840.29,-37.93 848.61,-39.37\"/>\n<polygon fill=\"black\" stroke=\"black\" points=\"848.16,-42.85 858.61,-41.11 849.35,-35.95 848.16,-42.85\"/>\n</g>\n<!-- 135939818896736 -->\n<g id=\"node3\" class=\"node\">\n<title>135939818896736</title>\n<polygon fill=\"none\" stroke=\"black\" points=\"632,-55.5 632,-91.5 822,-91.5 822,-55.5 632,-55.5\"/>\n<text text-anchor=\"middle\" x=\"643.5\" y=\"-69.8\" font-family=\"Times,serif\" font-size=\"14.00\">d</text>\n<polyline fill=\"none\" stroke=\"black\" points=\"655,-55.5 655,-91.5 \"/>\n<text text-anchor=\"middle\" x=\"697.5\" y=\"-69.8\" font-family=\"Times,serif\" font-size=\"14.00\">data &#45;8.3100</text>\n<polyline fill=\"none\" stroke=\"black\" points=\"740,-55.5 740,-91.5 \"/>\n<text text-anchor=\"middle\" x=\"781\" y=\"-69.8\" font-family=\"Times,serif\" font-size=\"14.00\">grad 0.0000</text>\n</g>\n<!-- 135939818896736&#45;&gt;135939818885600+ -->\n<g id=\"edge8\" class=\"edge\">\n<title>135939818896736&#45;&gt;135939818885600+</title>\n<path fill=\"none\" stroke=\"black\" d=\"M822.34,-56.57C831.62,-54.9 840.58,-53.29 848.66,-51.84\"/>\n<polygon fill=\"black\" stroke=\"black\" points=\"849.49,-55.25 858.72,-50.04 848.26,-48.36 849.49,-55.25\"/>\n</g>\n<!-- 135939818896736+ -->\n<g id=\"node4\" class=\"node\">\n<title>135939818896736+</title>\n<ellipse fill=\"none\" stroke=\"black\" cx=\"569\" cy=\"-73.5\" rx=\"27\" ry=\"18\"/>\n<text text-anchor=\"middle\" x=\"569\" y=\"-69.8\" font-family=\"Times,serif\" font-size=\"14.00\">+</text>\n</g>\n<!-- 135939818896736+&#45;&gt;135939818896736 -->\n<g id=\"edge1\" class=\"edge\">\n<title>135939818896736+&#45;&gt;135939818896736</title>\n<path fill=\"none\" stroke=\"black\" d=\"M596.11,-73.5C603.63,-73.5 612.32,-73.5 621.58,-73.5\"/>\n<polygon fill=\"black\" stroke=\"black\" points=\"621.81,-77 631.81,-73.5 621.81,-70 621.81,-77\"/>\n</g>\n<!-- 135939818895200 -->\n<g id=\"node5\" class=\"node\">\n<title>135939818895200</title>\n<polygon fill=\"none\" stroke=\"black\" points=\"316,-28.5 316,-64.5 506,-64.5 506,-28.5 316,-28.5\"/>\n<text text-anchor=\"middle\" x=\"327.5\" y=\"-42.8\" font-family=\"Times,serif\" font-size=\"14.00\">c</text>\n<polyline fill=\"none\" stroke=\"black\" points=\"339,-28.5 339,-64.5 \"/>\n<text text-anchor=\"middle\" x=\"381.5\" y=\"-42.8\" font-family=\"Times,serif\" font-size=\"14.00\">data &#45;2.3100</text>\n<polyline fill=\"none\" stroke=\"black\" points=\"424,-28.5 424,-64.5 \"/>\n<text text-anchor=\"middle\" x=\"465\" y=\"-42.8\" font-family=\"Times,serif\" font-size=\"14.00\">grad 0.0000</text>\n</g>\n<!-- 135939818895200&#45;&gt;135939818896736+ -->\n<g id=\"edge4\" class=\"edge\">\n<title>135939818895200&#45;&gt;135939818896736+</title>\n<path fill=\"none\" stroke=\"black\" d=\"M506.34,-62.83C515.62,-64.44 524.58,-65.99 532.66,-67.38\"/>\n<polygon fill=\"black\" stroke=\"black\" points=\"532.27,-70.87 542.72,-69.12 533.46,-63.97 532.27,-70.87\"/>\n</g>\n<!-- 135939818889632 -->\n<g id=\"node6\" class=\"node\">\n<title>135939818889632</title>\n<polygon fill=\"none\" stroke=\"black\" points=\"316,-83.5 316,-119.5 506,-119.5 506,-83.5 316,-83.5\"/>\n<text text-anchor=\"middle\" x=\"327.5\" y=\"-97.8\" font-family=\"Times,serif\" font-size=\"14.00\">e</text>\n<polyline fill=\"none\" stroke=\"black\" points=\"339,-83.5 339,-119.5 \"/>\n<text text-anchor=\"middle\" x=\"381.5\" y=\"-97.8\" font-family=\"Times,serif\" font-size=\"14.00\">data &#45;6.0000</text>\n<polyline fill=\"none\" stroke=\"black\" points=\"424,-83.5 424,-119.5 \"/>\n<text text-anchor=\"middle\" x=\"465\" y=\"-97.8\" font-family=\"Times,serif\" font-size=\"14.00\">grad 0.0000</text>\n</g>\n<!-- 135939818889632&#45;&gt;135939818896736+ -->\n<g id=\"edge5\" class=\"edge\">\n<title>135939818889632&#45;&gt;135939818896736+</title>\n<path fill=\"none\" stroke=\"black\" d=\"M506.34,-84.57C515.62,-82.9 524.58,-81.29 532.66,-79.84\"/>\n<polygon fill=\"black\" stroke=\"black\" points=\"533.49,-83.25 542.72,-78.04 532.26,-76.36 533.49,-83.25\"/>\n</g>\n<!-- 135939818889632*&#45;&gt;135939818889632 -->\n<g id=\"edge2\" class=\"edge\">\n<title>135939818889632*&#45;&gt;135939818889632</title>\n<path fill=\"none\" stroke=\"black\" d=\"M280.11,-101.5C287.63,-101.5 296.32,-101.5 305.58,-101.5\"/>\n<polygon fill=\"black\" stroke=\"black\" points=\"305.81,-105 315.81,-101.5 305.81,-98 305.81,-105\"/>\n</g>\n<!-- 135939818885600 -->\n<g id=\"node8\" class=\"node\">\n<title>135939818885600</title>\n<polygon fill=\"none\" stroke=\"black\" points=\"948,-27.5 948,-63.5 1147,-63.5 1147,-27.5 948,-27.5\"/>\n<text text-anchor=\"middle\" x=\"960.5\" y=\"-41.8\" font-family=\"Times,serif\" font-size=\"14.00\">L</text>\n<polyline fill=\"none\" stroke=\"black\" points=\"973,-27.5 973,-63.5 \"/>\n<text text-anchor=\"middle\" x=\"1019\" y=\"-41.8\" font-family=\"Times,serif\" font-size=\"14.00\">data &#45;10.3100</text>\n<polyline fill=\"none\" stroke=\"black\" points=\"1065,-27.5 1065,-63.5 \"/>\n<text text-anchor=\"middle\" x=\"1106\" y=\"-41.8\" font-family=\"Times,serif\" font-size=\"14.00\">grad 1.0000</text>\n</g>\n<!-- 135939818885600+&#45;&gt;135939818885600 -->\n<g id=\"edge3\" class=\"edge\">\n<title>135939818885600+&#45;&gt;135939818885600</title>\n<path fill=\"none\" stroke=\"black\" d=\"M912.14,-45.5C919.65,-45.5 928.33,-45.5 937.6,-45.5\"/>\n<polygon fill=\"black\" stroke=\"black\" points=\"937.86,-49 947.86,-45.5 937.86,-42 937.86,-49\"/>\n</g>\n<!-- 135939818884592 -->\n<g id=\"node10\" class=\"node\">\n<title>135939818884592</title>\n<polygon fill=\"none\" stroke=\"black\" points=\"0,-56.5 0,-92.5 190,-92.5 190,-56.5 0,-56.5\"/>\n<text text-anchor=\"middle\" x=\"11.5\" y=\"-70.8\" font-family=\"Times,serif\" font-size=\"14.00\">b</text>\n<polyline fill=\"none\" stroke=\"black\" points=\"23,-56.5 23,-92.5 \"/>\n<text text-anchor=\"middle\" x=\"65.5\" y=\"-70.8\" font-family=\"Times,serif\" font-size=\"14.00\">data &#45;3.0000</text>\n<polyline fill=\"none\" stroke=\"black\" points=\"108,-56.5 108,-92.5 \"/>\n<text text-anchor=\"middle\" x=\"149\" y=\"-70.8\" font-family=\"Times,serif\" font-size=\"14.00\">grad 0.0000</text>\n</g>\n<!-- 135939818884592&#45;&gt;135939818889632* -->\n<g id=\"edge6\" class=\"edge\">\n<title>135939818884592&#45;&gt;135939818889632*</title>\n<path fill=\"none\" stroke=\"black\" d=\"M190.34,-90.83C199.62,-92.44 208.58,-93.99 216.66,-95.38\"/>\n<polygon fill=\"black\" stroke=\"black\" points=\"216.27,-98.87 226.72,-97.12 217.46,-91.97 216.27,-98.87\"/>\n</g>\n</g>\n</svg>\n",
            "text/plain": [
              "<graphviz.graphs.Digraph at 0x7ba2f49d8130>"
            ]
          },
          "metadata": {},
          "execution_count": 83
        }
      ]
    },
    {
      "cell_type": "code",
      "source": [],
      "metadata": {
        "id": "syeiS1qq5gNf"
      },
      "execution_count": null,
      "outputs": []
    }
  ]
}