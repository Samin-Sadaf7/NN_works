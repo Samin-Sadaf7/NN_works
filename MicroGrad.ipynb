{
  "nbformat": 4,
  "nbformat_minor": 0,
  "metadata": {
    "colab": {
      "provenance": [],
      "authorship_tag": "ABX9TyOBQxjrNlBTfFomS5w55ggq",
      "include_colab_link": true
    },
    "kernelspec": {
      "name": "python3",
      "display_name": "Python 3"
    },
    "language_info": {
      "name": "python"
    }
  },
  "cells": [
    {
      "cell_type": "markdown",
      "metadata": {
        "id": "view-in-github",
        "colab_type": "text"
      },
      "source": [
        "<a href=\"https://colab.research.google.com/github/Samin-Sadaf7/NN_works/blob/main/MicroGrad.ipynb\" target=\"_parent\"><img src=\"https://colab.research.google.com/assets/colab-badge.svg\" alt=\"Open In Colab\"/></a>"
      ]
    },
    {
      "cell_type": "markdown",
      "source": [
        "**`Original idea and works:  Andrej Karpathy`**"
      ],
      "metadata": {
        "id": "YTNjgJJDtTkF"
      }
    },
    {
      "cell_type": "code",
      "execution_count": 37,
      "metadata": {
        "id": "f3r5aXtxkNJ3"
      },
      "outputs": [],
      "source": [
        "import numpy as np\n",
        "import math\n",
        "import matplotlib.pyplot as plt\n",
        "%matplotlib inline"
      ]
    },
    {
      "cell_type": "code",
      "source": [
        "def func(x):\n",
        "  return 2*x**2+4*x-7"
      ],
      "metadata": {
        "id": "bUlVHPjpnDBS"
      },
      "execution_count": 2,
      "outputs": []
    },
    {
      "cell_type": "code",
      "source": [
        "func(3.0)"
      ],
      "metadata": {
        "colab": {
          "base_uri": "https://localhost:8080/"
        },
        "id": "IUdiRhyxnSWt",
        "outputId": "cb0a6858-0173-4035-b1a0-7d521e8e9c7d"
      },
      "execution_count": 3,
      "outputs": [
        {
          "output_type": "execute_result",
          "data": {
            "text/plain": [
              "23.0"
            ]
          },
          "metadata": {},
          "execution_count": 3
        }
      ]
    },
    {
      "cell_type": "code",
      "source": [
        "xs = np.arange(-3, 3,0.1)\n",
        "ys = func(xs)\n",
        "plt.plot(xs, ys)"
      ],
      "metadata": {
        "colab": {
          "base_uri": "https://localhost:8080/",
          "height": 447
        },
        "id": "bAGnuhEpnUmA",
        "outputId": "76aba9c9-8a83-43f3-8837-e288695c23c1"
      },
      "execution_count": 4,
      "outputs": [
        {
          "output_type": "execute_result",
          "data": {
            "text/plain": [
              "[<matplotlib.lines.Line2D at 0x7b84b46eebf0>]"
            ]
          },
          "metadata": {},
          "execution_count": 4
        },
        {
          "output_type": "display_data",
          "data": {
            "text/plain": [
              "<Figure size 640x480 with 1 Axes>"
            ],
            "image/png": "[encoded data removed]"
          },
          "metadata": {}
        }
      ]
    },
    {
      "cell_type": "markdown",
      "source": [
        "###Derivative\n",
        "\n",
        "Let  a∈R\n",
        "  and let  f(x)\n",
        "  be defined on an open interval 6 that contains  a.\n",
        "\n",
        "The derivative of  f(x)\n",
        "  at  x=a\n",
        "  is denoted  f′(a)\n",
        "  and is defined by\n",
        "f′(a)=limh→0f(a+h)−f(a)h\n",
        "\n",
        "if the limit exists.\n",
        "When the above limit exists, the function  f(x)\n",
        "  is said to be differentiable at  x=a.\n",
        "  When the limit does not exist, the function  f(x)\n",
        "  is said to be not differentiable at  x=a.\n",
        "\n",
        "We can equivalently define the derivative  f′(a)\n",
        "  by the limit\n",
        "f′(a)=limx→af(x)−f(a)x−a.\n",
        "\n",
        "To see that these two definitions are the same, we set  x=a+h\n",
        "  and then the limit as  h\n",
        "  goes to  0\n",
        "  is equivalent to the limit as  x\n",
        "  goes to  a."
      ],
      "metadata": {
        "id": "_Cv-_HHfogqC"
      }
    },
    {
      "cell_type": "code",
      "source": [
        "h = 0.0000001\n",
        "x = -2.5\n",
        "(func(x+h)-func(x))/h"
      ],
      "metadata": {
        "colab": {
          "base_uri": "https://localhost:8080/"
        },
        "id": "sTdI0GkVn0HE",
        "outputId": "b1c3e921-fff0-49b7-8a77-fca0440a42a0"
      },
      "execution_count": 5,
      "outputs": [
        {
          "output_type": "execute_result",
          "data": {
            "text/plain": [
              "-5.99999978589949"
            ]
          },
          "metadata": {},
          "execution_count": 5
        }
      ]
    },
    {
      "cell_type": "code",
      "source": [
        "a = 2.0\n",
        "b = -3.0\n",
        "c = 4.0\n",
        "d = a*b +c\n",
        "print(d)"
      ],
      "metadata": {
        "colab": {
          "base_uri": "https://localhost:8080/"
        },
        "id": "Kn7IaDhzpJDO",
        "outputId": "60b2ec44-be2e-4c04-ac1e-e0e7728050b9"
      },
      "execution_count": 6,
      "outputs": [
        {
          "output_type": "stream",
          "name": "stdout",
          "text": [
            "-2.0\n"
          ]
        }
      ]
    },
    {
      "cell_type": "code",
      "source": [
        "h = 0.001\n",
        "#inputs\n",
        "a = 2.0\n",
        "b = -3.0\n",
        "c = 4.0\n",
        "\n",
        "d1 = a*b +c\n",
        "a+=h\n",
        "d2 = a*b +c\n",
        "print('d1:', d1)\n",
        "print('d2:', d2)\n",
        "print(\"slope d with respect to a :\" , (d2-d1)/h)"
      ],
      "metadata": {
        "colab": {
          "base_uri": "https://localhost:8080/"
        },
        "id": "xmkqsRfMqfdW",
        "outputId": "6bd1de7d-11c3-48d4-bcfc-bec71ab03b64"
      },
      "execution_count": 7,
      "outputs": [
        {
          "output_type": "stream",
          "name": "stdout",
          "text": [
            "d1: -2.0\n",
            "d2: -2.003\n",
            "slope d with respect to a : -3.0000000000001137\n"
          ]
        }
      ]
    },
    {
      "cell_type": "code",
      "source": [
        "h = 0.001\n",
        "#inputs\n",
        "a = 2.0\n",
        "b = -3.0\n",
        "c = 4.0\n",
        "\n",
        "d1 = a*b +c\n",
        "b+=h\n",
        "d2 = a*b +c\n",
        "print('d1:', d1)\n",
        "print('d2:', d2)\n",
        "print(\"slope d with respect to b :\" , (d2-d1)/h)"
      ],
      "metadata": {
        "colab": {
          "base_uri": "https://localhost:8080/"
        },
        "id": "X_Idi22erKyY",
        "outputId": "a1caf7ac-1834-460a-ec6f-367c8d631ea6"
      },
      "execution_count": 8,
      "outputs": [
        {
          "output_type": "stream",
          "name": "stdout",
          "text": [
            "d1: -2.0\n",
            "d2: -1.9980000000000002\n",
            "slope d with respect to b : 1.9999999999997797\n"
          ]
        }
      ]
    },
    {
      "cell_type": "code",
      "source": [
        "h = 0.001\n",
        "#inputs\n",
        "a = 2.0\n",
        "b = -3.0\n",
        "c = 4.0\n",
        "\n",
        "d1 = a*b +c\n",
        "c+=h\n",
        "d2 = a*b +c\n",
        "print('d1:', d1)\n",
        "print('d2:', d2)\n",
        "print(\"slope d with respect to c :\" , (d2-d1)/h)"
      ],
      "metadata": {
        "colab": {
          "base_uri": "https://localhost:8080/"
        },
        "id": "RizSX3wQrw3C",
        "outputId": "81a128ae-55d4-4894-8526-a69f14ad0bec"
      },
      "execution_count": 9,
      "outputs": [
        {
          "output_type": "stream",
          "name": "stdout",
          "text": [
            "d1: -2.0\n",
            "d2: -1.9989999999999997\n",
            "slope d with respect to c : 1.000000000000334\n"
          ]
        }
      ]
    },
    {
      "cell_type": "markdown",
      "source": [
        "### Need a Data Structure to wrap up the data  in Neural Network\n",
        "Building the core of MicroGrad"
      ],
      "metadata": {
        "id": "K7edvQvTtJPf"
      }
    },
    {
      "cell_type": "code",
      "source": [
        "class Value:\n",
        "  # constructor in python\n",
        "  def __init__(self, data, _children=(), _op=(), label=''):\n",
        "    self.data = data\n",
        "    self._prev = set(_children)\n",
        "    self._backward = lambda:None\n",
        "    self.grad = 0.0\n",
        "    self._op = _op\n",
        "    self.label = label\n",
        "\n",
        "  def __repr__(self):\n",
        "    return f\"Value(data:{self.data})\"\n",
        "\n",
        "  #operator overloading in python\n",
        "  def __add__(self, other):\n",
        "    other = other if isinstance(other,Value) else Value(other)\n",
        "    out = Value(self.data + other.data, (self, other),'+')\n",
        "\n",
        "    def _backward():\n",
        "      self.grad += 1.0 * out.grad\n",
        "      other.grad += 1.0 * out.grad\n",
        "\n",
        "    out._backward = _backward\n",
        "    return out\n",
        "\n",
        "  def __radd__(self, other):\n",
        "    return self + other\n",
        "\n",
        "  def __mul__(self, other):\n",
        "    other = other if isinstance(other,Value) else Value(other)\n",
        "    out = Value(self.data * other.data, (self, other),'*')\n",
        "\n",
        "    def _backward():\n",
        "      self.grad += other.data * out.grad\n",
        "      other.grad += self.data * out.grad\n",
        "\n",
        "    out._backward = _backward\n",
        "    return out\n",
        "\n",
        "  def __rmul__(self, other): #other * self\n",
        "    return self * other\n",
        "\n",
        "  def __pow__(self, other):\n",
        "    assert isinstance(other, (int, float)),\"only supports int/float for now\"\n",
        "    out = Value(self.data ** other,(self,), f'**{other}')\n",
        "    def _backward():\n",
        "      self.grad += other*(self.data ** (other-1)) * out.grad\n",
        "\n",
        "    out._backward = _backward\n",
        "    return out\n",
        "\n",
        "  def __truediv__(self, other):\n",
        "    return self * other ** -1\n",
        "\n",
        "  def tanh(self):\n",
        "    x = self.data\n",
        "    t = (math.exp(2*x) - 1)/(math.exp(2*x) + 1)\n",
        "    out = Value(t, (self, ), 'tanh')\n",
        "\n",
        "    def _backward():\n",
        "      self.grad += (1 - t**2) * out.grad\n",
        "\n",
        "    out._backward = _backward\n",
        "\n",
        "    return out\n",
        "\n",
        "  def __neg__(self):\n",
        "    return self * -1\n",
        "\n",
        "  def __sub__(self, other):\n",
        "    return self + (-other)\n",
        "\n",
        "  def exp(self):\n",
        "    val = self.data\n",
        "    out = Value(math.exp(val), (self,), 'exp')\n",
        "\n",
        "    def _backward():\n",
        "      self.grad += out.data * out.grad\n",
        "\n",
        "    out._backward = _backward\n",
        "    return out\n",
        "\n",
        "  def backward(self):\n",
        "\n",
        "    #Combining everything below to create an automated backpropagation\n",
        "\n",
        "    topo = []\n",
        "    visited = set()\n",
        "\n",
        "    def build_topo(v):\n",
        "        if v not in visited:\n",
        "          visited.add(v)\n",
        "          for child in v._prev:\n",
        "             build_topo(child)\n",
        "          topo.append(v)\n",
        "\n",
        "    self.grad = 1.0\n",
        "    build_topo(self)\n",
        "    for node in reversed(topo):\n",
        "        node._backward()\n"
      ],
      "metadata": {
        "id": "6w2EbB4Ir8z7"
      },
      "execution_count": 97,
      "outputs": []
    },
    {
      "cell_type": "code",
      "source": [
        "a = Value(6.0)\n",
        "b = Value(4.0)\n",
        "print(a/b)\n",
        "print(a-b)"
      ],
      "metadata": {
        "colab": {
          "base_uri": "https://localhost:8080/"
        },
        "id": "Hv3axr8R8OHO",
        "outputId": "6757655c-3f48-42b4-f5b8-570543c548c1"
      },
      "execution_count": 98,
      "outputs": [
        {
          "output_type": "stream",
          "name": "stdout",
          "text": [
            "Value(data:1.5)\n",
            "Value(data:2.0)\n"
          ]
        }
      ]
    },
    {
      "cell_type": "code",
      "source": [
        "from graphviz import Digraph\n",
        "\n",
        "def trace(root):\n",
        "  # builds a set of all nodes and edges in a graph\n",
        "  nodes, edges = set(), set()\n",
        "  def build(v):\n",
        "    if v not in nodes:\n",
        "      nodes.add(v)\n",
        "      for child in v._prev:\n",
        "        edges.add((child, v))\n",
        "        build(child)\n",
        "  build(root)\n",
        "  return nodes, edges\n",
        "\n",
        "def draw_dot(root):\n",
        "  dot = Digraph(format='svg', graph_attr={'rankdir': 'LR'}) # LR = left to right\n",
        "\n",
        "  nodes, edges = trace(root)\n",
        "  for n in nodes:\n",
        "    uid = str(id(n))\n",
        "    # for any value in the graph, create a rectangular ('record') node for it\n",
        "    dot.node(name = uid, label = \"{ %s | data %.4f | grad %.4f }\" % (n.label , n.data, n.grad ), shape='record')\n",
        "    if n._op:\n",
        "      # if this value is a result of some operation, create an op node for it\n",
        "      dot.node(name = uid + n._op, label = n._op)\n",
        "      # and connect this node to it\n",
        "      dot.edge(uid + n._op, uid)\n",
        "\n",
        "  for n1, n2 in edges:\n",
        "    # connect n1 to the op node of n2\n",
        "    dot.edge(str(id(n1)), str(id(n2)) + n2._op)\n",
        "\n",
        "  return dot"
      ],
      "metadata": {
        "id": "xdlDXzg5yYOu"
      },
      "execution_count": 39,
      "outputs": []
    },
    {
      "cell_type": "code",
      "source": [
        "a= Value(2.0, label='a')\n",
        "b= Value(-3.0, label = 'b')\n",
        "c= Value(-4,label ='c')\n",
        "e= a*b\n",
        "e.label='e'\n",
        "d = e + c\n",
        "d.label='d'\n",
        "f = Value( -2.0, label = 'f')\n",
        "L = d*f\n",
        "L.label='L'\n",
        "L"
      ],
      "metadata": {
        "colab": {
          "base_uri": "https://localhost:8080/"
        },
        "id": "mo5m9Uny6bvM",
        "outputId": "8d254b47-0b1a-41f0-b636-1959159d1265"
      },
      "execution_count": 69,
      "outputs": [
        {
          "output_type": "execute_result",
          "data": {
            "text/plain": [
              "Value(data:20.0)"
            ]
          },
          "metadata": {},
          "execution_count": 69
        }
      ]
    },
    {
      "cell_type": "code",
      "source": [
        "draw_dot(L)"
      ],
      "metadata": {
        "colab": {
          "base_uri": "https://localhost:8080/",
          "height": 246
        },
        "id": "n_FaNdGwyyfP",
        "outputId": "1e7f1dca-30ca-446e-85db-7678edef3f59"
      },
      "execution_count": 70,
      "outputs": [
        {
          "output_type": "execute_result",
          "data": {
            "image/svg+xml": "<?xml version=\"1.0\" encoding=\"UTF-8\" standalone=\"no\"?>\n<!DOCTYPE svg PUBLIC \"-//W3C//DTD SVG 1.1//EN\"\n \"http://www.w3.org/Graphics/SVG/1.1/DTD/svg11.dtd\">\n<!-- Generated by graphviz version 2.43.0 (0)\n -->\n<!-- Title: %3 Pages: 1 -->\n<svg width=\"1157pt\" height=\"154pt\"\n viewBox=\"0.00 0.00 1157.00 154.00\" xmlns=\"http://www.w3.org/2000/svg\" xmlns:xlink=\"http://www.w3.org/1999/xlink\">\n<g id=\"graph0\" class=\"graph\" transform=\"scale(1 1) rotate(0) translate(4 150)\">\n<title>%3</title>\n<polygon fill=\"white\" stroke=\"transparent\" points=\"-4,4 -4,-150 1153,-150 1153,4 -4,4\"/>\n<!-- 135808867836464 -->\n<g id=\"node1\" class=\"node\">\n<title>135808867836464</title>\n<polygon fill=\"none\" stroke=\"black\" points=\"955,-81.5 955,-117.5 1149,-117.5 1149,-81.5 955,-81.5\"/>\n<text text-anchor=\"middle\" x=\"967.5\" y=\"-95.8\" font-family=\"Times,serif\" font-size=\"14.00\">L</text>\n<polyline fill=\"none\" stroke=\"black\" points=\"980,-81.5 980,-117.5 \"/>\n<text text-anchor=\"middle\" x=\"1023.5\" y=\"-95.8\" font-family=\"Times,serif\" font-size=\"14.00\">data 20.0000</text>\n<polyline fill=\"none\" stroke=\"black\" points=\"1067,-81.5 1067,-117.5 \"/>\n<text text-anchor=\"middle\" x=\"1108\" y=\"-95.8\" font-family=\"Times,serif\" font-size=\"14.00\">grad 0.0000</text>\n</g>\n<!-- 135808867836464* -->\n<g id=\"node2\" class=\"node\">\n<title>135808867836464*</title>\n<ellipse fill=\"none\" stroke=\"black\" cx=\"892\" cy=\"-99.5\" rx=\"27\" ry=\"18\"/>\n<text text-anchor=\"middle\" x=\"892\" y=\"-95.8\" font-family=\"Times,serif\" font-size=\"14.00\">*</text>\n</g>\n<!-- 135808867836464*&#45;&gt;135808867836464 -->\n<g id=\"edge1\" class=\"edge\">\n<title>135808867836464*&#45;&gt;135808867836464</title>\n<path fill=\"none\" stroke=\"black\" d=\"M919.09,-99.5C926.62,-99.5 935.34,-99.5 944.63,-99.5\"/>\n<polygon fill=\"black\" stroke=\"black\" points=\"944.92,-103 954.92,-99.5 944.92,-96 944.92,-103\"/>\n</g>\n<!-- 135808869079632 -->\n<g id=\"node3\" class=\"node\">\n<title>135808869079632</title>\n<polygon fill=\"none\" stroke=\"black\" points=\"2.5,-55.5 2.5,-91.5 187.5,-91.5 187.5,-55.5 2.5,-55.5\"/>\n<text text-anchor=\"middle\" x=\"14\" y=\"-69.8\" font-family=\"Times,serif\" font-size=\"14.00\">a</text>\n<polyline fill=\"none\" stroke=\"black\" points=\"25.5,-55.5 25.5,-91.5 \"/>\n<text text-anchor=\"middle\" x=\"65.5\" y=\"-69.8\" font-family=\"Times,serif\" font-size=\"14.00\">data 2.0000</text>\n<polyline fill=\"none\" stroke=\"black\" points=\"105.5,-55.5 105.5,-91.5 \"/>\n<text text-anchor=\"middle\" x=\"146.5\" y=\"-69.8\" font-family=\"Times,serif\" font-size=\"14.00\">grad 0.0000</text>\n</g>\n<!-- 135808867834352* -->\n<g id=\"node10\" class=\"node\">\n<title>135808867834352*</title>\n<ellipse fill=\"none\" stroke=\"black\" cx=\"253\" cy=\"-45.5\" rx=\"27\" ry=\"18\"/>\n<text text-anchor=\"middle\" x=\"253\" y=\"-41.8\" font-family=\"Times,serif\" font-size=\"14.00\">*</text>\n</g>\n<!-- 135808869079632&#45;&gt;135808867834352* -->\n<g id=\"edge9\" class=\"edge\">\n<title>135808869079632&#45;&gt;135808867834352*</title>\n<path fill=\"none\" stroke=\"black\" d=\"M187.65,-57.05C197.94,-55.2 207.91,-53.41 216.81,-51.82\"/>\n<polygon fill=\"black\" stroke=\"black\" points=\"217.48,-55.25 226.71,-50.04 216.25,-48.36 217.48,-55.25\"/>\n</g>\n<!-- 135808869078240 -->\n<g id=\"node4\" class=\"node\">\n<title>135808869078240</title>\n<polygon fill=\"none\" stroke=\"black\" points=\"636.5,-109.5 636.5,-145.5 824.5,-145.5 824.5,-109.5 636.5,-109.5\"/>\n<text text-anchor=\"middle\" x=\"647\" y=\"-123.8\" font-family=\"Times,serif\" font-size=\"14.00\">f</text>\n<polyline fill=\"none\" stroke=\"black\" points=\"657.5,-109.5 657.5,-145.5 \"/>\n<text text-anchor=\"middle\" x=\"700\" y=\"-123.8\" font-family=\"Times,serif\" font-size=\"14.00\">data &#45;2.0000</text>\n<polyline fill=\"none\" stroke=\"black\" points=\"742.5,-109.5 742.5,-145.5 \"/>\n<text text-anchor=\"middle\" x=\"783.5\" y=\"-123.8\" font-family=\"Times,serif\" font-size=\"14.00\">grad 0.0000</text>\n</g>\n<!-- 135808869078240&#45;&gt;135808867836464* -->\n<g id=\"edge7\" class=\"edge\">\n<title>135808869078240&#45;&gt;135808867836464*</title>\n<path fill=\"none\" stroke=\"black\" d=\"M824.74,-111.13C835.64,-109.22 846.19,-107.37 855.55,-105.72\"/>\n<polygon fill=\"black\" stroke=\"black\" points=\"856.32,-109.14 865.56,-103.97 855.11,-102.25 856.32,-109.14\"/>\n</g>\n<!-- 135808867828016 -->\n<g id=\"node5\" class=\"node\">\n<title>135808867828016</title>\n<polygon fill=\"none\" stroke=\"black\" points=\"632,-54.5 632,-90.5 829,-90.5 829,-54.5 632,-54.5\"/>\n<text text-anchor=\"middle\" x=\"643.5\" y=\"-68.8\" font-family=\"Times,serif\" font-size=\"14.00\">d</text>\n<polyline fill=\"none\" stroke=\"black\" points=\"655,-54.5 655,-90.5 \"/>\n<text text-anchor=\"middle\" x=\"701\" y=\"-68.8\" font-family=\"Times,serif\" font-size=\"14.00\">data &#45;10.0000</text>\n<polyline fill=\"none\" stroke=\"black\" points=\"747,-54.5 747,-90.5 \"/>\n<text text-anchor=\"middle\" x=\"788\" y=\"-68.8\" font-family=\"Times,serif\" font-size=\"14.00\">grad 0.0000</text>\n</g>\n<!-- 135808867828016&#45;&gt;135808867836464* -->\n<g id=\"edge6\" class=\"edge\">\n<title>135808867828016&#45;&gt;135808867836464*</title>\n<path fill=\"none\" stroke=\"black\" d=\"M829.33,-89.06C838.57,-90.62 847.46,-92.13 855.49,-93.49\"/>\n<polygon fill=\"black\" stroke=\"black\" points=\"855.04,-96.96 865.48,-95.18 856.21,-90.06 855.04,-96.96\"/>\n</g>\n<!-- 135808867828016+ -->\n<g id=\"node6\" class=\"node\">\n<title>135808867828016+</title>\n<ellipse fill=\"none\" stroke=\"black\" cx=\"569\" cy=\"-72.5\" rx=\"27\" ry=\"18\"/>\n<text text-anchor=\"middle\" x=\"569\" y=\"-68.8\" font-family=\"Times,serif\" font-size=\"14.00\">+</text>\n</g>\n<!-- 135808867828016+&#45;&gt;135808867828016 -->\n<g id=\"edge2\" class=\"edge\">\n<title>135808867828016+&#45;&gt;135808867828016</title>\n<path fill=\"none\" stroke=\"black\" d=\"M596.34,-72.5C603.81,-72.5 612.44,-72.5 621.64,-72.5\"/>\n<polygon fill=\"black\" stroke=\"black\" points=\"621.83,-76 631.83,-72.5 621.83,-69 621.83,-76\"/>\n</g>\n<!-- 135808869087216 -->\n<g id=\"node7\" class=\"node\">\n<title>135808869087216</title>\n<polygon fill=\"none\" stroke=\"black\" points=\"0,-0.5 0,-36.5 190,-36.5 190,-0.5 0,-0.5\"/>\n<text text-anchor=\"middle\" x=\"11.5\" y=\"-14.8\" font-family=\"Times,serif\" font-size=\"14.00\">b</text>\n<polyline fill=\"none\" stroke=\"black\" points=\"23,-0.5 23,-36.5 \"/>\n<text text-anchor=\"middle\" x=\"65.5\" y=\"-14.8\" font-family=\"Times,serif\" font-size=\"14.00\">data &#45;3.0000</text>\n<polyline fill=\"none\" stroke=\"black\" points=\"108,-0.5 108,-36.5 \"/>\n<text text-anchor=\"middle\" x=\"149\" y=\"-14.8\" font-family=\"Times,serif\" font-size=\"14.00\">grad 0.0000</text>\n</g>\n<!-- 135808869087216&#45;&gt;135808867834352* -->\n<g id=\"edge4\" class=\"edge\">\n<title>135808869087216&#45;&gt;135808867834352*</title>\n<path fill=\"none\" stroke=\"black\" d=\"M190.34,-34.83C199.62,-36.44 208.58,-37.99 216.66,-39.38\"/>\n<polygon fill=\"black\" stroke=\"black\" points=\"216.27,-42.87 226.72,-41.12 217.46,-35.97 216.27,-42.87\"/>\n</g>\n<!-- 135808869073872 -->\n<g id=\"node8\" class=\"node\">\n<title>135808869073872</title>\n<polygon fill=\"none\" stroke=\"black\" points=\"316,-82.5 316,-118.5 506,-118.5 506,-82.5 316,-82.5\"/>\n<text text-anchor=\"middle\" x=\"327.5\" y=\"-96.8\" font-family=\"Times,serif\" font-size=\"14.00\">c</text>\n<polyline fill=\"none\" stroke=\"black\" points=\"339,-82.5 339,-118.5 \"/>\n<text text-anchor=\"middle\" x=\"381.5\" y=\"-96.8\" font-family=\"Times,serif\" font-size=\"14.00\">data &#45;4.0000</text>\n<polyline fill=\"none\" stroke=\"black\" points=\"424,-82.5 424,-118.5 \"/>\n<text text-anchor=\"middle\" x=\"465\" y=\"-96.8\" font-family=\"Times,serif\" font-size=\"14.00\">grad 0.0000</text>\n</g>\n<!-- 135808869073872&#45;&gt;135808867828016+ -->\n<g id=\"edge5\" class=\"edge\">\n<title>135808869073872&#45;&gt;135808867828016+</title>\n<path fill=\"none\" stroke=\"black\" d=\"M506.34,-83.57C515.62,-81.9 524.58,-80.29 532.66,-78.84\"/>\n<polygon fill=\"black\" stroke=\"black\" points=\"533.49,-82.25 542.72,-77.04 532.26,-75.36 533.49,-82.25\"/>\n</g>\n<!-- 135808867834352 -->\n<g id=\"node9\" class=\"node\">\n<title>135808867834352</title>\n<polygon fill=\"none\" stroke=\"black\" points=\"316,-27.5 316,-63.5 506,-63.5 506,-27.5 316,-27.5\"/>\n<text text-anchor=\"middle\" x=\"327.5\" y=\"-41.8\" font-family=\"Times,serif\" font-size=\"14.00\">e</text>\n<polyline fill=\"none\" stroke=\"black\" points=\"339,-27.5 339,-63.5 \"/>\n<text text-anchor=\"middle\" x=\"381.5\" y=\"-41.8\" font-family=\"Times,serif\" font-size=\"14.00\">data &#45;6.0000</text>\n<polyline fill=\"none\" stroke=\"black\" points=\"424,-27.5 424,-63.5 \"/>\n<text text-anchor=\"middle\" x=\"465\" y=\"-41.8\" font-family=\"Times,serif\" font-size=\"14.00\">grad 0.0000</text>\n</g>\n<!-- 135808867834352&#45;&gt;135808867828016+ -->\n<g id=\"edge8\" class=\"edge\">\n<title>135808867834352&#45;&gt;135808867828016+</title>\n<path fill=\"none\" stroke=\"black\" d=\"M506.34,-61.83C515.62,-63.44 524.58,-64.99 532.66,-66.38\"/>\n<polygon fill=\"black\" stroke=\"black\" points=\"532.27,-69.87 542.72,-68.12 533.46,-62.97 532.27,-69.87\"/>\n</g>\n<!-- 135808867834352*&#45;&gt;135808867834352 -->\n<g id=\"edge3\" class=\"edge\">\n<title>135808867834352*&#45;&gt;135808867834352</title>\n<path fill=\"none\" stroke=\"black\" d=\"M280.11,-45.5C287.63,-45.5 296.32,-45.5 305.58,-45.5\"/>\n<polygon fill=\"black\" stroke=\"black\" points=\"305.81,-49 315.81,-45.5 305.81,-42 305.81,-49\"/>\n</g>\n</g>\n</svg>\n",
            "text/plain": [
              "<graphviz.graphs.Digraph at 0x7b8477662f50>"
            ]
          },
          "metadata": {},
          "execution_count": 70
        }
      ]
    },
    {
      "cell_type": "code",
      "source": [
        "# Manual Backpropagation\n",
        "L.grad = 1.0\n",
        "d.grad = f.data\n",
        "f.grad = d.data\n",
        "c.grad = d.grad * 1.0\n",
        "e.grad = d.grad * 1.0\n",
        "b.grad = e.grad * a.data\n",
        "a.grad = e.grad * b.data"
      ],
      "metadata": {
        "id": "_tN2gOhL5Tu_"
      },
      "execution_count": 13,
      "outputs": []
    },
    {
      "cell_type": "code",
      "source": [
        "# Sinlge optimization run\n",
        "a.data += (0.01 * a.grad)\n",
        "b.data += (0.01 * b.grad)\n",
        "c.data += (0.01 * c.grad)\n",
        "f.data += (0.01 *  f.grad)\n",
        "\n",
        "e = a * b\n",
        "e.label = 'e'\n",
        "d = e + c\n",
        "d.label = 'd'\n",
        "L = d + f\n",
        "L.label ='L'\n",
        "print(L.data)"
      ],
      "metadata": {
        "colab": {
          "base_uri": "https://localhost:8080/"
        },
        "id": "Sl2y5gyU-pbH",
        "outputId": "7656b904-2f8c-4721-9578-ed29238f2af5"
      },
      "execution_count": 15,
      "outputs": [
        {
          "output_type": "stream",
          "name": "stdout",
          "text": [
            "-12.382399999999999\n"
          ]
        }
      ]
    },
    {
      "cell_type": "code",
      "source": [
        "def man_def():\n",
        "  h = 0.001\n",
        "\n",
        "  a = Value(2.0, label='a')\n",
        "  b = Value(-3.0, label='b')\n",
        "  c = Value(-4.0, label='c')\n",
        "  e = a*b; e.label = 'e'\n",
        "  d = e + c; d.label = 'd'\n",
        "  f = Value(-2.0, label='f')\n",
        "  L = d * f; L.label = 'L'\n",
        "  L1 = L.data\n",
        "\n",
        "  a = Value(2.0, label='a')\n",
        "  b = Value(-3.0, label='b')\n",
        "  c = Value(-4.0, label='c')\n",
        "  e = a*b; e.label = 'e'\n",
        "  d = e + c; d.label = 'd'\n",
        "  f = Value(-2.0, label='f')\n",
        "  f.data+=h\n",
        "  L = d * f; L.label = 'L'\n",
        "  L2 = L.data\n",
        "\n",
        "  print((L2 - L1)/h)\n",
        "\n",
        "man_def()"
      ],
      "metadata": {
        "colab": {
          "base_uri": "https://localhost:8080/"
        },
        "id": "w6BOeGmB0pPL",
        "outputId": "ba46db9b-0ced-4412-9d60-a6ee6e86fab1"
      },
      "execution_count": 17,
      "outputs": [
        {
          "output_type": "stream",
          "name": "stdout",
          "text": [
            "-9.99999999999801\n"
          ]
        }
      ]
    },
    {
      "cell_type": "code",
      "source": [
        "plt.plot(np.arange(-5,5,0.2), np.tanh(np.arange(-5,5,0.2)))\n",
        "plt.grid()"
      ],
      "metadata": {
        "colab": {
          "base_uri": "https://localhost:8080/",
          "height": 430
        },
        "id": "u8zG5_LJqhoU",
        "outputId": "a36fb3a1-37c6-4adf-b19a-e126163c997b"
      },
      "execution_count": 18,
      "outputs": [
        {
          "output_type": "display_data",
          "data": {
            "text/plain": [
              "<Figure size 640x480 with 1 Axes>"
            ],
            "image/png": "[encoded data removed]"
          },
          "metadata": {}
        }
      ]
    },
    {
      "cell_type": "code",
      "source": [
        "#inputs x1, x2\n",
        "x1 = Value(2.0, label='x1')\n",
        "x2 = Value(0.0, label='x2')\n",
        "# weights w1, 2\n",
        "w1 = Value(-3.0, label='w1')\n",
        "w2 = Value(1.0, label='w2')\n",
        "#bias of neuron b\n",
        "b = Value(6.8880212, label ='b')\n",
        "#x1*w1+x2*w2+b\n",
        "x1w1 = x1*w1 ; x1w1.label = 'x1w1'\n",
        "x2w2 = x2*w2 ; x2w2.label = 'x2w2'\n",
        "x1w1x2w2 = x1w1+ x2w2 ; x1w1x2w2.label = 'x1w1x2w2'\n",
        "n = x1w1x2w2 + b ; n.label='n'\n",
        "o = n.tanh() ; o.label ='o'"
      ],
      "metadata": {
        "id": "67P7DUtmrTjT"
      },
      "execution_count": 99,
      "outputs": []
    },
    {
      "cell_type": "code",
      "source": [
        "draw_dot(o)"
      ],
      "metadata": {
        "colab": {
          "base_uri": "https://localhost:8080/",
          "height": 321
        },
        "id": "tbdlZ4S_tEnM",
        "outputId": "98b5c77a-7734-421b-ada9-f1397dc25494"
      },
      "execution_count": 100,
      "outputs": [
        {
          "output_type": "execute_result",
          "data": {
            "image/svg+xml": "<?xml version=\"1.0\" encoding=\"UTF-8\" standalone=\"no\"?>\n<!DOCTYPE svg PUBLIC \"-//W3C//DTD SVG 1.1//EN\"\n \"http://www.w3.org/Graphics/SVG/1.1/DTD/svg11.dtd\">\n<!-- Generated by graphviz version 2.43.0 (0)\n -->\n<!-- Title: %3 Pages: 1 -->\n<svg width=\"1540pt\" height=\"210pt\"\n viewBox=\"0.00 0.00 1540.00 210.00\" xmlns=\"http://www.w3.org/2000/svg\" xmlns:xlink=\"http://www.w3.org/1999/xlink\">\n<g id=\"graph0\" class=\"graph\" transform=\"scale(1 1) rotate(0) translate(4 206)\">\n<title>%3</title>\n<polygon fill=\"white\" stroke=\"transparent\" points=\"-4,4 -4,-206 1536,-206 1536,4 -4,4\"/>\n<!-- 135808865295888 -->\n<g id=\"node1\" class=\"node\">\n<title>135808865295888</title>\n<polygon fill=\"none\" stroke=\"black\" points=\"1036,-54.5 1036,-90.5 1221,-90.5 1221,-54.5 1036,-54.5\"/>\n<text text-anchor=\"middle\" x=\"1047.5\" y=\"-68.8\" font-family=\"Times,serif\" font-size=\"14.00\">n</text>\n<polyline fill=\"none\" stroke=\"black\" points=\"1059,-54.5 1059,-90.5 \"/>\n<text text-anchor=\"middle\" x=\"1099\" y=\"-68.8\" font-family=\"Times,serif\" font-size=\"14.00\">data 0.8880</text>\n<polyline fill=\"none\" stroke=\"black\" points=\"1139,-54.5 1139,-90.5 \"/>\n<text text-anchor=\"middle\" x=\"1180\" y=\"-68.8\" font-family=\"Times,serif\" font-size=\"14.00\">grad 0.0000</text>\n</g>\n<!-- 135808865295552tanh -->\n<g id=\"node6\" class=\"node\">\n<title>135808865295552tanh</title>\n<ellipse fill=\"none\" stroke=\"black\" cx=\"1284\" cy=\"-72.5\" rx=\"27\" ry=\"18\"/>\n<text text-anchor=\"middle\" x=\"1284\" y=\"-68.8\" font-family=\"Times,serif\" font-size=\"14.00\">tanh</text>\n</g>\n<!-- 135808865295888&#45;&gt;135808865295552tanh -->\n<g id=\"edge13\" class=\"edge\">\n<title>135808865295888&#45;&gt;135808865295552tanh</title>\n<path fill=\"none\" stroke=\"black\" d=\"M1221.01,-72.5C1230.01,-72.5 1238.74,-72.5 1246.66,-72.5\"/>\n<polygon fill=\"black\" stroke=\"black\" points=\"1246.91,-76 1256.91,-72.5 1246.91,-69 1246.91,-76\"/>\n</g>\n<!-- 135808865295888+ -->\n<g id=\"node2\" class=\"node\">\n<title>135808865295888+</title>\n<ellipse fill=\"none\" stroke=\"black\" cx=\"973\" cy=\"-72.5\" rx=\"27\" ry=\"18\"/>\n<text text-anchor=\"middle\" x=\"973\" y=\"-68.8\" font-family=\"Times,serif\" font-size=\"14.00\">+</text>\n</g>\n<!-- 135808865295888+&#45;&gt;135808865295888 -->\n<g id=\"edge1\" class=\"edge\">\n<title>135808865295888+&#45;&gt;135808865295888</title>\n<path fill=\"none\" stroke=\"black\" d=\"M1000.04,-72.5C1007.58,-72.5 1016.3,-72.5 1025.57,-72.5\"/>\n<polygon fill=\"black\" stroke=\"black\" points=\"1025.81,-76 1035.81,-72.5 1025.81,-69 1025.81,-76\"/>\n</g>\n<!-- 135808865297472 -->\n<g id=\"node3\" class=\"node\">\n<title>135808865297472</title>\n<polygon fill=\"none\" stroke=\"black\" points=\"0,-165.5 0,-201.5 200,-201.5 200,-165.5 0,-165.5\"/>\n<text text-anchor=\"middle\" x=\"16.5\" y=\"-179.8\" font-family=\"Times,serif\" font-size=\"14.00\">w1</text>\n<polyline fill=\"none\" stroke=\"black\" points=\"33,-165.5 33,-201.5 \"/>\n<text text-anchor=\"middle\" x=\"75.5\" y=\"-179.8\" font-family=\"Times,serif\" font-size=\"14.00\">data &#45;3.0000</text>\n<polyline fill=\"none\" stroke=\"black\" points=\"118,-165.5 118,-201.5 \"/>\n<text text-anchor=\"middle\" x=\"159\" y=\"-179.8\" font-family=\"Times,serif\" font-size=\"14.00\">grad 0.0000</text>\n</g>\n<!-- 135808865292720* -->\n<g id=\"node8\" class=\"node\">\n<title>135808865292720*</title>\n<ellipse fill=\"none\" stroke=\"black\" cx=\"263\" cy=\"-128.5\" rx=\"27\" ry=\"18\"/>\n<text text-anchor=\"middle\" x=\"263\" y=\"-124.8\" font-family=\"Times,serif\" font-size=\"14.00\">*</text>\n</g>\n<!-- 135808865297472&#45;&gt;135808865292720* -->\n<g id=\"edge14\" class=\"edge\">\n<title>135808865297472&#45;&gt;135808865292720*</title>\n<path fill=\"none\" stroke=\"black\" d=\"M172.53,-165.44C181.84,-162.67 191.2,-159.67 200,-156.5 210.53,-152.71 221.75,-147.9 231.72,-143.33\"/>\n<polygon fill=\"black\" stroke=\"black\" points=\"233.25,-146.48 240.82,-139.07 230.28,-140.14 233.25,-146.48\"/>\n</g>\n<!-- 135808865299584 -->\n<g id=\"node4\" class=\"node\">\n<title>135808865299584</title>\n<polygon fill=\"none\" stroke=\"black\" points=\"4,-55.5 4,-91.5 196,-91.5 196,-55.5 4,-55.5\"/>\n<text text-anchor=\"middle\" x=\"19\" y=\"-69.8\" font-family=\"Times,serif\" font-size=\"14.00\">x2</text>\n<polyline fill=\"none\" stroke=\"black\" points=\"34,-55.5 34,-91.5 \"/>\n<text text-anchor=\"middle\" x=\"74\" y=\"-69.8\" font-family=\"Times,serif\" font-size=\"14.00\">data 0.0000</text>\n<polyline fill=\"none\" stroke=\"black\" points=\"114,-55.5 114,-91.5 \"/>\n<text text-anchor=\"middle\" x=\"155\" y=\"-69.8\" font-family=\"Times,serif\" font-size=\"14.00\">grad 0.0000</text>\n</g>\n<!-- 135808865295120* -->\n<g id=\"node10\" class=\"node\">\n<title>135808865295120*</title>\n<ellipse fill=\"none\" stroke=\"black\" cx=\"263\" cy=\"-73.5\" rx=\"27\" ry=\"18\"/>\n<text text-anchor=\"middle\" x=\"263\" y=\"-69.8\" font-family=\"Times,serif\" font-size=\"14.00\">*</text>\n</g>\n<!-- 135808865299584&#45;&gt;135808865295120* -->\n<g id=\"edge7\" class=\"edge\">\n<title>135808865299584&#45;&gt;135808865295120*</title>\n<path fill=\"none\" stroke=\"black\" d=\"M196.05,-73.5C206.52,-73.5 216.65,-73.5 225.71,-73.5\"/>\n<polygon fill=\"black\" stroke=\"black\" points=\"225.79,-77 235.79,-73.5 225.79,-70 225.79,-77\"/>\n</g>\n<!-- 135808865295552 -->\n<g id=\"node5\" class=\"node\">\n<title>135808865295552</title>\n<polygon fill=\"none\" stroke=\"black\" points=\"1347,-54.5 1347,-90.5 1532,-90.5 1532,-54.5 1347,-54.5\"/>\n<text text-anchor=\"middle\" x=\"1358.5\" y=\"-68.8\" font-family=\"Times,serif\" font-size=\"14.00\">o</text>\n<polyline fill=\"none\" stroke=\"black\" points=\"1370,-54.5 1370,-90.5 \"/>\n<text text-anchor=\"middle\" x=\"1410\" y=\"-68.8\" font-family=\"Times,serif\" font-size=\"14.00\">data 0.7104</text>\n<polyline fill=\"none\" stroke=\"black\" points=\"1450,-54.5 1450,-90.5 \"/>\n<text text-anchor=\"middle\" x=\"1491\" y=\"-68.8\" font-family=\"Times,serif\" font-size=\"14.00\">grad 0.0000</text>\n</g>\n<!-- 135808865295552tanh&#45;&gt;135808865295552 -->\n<g id=\"edge2\" class=\"edge\">\n<title>135808865295552tanh&#45;&gt;135808865295552</title>\n<path fill=\"none\" stroke=\"black\" d=\"M1311.04,-72.5C1318.58,-72.5 1327.3,-72.5 1336.57,-72.5\"/>\n<polygon fill=\"black\" stroke=\"black\" points=\"1336.81,-76 1346.81,-72.5 1336.81,-69 1336.81,-76\"/>\n</g>\n<!-- 135808865292720 -->\n<g id=\"node7\" class=\"node\">\n<title>135808865292720</title>\n<polygon fill=\"none\" stroke=\"black\" points=\"326,-110.5 326,-146.5 540,-146.5 540,-110.5 326,-110.5\"/>\n<text text-anchor=\"middle\" x=\"349.5\" y=\"-124.8\" font-family=\"Times,serif\" font-size=\"14.00\">x1w1</text>\n<polyline fill=\"none\" stroke=\"black\" points=\"373,-110.5 373,-146.5 \"/>\n<text text-anchor=\"middle\" x=\"415.5\" y=\"-124.8\" font-family=\"Times,serif\" font-size=\"14.00\">data &#45;6.0000</text>\n<polyline fill=\"none\" stroke=\"black\" points=\"458,-110.5 458,-146.5 \"/>\n<text text-anchor=\"middle\" x=\"499\" y=\"-124.8\" font-family=\"Times,serif\" font-size=\"14.00\">grad 0.0000</text>\n</g>\n<!-- 135808865295264+ -->\n<g id=\"node12\" class=\"node\">\n<title>135808865295264+</title>\n<ellipse fill=\"none\" stroke=\"black\" cx=\"603\" cy=\"-100.5\" rx=\"27\" ry=\"18\"/>\n<text text-anchor=\"middle\" x=\"603\" y=\"-96.8\" font-family=\"Times,serif\" font-size=\"14.00\">+</text>\n</g>\n<!-- 135808865292720&#45;&gt;135808865295264+ -->\n<g id=\"edge10\" class=\"edge\">\n<title>135808865292720&#45;&gt;135808865295264+</title>\n<path fill=\"none\" stroke=\"black\" d=\"M540.4,-110.77C549.72,-109.21 558.65,-107.72 566.68,-106.39\"/>\n<polygon fill=\"black\" stroke=\"black\" points=\"567.38,-109.82 576.66,-104.72 566.22,-102.91 567.38,-109.82\"/>\n</g>\n<!-- 135808865292720*&#45;&gt;135808865292720 -->\n<g id=\"edge3\" class=\"edge\">\n<title>135808865292720*&#45;&gt;135808865292720</title>\n<path fill=\"none\" stroke=\"black\" d=\"M290.25,-128.5C297.7,-128.5 306.34,-128.5 315.59,-128.5\"/>\n<polygon fill=\"black\" stroke=\"black\" points=\"315.84,-132 325.84,-128.5 315.84,-125 315.84,-132\"/>\n</g>\n<!-- 135808865295120 -->\n<g id=\"node9\" class=\"node\">\n<title>135808865295120</title>\n<polygon fill=\"none\" stroke=\"black\" points=\"328.5,-55.5 328.5,-91.5 537.5,-91.5 537.5,-55.5 328.5,-55.5\"/>\n<text text-anchor=\"middle\" x=\"352\" y=\"-69.8\" font-family=\"Times,serif\" font-size=\"14.00\">x2w2</text>\n<polyline fill=\"none\" stroke=\"black\" points=\"375.5,-55.5 375.5,-91.5 \"/>\n<text text-anchor=\"middle\" x=\"415.5\" y=\"-69.8\" font-family=\"Times,serif\" font-size=\"14.00\">data 0.0000</text>\n<polyline fill=\"none\" stroke=\"black\" points=\"455.5,-55.5 455.5,-91.5 \"/>\n<text text-anchor=\"middle\" x=\"496.5\" y=\"-69.8\" font-family=\"Times,serif\" font-size=\"14.00\">grad 0.0000</text>\n</g>\n<!-- 135808865295120&#45;&gt;135808865295264+ -->\n<g id=\"edge11\" class=\"edge\">\n<title>135808865295120&#45;&gt;135808865295264+</title>\n<path fill=\"none\" stroke=\"black\" d=\"M537.53,-90.14C547.8,-91.79 557.66,-93.37 566.45,-94.79\"/>\n<polygon fill=\"black\" stroke=\"black\" points=\"566.16,-98.28 576.59,-96.42 567.27,-91.37 566.16,-98.28\"/>\n</g>\n<!-- 135808865295120*&#45;&gt;135808865295120 -->\n<g id=\"edge4\" class=\"edge\">\n<title>135808865295120*&#45;&gt;135808865295120</title>\n<path fill=\"none\" stroke=\"black\" d=\"M290.25,-73.5C298.43,-73.5 308.03,-73.5 318.31,-73.5\"/>\n<polygon fill=\"black\" stroke=\"black\" points=\"318.35,-77 328.35,-73.5 318.35,-70 318.35,-77\"/>\n</g>\n<!-- 135808865295264 -->\n<g id=\"node11\" class=\"node\">\n<title>135808865295264</title>\n<polygon fill=\"none\" stroke=\"black\" points=\"666,-82.5 666,-118.5 910,-118.5 910,-82.5 666,-82.5\"/>\n<text text-anchor=\"middle\" x=\"704.5\" y=\"-96.8\" font-family=\"Times,serif\" font-size=\"14.00\">x1w1x2w2</text>\n<polyline fill=\"none\" stroke=\"black\" points=\"743,-82.5 743,-118.5 \"/>\n<text text-anchor=\"middle\" x=\"785.5\" y=\"-96.8\" font-family=\"Times,serif\" font-size=\"14.00\">data &#45;6.0000</text>\n<polyline fill=\"none\" stroke=\"black\" points=\"828,-82.5 828,-118.5 \"/>\n<text text-anchor=\"middle\" x=\"869\" y=\"-96.8\" font-family=\"Times,serif\" font-size=\"14.00\">grad 0.0000</text>\n</g>\n<!-- 135808865295264&#45;&gt;135808865295888+ -->\n<g id=\"edge8\" class=\"edge\">\n<title>135808865295264&#45;&gt;135808865295888+</title>\n<path fill=\"none\" stroke=\"black\" d=\"M906.71,-82.49C917.38,-80.86 927.53,-79.3 936.51,-77.93\"/>\n<polygon fill=\"black\" stroke=\"black\" points=\"937.13,-81.38 946.48,-76.4 936.07,-74.46 937.13,-81.38\"/>\n</g>\n<!-- 135808865295264+&#45;&gt;135808865295264 -->\n<g id=\"edge5\" class=\"edge\">\n<title>135808865295264+&#45;&gt;135808865295264</title>\n<path fill=\"none\" stroke=\"black\" d=\"M630.22,-100.5C637.7,-100.5 646.4,-100.5 655.79,-100.5\"/>\n<polygon fill=\"black\" stroke=\"black\" points=\"655.8,-104 665.8,-100.5 655.8,-97 655.8,-104\"/>\n</g>\n<!-- 135808865297328 -->\n<g id=\"node13\" class=\"node\">\n<title>135808865297328</title>\n<polygon fill=\"none\" stroke=\"black\" points=\"2.5,-0.5 2.5,-36.5 197.5,-36.5 197.5,-0.5 2.5,-0.5\"/>\n<text text-anchor=\"middle\" x=\"19\" y=\"-14.8\" font-family=\"Times,serif\" font-size=\"14.00\">w2</text>\n<polyline fill=\"none\" stroke=\"black\" points=\"35.5,-0.5 35.5,-36.5 \"/>\n<text text-anchor=\"middle\" x=\"75.5\" y=\"-14.8\" font-family=\"Times,serif\" font-size=\"14.00\">data 1.0000</text>\n<polyline fill=\"none\" stroke=\"black\" points=\"115.5,-0.5 115.5,-36.5 \"/>\n<text text-anchor=\"middle\" x=\"156.5\" y=\"-14.8\" font-family=\"Times,serif\" font-size=\"14.00\">grad 0.0000</text>\n</g>\n<!-- 135808865297328&#45;&gt;135808865295120* -->\n<g id=\"edge6\" class=\"edge\">\n<title>135808865297328&#45;&gt;135808865295120*</title>\n<path fill=\"none\" stroke=\"black\" d=\"M172.53,-36.56C181.84,-39.33 191.2,-42.33 200,-45.5 210.53,-49.29 221.75,-54.1 231.72,-58.67\"/>\n<polygon fill=\"black\" stroke=\"black\" points=\"230.28,-61.86 240.82,-62.93 233.25,-55.52 230.28,-61.86\"/>\n</g>\n<!-- 135808865299392 -->\n<g id=\"node14\" class=\"node\">\n<title>135808865299392</title>\n<polygon fill=\"none\" stroke=\"black\" points=\"695.5,-27.5 695.5,-63.5 880.5,-63.5 880.5,-27.5 695.5,-27.5\"/>\n<text text-anchor=\"middle\" x=\"707\" y=\"-41.8\" font-family=\"Times,serif\" font-size=\"14.00\">b</text>\n<polyline fill=\"none\" stroke=\"black\" points=\"718.5,-27.5 718.5,-63.5 \"/>\n<text text-anchor=\"middle\" x=\"758.5\" y=\"-41.8\" font-family=\"Times,serif\" font-size=\"14.00\">data 6.8880</text>\n<polyline fill=\"none\" stroke=\"black\" points=\"798.5,-27.5 798.5,-63.5 \"/>\n<text text-anchor=\"middle\" x=\"839.5\" y=\"-41.8\" font-family=\"Times,serif\" font-size=\"14.00\">grad 0.0000</text>\n</g>\n<!-- 135808865299392&#45;&gt;135808865295888+ -->\n<g id=\"edge9\" class=\"edge\">\n<title>135808865299392&#45;&gt;135808865295888+</title>\n<path fill=\"none\" stroke=\"black\" d=\"M880.77,-59.04C900.52,-61.95 920.26,-64.87 936.29,-67.23\"/>\n<polygon fill=\"black\" stroke=\"black\" points=\"935.86,-70.71 946.26,-68.7 936.88,-63.78 935.86,-70.71\"/>\n</g>\n<!-- 135808865297376 -->\n<g id=\"node15\" class=\"node\">\n<title>135808865297376</title>\n<polygon fill=\"none\" stroke=\"black\" points=\"4,-110.5 4,-146.5 196,-146.5 196,-110.5 4,-110.5\"/>\n<text text-anchor=\"middle\" x=\"19\" y=\"-124.8\" font-family=\"Times,serif\" font-size=\"14.00\">x1</text>\n<polyline fill=\"none\" stroke=\"black\" points=\"34,-110.5 34,-146.5 \"/>\n<text text-anchor=\"middle\" x=\"74\" y=\"-124.8\" font-family=\"Times,serif\" font-size=\"14.00\">data 2.0000</text>\n<polyline fill=\"none\" stroke=\"black\" points=\"114,-110.5 114,-146.5 \"/>\n<text text-anchor=\"middle\" x=\"155\" y=\"-124.8\" font-family=\"Times,serif\" font-size=\"14.00\">grad 0.0000</text>\n</g>\n<!-- 135808865297376&#45;&gt;135808865292720* -->\n<g id=\"edge12\" class=\"edge\">\n<title>135808865297376&#45;&gt;135808865292720*</title>\n<path fill=\"none\" stroke=\"black\" d=\"M196.05,-128.5C206.52,-128.5 216.65,-128.5 225.71,-128.5\"/>\n<polygon fill=\"black\" stroke=\"black\" points=\"225.79,-132 235.79,-128.5 225.79,-125 225.79,-132\"/>\n</g>\n</g>\n</svg>\n",
            "text/plain": [
              "<graphviz.graphs.Digraph at 0x7b84772c6da0>"
            ]
          },
          "metadata": {},
          "execution_count": 100
        }
      ]
    },
    {
      "cell_type": "code",
      "source": [
        "o.backward()"
      ],
      "metadata": {
        "id": "t5TTnasb3YOt"
      },
      "execution_count": 91,
      "outputs": []
    },
    {
      "cell_type": "code",
      "source": [
        "## Building a topological sort\n",
        "topo = []\n",
        "visited = set()\n",
        "def build_topo(v):\n",
        "  if v not in visited:\n",
        "    visited.add(v)\n",
        "    for child in v._prev:\n",
        "      build_topo(child)\n",
        "    topo.append(v)\n",
        "build_topo(o)\n",
        "topo"
      ],
      "metadata": {
        "colab": {
          "base_uri": "https://localhost:8080/"
        },
        "id": "_8SffCBz2B7Y",
        "outputId": "d9c03bdd-65ff-4010-c348-4da9012c7f26"
      },
      "execution_count": 56,
      "outputs": [
        {
          "output_type": "execute_result",
          "data": {
            "text/plain": [
              "[Value(data:6.8880212),\n",
              " Value(data:1.0),\n",
              " Value(data:0.0),\n",
              " Value(data:0.0),\n",
              " Value(data:2.0),\n",
              " Value(data:-3.0),\n",
              " Value(data:-6.0),\n",
              " Value(data:-6.0),\n",
              " Value(data:0.8880211999999998),\n",
              " Value(data:-0.9866142981514304)]"
            ]
          },
          "metadata": {},
          "execution_count": 56
        }
      ]
    },
    {
      "cell_type": "code",
      "source": [
        "o.grad = 1.0"
      ],
      "metadata": {
        "id": "G5-g2jze0ZdI"
      },
      "execution_count": 45,
      "outputs": []
    },
    {
      "cell_type": "code",
      "source": [
        "o._backward()"
      ],
      "metadata": {
        "id": "JBfsiaVY0wkW"
      },
      "execution_count": 46,
      "outputs": []
    },
    {
      "cell_type": "code",
      "source": [
        "n._backward()"
      ],
      "metadata": {
        "id": "TyA3Mp9001nf"
      },
      "execution_count": 48,
      "outputs": []
    },
    {
      "cell_type": "code",
      "source": [
        "b._backward()"
      ],
      "metadata": {
        "id": "UgfuHYad1A8G"
      },
      "execution_count": 50,
      "outputs": []
    },
    {
      "cell_type": "code",
      "source": [
        "x1w1x2w2._backward()"
      ],
      "metadata": {
        "id": "lBl7ADgG1FBR"
      },
      "execution_count": 51,
      "outputs": []
    },
    {
      "cell_type": "code",
      "source": [
        "x1w1._backward()"
      ],
      "metadata": {
        "id": "S-Tp7mNf1L5J"
      },
      "execution_count": 53,
      "outputs": []
    },
    {
      "cell_type": "code",
      "source": [
        "x2w2._backward()"
      ],
      "metadata": {
        "id": "5aOCLnuB1OrV"
      },
      "execution_count": 54,
      "outputs": []
    },
    {
      "cell_type": "code",
      "source": [
        "#Manual Backpropagation -- part 2\n",
        "o.grad = 1\n",
        "n.grad = 1 - (o.data ** 2)\n",
        "x1w1x2w2.grad = n.grad\n",
        "b.grad = n.grad\n",
        "x1w1.grad = n.grad\n",
        "x2w2.grad = n.grad\n",
        "x1.grad = w1.data * x1w1.grad\n",
        "w1.grad = x1.data * x1w1.grad\n",
        "x2.grad = w2.data * x2w2.grad\n",
        "w2.grad = x2.data * x2w2.grad"
      ],
      "metadata": {
        "id": "IxyRV5gGwdV9"
      },
      "execution_count": 35,
      "outputs": []
    },
    {
      "cell_type": "code",
      "source": [
        "#inputs x1, x2\n",
        "x1 = Value(2.0, label='x1')\n",
        "x2 = Value(0.0, label='x2')\n",
        "# weights w1, 2\n",
        "w1 = Value(-3.0, label='w1')\n",
        "w2 = Value(1.0, label='w2')\n",
        "#bias of neuron b\n",
        "b = Value(6.8880212, label ='b')\n",
        "#x1*w1+x2*w2+b\n",
        "x1w1 = x1*w1 ; x1w1.label = 'x1w1'\n",
        "x2w2 = x2*w2 ; x2w2.label = 'x2w2'\n",
        "x1w1x2w2 = x1w1+ x2w2 ; x1w1x2w2.label = 'x1w1x2w2'\n",
        "n = x1w1x2w2 + b ; n.label='n'\n",
        "## --- redefine tanh ---\n",
        "\n",
        "e = (2*n).exp() ; e.label ='e'\n",
        "o = (e-1)/(e+1) ; o.label ='o'\n",
        "o.backward()"
      ],
      "metadata": {
        "id": "YCBEG4rQw8nH"
      },
      "execution_count": 101,
      "outputs": []
    },
    {
      "cell_type": "code",
      "source": [
        "draw_dot(o)"
      ],
      "metadata": {
        "colab": {
          "base_uri": "https://localhost:8080/",
          "height": 356
        },
        "id": "8f7vRStAA_MK",
        "outputId": "c1dc9739-87b2-41b1-8c4d-91b6a8559922"
      },
      "execution_count": 102,
      "outputs": [
        {
          "output_type": "execute_result",
          "data": {
            "image/svg+xml": "<?xml version=\"1.0\" encoding=\"UTF-8\" standalone=\"no\"?>\n<!DOCTYPE svg PUBLIC \"-//W3C//DTD SVG 1.1//EN\"\n \"http://www.w3.org/Graphics/SVG/1.1/DTD/svg11.dtd\">\n<!-- Generated by graphviz version 2.43.0 (0)\n -->\n<!-- Title: %3 Pages: 1 -->\n<svg width=\"2909pt\" height=\"236pt\"\n viewBox=\"0.00 0.00 2909.00 236.00\" xmlns=\"http://www.w3.org/2000/svg\" xmlns:xlink=\"http://www.w3.org/1999/xlink\">\n<g id=\"graph0\" class=\"graph\" transform=\"scale(1 1) rotate(0) translate(4 232)\">\n<title>%3</title>\n<polygon fill=\"white\" stroke=\"transparent\" points=\"-4,4 -4,-232 2905,-232 2905,4 -4,4\"/>\n<!-- 135808865296896 -->\n<g id=\"node1\" class=\"node\">\n<title>135808865296896</title>\n<polygon fill=\"none\" stroke=\"black\" points=\"328.5,-55.5 328.5,-91.5 537.5,-91.5 537.5,-55.5 328.5,-55.5\"/>\n<text text-anchor=\"middle\" x=\"352\" y=\"-69.8\" font-family=\"Times,serif\" font-size=\"14.00\">x2w2</text>\n<polyline fill=\"none\" stroke=\"black\" points=\"375.5,-55.5 375.5,-91.5 \"/>\n<text text-anchor=\"middle\" x=\"415.5\" y=\"-69.8\" font-family=\"Times,serif\" font-size=\"14.00\">data 0.0000</text>\n<polyline fill=\"none\" stroke=\"black\" points=\"455.5,-55.5 455.5,-91.5 \"/>\n<text text-anchor=\"middle\" x=\"496.5\" y=\"-69.8\" font-family=\"Times,serif\" font-size=\"14.00\">grad 0.4953</text>\n</g>\n<!-- 135808865296080+ -->\n<g id=\"node12\" class=\"node\">\n<title>135808865296080+</title>\n<ellipse fill=\"none\" stroke=\"black\" cx=\"603\" cy=\"-100.5\" rx=\"27\" ry=\"18\"/>\n<text text-anchor=\"middle\" x=\"603\" y=\"-96.8\" font-family=\"Times,serif\" font-size=\"14.00\">+</text>\n</g>\n<!-- 135808865296896&#45;&gt;135808865296080+ -->\n<g id=\"edge25\" class=\"edge\">\n<title>135808865296896&#45;&gt;135808865296080+</title>\n<path fill=\"none\" stroke=\"black\" d=\"M537.53,-90.14C547.8,-91.79 557.66,-93.37 566.45,-94.79\"/>\n<polygon fill=\"black\" stroke=\"black\" points=\"566.16,-98.28 576.59,-96.42 567.27,-91.37 566.16,-98.28\"/>\n</g>\n<!-- 135808865296896* -->\n<g id=\"node2\" class=\"node\">\n<title>135808865296896*</title>\n<ellipse fill=\"none\" stroke=\"black\" cx=\"263\" cy=\"-73.5\" rx=\"27\" ry=\"18\"/>\n<text text-anchor=\"middle\" x=\"263\" y=\"-69.8\" font-family=\"Times,serif\" font-size=\"14.00\">*</text>\n</g>\n<!-- 135808865296896*&#45;&gt;135808865296896 -->\n<g id=\"edge1\" class=\"edge\">\n<title>135808865296896*&#45;&gt;135808865296896</title>\n<path fill=\"none\" stroke=\"black\" d=\"M290.25,-73.5C298.43,-73.5 308.03,-73.5 318.31,-73.5\"/>\n<polygon fill=\"black\" stroke=\"black\" points=\"318.35,-77 328.35,-73.5 318.35,-70 318.35,-77\"/>\n</g>\n<!-- 135808865303616 -->\n<g id=\"node3\" class=\"node\">\n<title>135808865303616</title>\n<polygon fill=\"none\" stroke=\"black\" points=\"2.5,-55.5 2.5,-91.5 197.5,-91.5 197.5,-55.5 2.5,-55.5\"/>\n<text text-anchor=\"middle\" x=\"19\" y=\"-69.8\" font-family=\"Times,serif\" font-size=\"14.00\">w2</text>\n<polyline fill=\"none\" stroke=\"black\" points=\"35.5,-55.5 35.5,-91.5 \"/>\n<text text-anchor=\"middle\" x=\"75.5\" y=\"-69.8\" font-family=\"Times,serif\" font-size=\"14.00\">data 1.0000</text>\n<polyline fill=\"none\" stroke=\"black\" points=\"115.5,-55.5 115.5,-91.5 \"/>\n<text text-anchor=\"middle\" x=\"156.5\" y=\"-69.8\" font-family=\"Times,serif\" font-size=\"14.00\">grad 0.0000</text>\n</g>\n<!-- 135808865303616&#45;&gt;135808865296896* -->\n<g id=\"edge18\" class=\"edge\">\n<title>135808865303616&#45;&gt;135808865296896*</title>\n<path fill=\"none\" stroke=\"black\" d=\"M197.91,-73.5C207.65,-73.5 217.05,-73.5 225.52,-73.5\"/>\n<polygon fill=\"black\" stroke=\"black\" points=\"225.7,-77 235.7,-73.5 225.7,-70 225.7,-77\"/>\n</g>\n<!-- 135808865293392 -->\n<g id=\"node4\" class=\"node\">\n<title>135808865293392</title>\n<polygon fill=\"none\" stroke=\"black\" points=\"2716,-135.5 2716,-171.5 2901,-171.5 2901,-135.5 2716,-135.5\"/>\n<text text-anchor=\"middle\" x=\"2727.5\" y=\"-149.8\" font-family=\"Times,serif\" font-size=\"14.00\">o</text>\n<polyline fill=\"none\" stroke=\"black\" points=\"2739,-135.5 2739,-171.5 \"/>\n<text text-anchor=\"middle\" x=\"2779\" y=\"-149.8\" font-family=\"Times,serif\" font-size=\"14.00\">data 0.7104</text>\n<polyline fill=\"none\" stroke=\"black\" points=\"2819,-135.5 2819,-171.5 \"/>\n<text text-anchor=\"middle\" x=\"2860\" y=\"-149.8\" font-family=\"Times,serif\" font-size=\"14.00\">grad 1.0000</text>\n</g>\n<!-- 135808865293392* -->\n<g id=\"node5\" class=\"node\">\n<title>135808865293392*</title>\n<ellipse fill=\"none\" stroke=\"black\" cx=\"2653\" cy=\"-153.5\" rx=\"27\" ry=\"18\"/>\n<text text-anchor=\"middle\" x=\"2653\" y=\"-149.8\" font-family=\"Times,serif\" font-size=\"14.00\">*</text>\n</g>\n<!-- 135808865293392*&#45;&gt;135808865293392 -->\n<g id=\"edge2\" class=\"edge\">\n<title>135808865293392*&#45;&gt;135808865293392</title>\n<path fill=\"none\" stroke=\"black\" d=\"M2680.04,-153.5C2687.58,-153.5 2696.3,-153.5 2705.57,-153.5\"/>\n<polygon fill=\"black\" stroke=\"black\" points=\"2705.81,-157 2715.81,-153.5 2705.81,-150 2705.81,-157\"/>\n</g>\n<!-- 135808865295840 -->\n<g id=\"node6\" class=\"node\">\n<title>135808865295840</title>\n<polygon fill=\"none\" stroke=\"black\" points=\"1037.5,-164.5 1037.5,-200.5 1219.5,-200.5 1219.5,-164.5 1037.5,-164.5\"/>\n<text text-anchor=\"middle\" x=\"1047.5\" y=\"-178.8\" font-family=\"Times,serif\" font-size=\"14.00\"> </text>\n<polyline fill=\"none\" stroke=\"black\" points=\"1057.5,-164.5 1057.5,-200.5 \"/>\n<text text-anchor=\"middle\" x=\"1097.5\" y=\"-178.8\" font-family=\"Times,serif\" font-size=\"14.00\">data 2.0000</text>\n<polyline fill=\"none\" stroke=\"black\" points=\"1137.5,-164.5 1137.5,-200.5 \"/>\n<text text-anchor=\"middle\" x=\"1178.5\" y=\"-178.8\" font-family=\"Times,serif\" font-size=\"14.00\">grad 0.2199</text>\n</g>\n<!-- 135808865303856* -->\n<g id=\"node18\" class=\"node\">\n<title>135808865303856*</title>\n<ellipse fill=\"none\" stroke=\"black\" cx=\"1284\" cy=\"-154.5\" rx=\"27\" ry=\"18\"/>\n<text text-anchor=\"middle\" x=\"1284\" y=\"-150.8\" font-family=\"Times,serif\" font-size=\"14.00\">*</text>\n</g>\n<!-- 135808865295840&#45;&gt;135808865303856* -->\n<g id=\"edge20\" class=\"edge\">\n<title>135808865295840&#45;&gt;135808865303856*</title>\n<path fill=\"none\" stroke=\"black\" d=\"M1219.68,-166.05C1229.61,-164.24 1239.23,-162.48 1247.84,-160.91\"/>\n<polygon fill=\"black\" stroke=\"black\" points=\"1248.6,-164.33 1257.81,-159.09 1247.35,-157.45 1248.6,-164.33\"/>\n</g>\n<!-- 135808865288304 -->\n<g id=\"node7\" class=\"node\">\n<title>135808865288304</title>\n<polygon fill=\"none\" stroke=\"black\" points=\"4,-0.5 4,-36.5 196,-36.5 196,-0.5 4,-0.5\"/>\n<text text-anchor=\"middle\" x=\"19\" y=\"-14.8\" font-family=\"Times,serif\" font-size=\"14.00\">x2</text>\n<polyline fill=\"none\" stroke=\"black\" points=\"34,-0.5 34,-36.5 \"/>\n<text text-anchor=\"middle\" x=\"74\" y=\"-14.8\" font-family=\"Times,serif\" font-size=\"14.00\">data 0.0000</text>\n<polyline fill=\"none\" stroke=\"black\" points=\"114,-0.5 114,-36.5 \"/>\n<text text-anchor=\"middle\" x=\"155\" y=\"-14.8\" font-family=\"Times,serif\" font-size=\"14.00\">grad 0.4953</text>\n</g>\n<!-- 135808865288304&#45;&gt;135808865296896* -->\n<g id=\"edge22\" class=\"edge\">\n<title>135808865288304&#45;&gt;135808865296896*</title>\n<path fill=\"none\" stroke=\"black\" d=\"M172.53,-36.56C181.84,-39.33 191.2,-42.33 200,-45.5 210.53,-49.29 221.75,-54.1 231.72,-58.67\"/>\n<polygon fill=\"black\" stroke=\"black\" points=\"230.28,-61.86 240.82,-62.93 233.25,-55.52 230.28,-61.86\"/>\n</g>\n<!-- 135808865296560 -->\n<g id=\"node8\" class=\"node\">\n<title>135808865296560</title>\n<polygon fill=\"none\" stroke=\"black\" points=\"1036,-109.5 1036,-145.5 1221,-145.5 1221,-109.5 1036,-109.5\"/>\n<text text-anchor=\"middle\" x=\"1047.5\" y=\"-123.8\" font-family=\"Times,serif\" font-size=\"14.00\">n</text>\n<polyline fill=\"none\" stroke=\"black\" points=\"1059,-109.5 1059,-145.5 \"/>\n<text text-anchor=\"middle\" x=\"1099\" y=\"-123.8\" font-family=\"Times,serif\" font-size=\"14.00\">data 0.8880</text>\n<polyline fill=\"none\" stroke=\"black\" points=\"1139,-109.5 1139,-145.5 \"/>\n<text text-anchor=\"middle\" x=\"1180\" y=\"-123.8\" font-family=\"Times,serif\" font-size=\"14.00\">grad 0.4953</text>\n</g>\n<!-- 135808865296560&#45;&gt;135808865303856* -->\n<g id=\"edge23\" class=\"edge\">\n<title>135808865296560&#45;&gt;135808865303856*</title>\n<path fill=\"none\" stroke=\"black\" d=\"M1221.01,-143.6C1230.49,-145.26 1239.66,-146.88 1247.9,-148.33\"/>\n<polygon fill=\"black\" stroke=\"black\" points=\"1247.36,-151.78 1257.81,-150.07 1248.57,-144.89 1247.36,-151.78\"/>\n</g>\n<!-- 135808865296560+ -->\n<g id=\"node9\" class=\"node\">\n<title>135808865296560+</title>\n<ellipse fill=\"none\" stroke=\"black\" cx=\"973\" cy=\"-127.5\" rx=\"27\" ry=\"18\"/>\n<text text-anchor=\"middle\" x=\"973\" y=\"-123.8\" font-family=\"Times,serif\" font-size=\"14.00\">+</text>\n</g>\n<!-- 135808865296560+&#45;&gt;135808865296560 -->\n<g id=\"edge3\" class=\"edge\">\n<title>135808865296560+&#45;&gt;135808865296560</title>\n<path fill=\"none\" stroke=\"black\" d=\"M1000.04,-127.5C1007.58,-127.5 1016.3,-127.5 1025.57,-127.5\"/>\n<polygon fill=\"black\" stroke=\"black\" points=\"1025.81,-131 1035.81,-127.5 1025.81,-124 1025.81,-131\"/>\n</g>\n<!-- 135808865289408 -->\n<g id=\"node10\" class=\"node\">\n<title>135808865289408</title>\n<polygon fill=\"none\" stroke=\"black\" points=\"695.5,-137.5 695.5,-173.5 880.5,-173.5 880.5,-137.5 695.5,-137.5\"/>\n<text text-anchor=\"middle\" x=\"707\" y=\"-151.8\" font-family=\"Times,serif\" font-size=\"14.00\">b</text>\n<polyline fill=\"none\" stroke=\"black\" points=\"718.5,-137.5 718.5,-173.5 \"/>\n<text text-anchor=\"middle\" x=\"758.5\" y=\"-151.8\" font-family=\"Times,serif\" font-size=\"14.00\">data 6.8880</text>\n<polyline fill=\"none\" stroke=\"black\" points=\"798.5,-137.5 798.5,-173.5 \"/>\n<text text-anchor=\"middle\" x=\"839.5\" y=\"-151.8\" font-family=\"Times,serif\" font-size=\"14.00\">grad 0.4953</text>\n</g>\n<!-- 135808865289408&#45;&gt;135808865296560+ -->\n<g id=\"edge12\" class=\"edge\">\n<title>135808865289408&#45;&gt;135808865296560+</title>\n<path fill=\"none\" stroke=\"black\" d=\"M880.77,-141.46C900.52,-138.44 920.26,-135.42 936.29,-132.96\"/>\n<polygon fill=\"black\" stroke=\"black\" points=\"936.9,-136.41 946.26,-131.44 935.85,-129.49 936.9,-136.41\"/>\n</g>\n<!-- 135808865296080 -->\n<g id=\"node11\" class=\"node\">\n<title>135808865296080</title>\n<polygon fill=\"none\" stroke=\"black\" points=\"666,-82.5 666,-118.5 910,-118.5 910,-82.5 666,-82.5\"/>\n<text text-anchor=\"middle\" x=\"704.5\" y=\"-96.8\" font-family=\"Times,serif\" font-size=\"14.00\">x1w1x2w2</text>\n<polyline fill=\"none\" stroke=\"black\" points=\"743,-82.5 743,-118.5 \"/>\n<text text-anchor=\"middle\" x=\"785.5\" y=\"-96.8\" font-family=\"Times,serif\" font-size=\"14.00\">data &#45;6.0000</text>\n<polyline fill=\"none\" stroke=\"black\" points=\"828,-82.5 828,-118.5 \"/>\n<text text-anchor=\"middle\" x=\"869\" y=\"-96.8\" font-family=\"Times,serif\" font-size=\"14.00\">grad 0.4953</text>\n</g>\n<!-- 135808865296080&#45;&gt;135808865296560+ -->\n<g id=\"edge15\" class=\"edge\">\n<title>135808865296080&#45;&gt;135808865296560+</title>\n<path fill=\"none\" stroke=\"black\" d=\"M910.04,-118.36C919.47,-119.75 928.43,-121.07 936.46,-122.26\"/>\n<polygon fill=\"black\" stroke=\"black\" points=\"936.03,-125.73 946.43,-123.73 937.05,-118.81 936.03,-125.73\"/>\n</g>\n<!-- 135808865296080+&#45;&gt;135808865296080 -->\n<g id=\"edge4\" class=\"edge\">\n<title>135808865296080+&#45;&gt;135808865296080</title>\n<path fill=\"none\" stroke=\"black\" d=\"M630.22,-100.5C637.7,-100.5 646.4,-100.5 655.79,-100.5\"/>\n<polygon fill=\"black\" stroke=\"black\" points=\"655.8,-104 665.8,-100.5 655.8,-97 655.8,-104\"/>\n</g>\n<!-- 135808865304288 -->\n<g id=\"node13\" class=\"node\">\n<title>135808865304288</title>\n<polygon fill=\"none\" stroke=\"black\" points=\"1655.5,-191.5 1655.5,-227.5 1841.5,-227.5 1841.5,-191.5 1655.5,-191.5\"/>\n<text text-anchor=\"middle\" x=\"1665.5\" y=\"-205.8\" font-family=\"Times,serif\" font-size=\"14.00\"> </text>\n<polyline fill=\"none\" stroke=\"black\" points=\"1675.5,-191.5 1675.5,-227.5 \"/>\n<text text-anchor=\"middle\" x=\"1715.5\" y=\"-205.8\" font-family=\"Times,serif\" font-size=\"14.00\">data 1.0000</text>\n<polyline fill=\"none\" stroke=\"black\" points=\"1755.5,-191.5 1755.5,-227.5 \"/>\n<text text-anchor=\"middle\" x=\"1798.5\" y=\"-205.8\" font-family=\"Times,serif\" font-size=\"14.00\">grad &#45;0.1029</text>\n</g>\n<!-- 135808865304528+ -->\n<g id=\"node26\" class=\"node\">\n<title>135808865304528+</title>\n<ellipse fill=\"none\" stroke=\"black\" cx=\"1905\" cy=\"-181.5\" rx=\"27\" ry=\"18\"/>\n<text text-anchor=\"middle\" x=\"1905\" y=\"-177.8\" font-family=\"Times,serif\" font-size=\"14.00\">+</text>\n</g>\n<!-- 135808865304288&#45;&gt;135808865304528+ -->\n<g id=\"edge13\" class=\"edge\">\n<title>135808865304288&#45;&gt;135808865304528+</title>\n<path fill=\"none\" stroke=\"black\" d=\"M1841.6,-192.81C1851.15,-191.08 1860.37,-189.41 1868.68,-187.9\"/>\n<polygon fill=\"black\" stroke=\"black\" points=\"1869.43,-191.32 1878.65,-186.09 1868.18,-184.43 1869.43,-191.32\"/>\n</g>\n<!-- 135808865303280 -->\n<g id=\"node14\" class=\"node\">\n<title>135808865303280</title>\n<polygon fill=\"none\" stroke=\"black\" points=\"2,-165.5 2,-201.5 198,-201.5 198,-165.5 2,-165.5\"/>\n<text text-anchor=\"middle\" x=\"17\" y=\"-179.8\" font-family=\"Times,serif\" font-size=\"14.00\">x1</text>\n<polyline fill=\"none\" stroke=\"black\" points=\"32,-165.5 32,-201.5 \"/>\n<text text-anchor=\"middle\" x=\"72\" y=\"-179.8\" font-family=\"Times,serif\" font-size=\"14.00\">data 2.0000</text>\n<polyline fill=\"none\" stroke=\"black\" points=\"112,-165.5 112,-201.5 \"/>\n<text text-anchor=\"middle\" x=\"155\" y=\"-179.8\" font-family=\"Times,serif\" font-size=\"14.00\">grad &#45;1.4859</text>\n</g>\n<!-- 135808865294304* -->\n<g id=\"node28\" class=\"node\">\n<title>135808865294304*</title>\n<ellipse fill=\"none\" stroke=\"black\" cx=\"263\" cy=\"-128.5\" rx=\"27\" ry=\"18\"/>\n<text text-anchor=\"middle\" x=\"263\" y=\"-124.8\" font-family=\"Times,serif\" font-size=\"14.00\">*</text>\n</g>\n<!-- 135808865303280&#45;&gt;135808865294304* -->\n<g id=\"edge16\" class=\"edge\">\n<title>135808865303280&#45;&gt;135808865294304*</title>\n<path fill=\"none\" stroke=\"black\" d=\"M172.53,-165.44C181.84,-162.67 191.2,-159.67 200,-156.5 210.53,-152.71 221.75,-147.9 231.72,-143.33\"/>\n<polygon fill=\"black\" stroke=\"black\" points=\"233.25,-146.48 240.82,-139.07 230.28,-140.14 233.25,-146.48\"/>\n</g>\n<!-- 135808865304240 -->\n<g id=\"node15\" class=\"node\">\n<title>135808865304240</title>\n<polygon fill=\"none\" stroke=\"black\" points=\"2190,-108.5 2190,-144.5 2372,-144.5 2372,-108.5 2190,-108.5\"/>\n<text text-anchor=\"middle\" x=\"2200\" y=\"-122.8\" font-family=\"Times,serif\" font-size=\"14.00\"> </text>\n<polyline fill=\"none\" stroke=\"black\" points=\"2210,-108.5 2210,-144.5 \"/>\n<text text-anchor=\"middle\" x=\"2250\" y=\"-122.8\" font-family=\"Times,serif\" font-size=\"14.00\">data 4.9064</text>\n<polyline fill=\"none\" stroke=\"black\" points=\"2290,-108.5 2290,-144.5 \"/>\n<text text-anchor=\"middle\" x=\"2331\" y=\"-122.8\" font-family=\"Times,serif\" font-size=\"14.00\">grad 0.1448</text>\n</g>\n<!-- 135808865304240&#45;&gt;135808865293392* -->\n<g id=\"edge28\" class=\"edge\">\n<title>135808865304240&#45;&gt;135808865293392*</title>\n<path fill=\"none\" stroke=\"black\" d=\"M2372.04,-133.07C2450.41,-138.79 2559.98,-146.79 2615.96,-150.87\"/>\n<polygon fill=\"black\" stroke=\"black\" points=\"2615.87,-154.37 2626.1,-151.61 2616.38,-147.39 2615.87,-154.37\"/>\n</g>\n<!-- 135808865304240+ -->\n<g id=\"node16\" class=\"node\">\n<title>135808865304240+</title>\n<ellipse fill=\"none\" stroke=\"black\" cx=\"1905\" cy=\"-126.5\" rx=\"27\" ry=\"18\"/>\n<text text-anchor=\"middle\" x=\"1905\" y=\"-122.8\" font-family=\"Times,serif\" font-size=\"14.00\">+</text>\n</g>\n<!-- 135808865304240+&#45;&gt;135808865304240 -->\n<g id=\"edge5\" class=\"edge\">\n<title>135808865304240+&#45;&gt;135808865304240</title>\n<path fill=\"none\" stroke=\"black\" d=\"M1932,-126.5C1982.46,-126.5 2096.06,-126.5 2179.81,-126.5\"/>\n<polygon fill=\"black\" stroke=\"black\" points=\"2179.87,-130 2189.87,-126.5 2179.87,-123 2179.87,-130\"/>\n</g>\n<!-- 135808865303856 -->\n<g id=\"node17\" class=\"node\">\n<title>135808865303856</title>\n<polygon fill=\"none\" stroke=\"black\" points=\"1347,-136.5 1347,-172.5 1529,-172.5 1529,-136.5 1347,-136.5\"/>\n<text text-anchor=\"middle\" x=\"1357\" y=\"-150.8\" font-family=\"Times,serif\" font-size=\"14.00\"> </text>\n<polyline fill=\"none\" stroke=\"black\" points=\"1367,-136.5 1367,-172.5 \"/>\n<text text-anchor=\"middle\" x=\"1407\" y=\"-150.8\" font-family=\"Times,serif\" font-size=\"14.00\">data 1.7760</text>\n<polyline fill=\"none\" stroke=\"black\" points=\"1447,-136.5 1447,-172.5 \"/>\n<text text-anchor=\"middle\" x=\"1488\" y=\"-150.8\" font-family=\"Times,serif\" font-size=\"14.00\">grad 0.2477</text>\n</g>\n<!-- 135808865303952exp -->\n<g id=\"node24\" class=\"node\">\n<title>135808865303952exp</title>\n<ellipse fill=\"none\" stroke=\"black\" cx=\"1592\" cy=\"-154.5\" rx=\"27\" ry=\"18\"/>\n<text text-anchor=\"middle\" x=\"1592\" y=\"-150.8\" font-family=\"Times,serif\" font-size=\"14.00\">exp</text>\n</g>\n<!-- 135808865303856&#45;&gt;135808865303952exp -->\n<g id=\"edge17\" class=\"edge\">\n<title>135808865303856&#45;&gt;135808865303952exp</title>\n<path fill=\"none\" stroke=\"black\" d=\"M1529.18,-154.5C1538.14,-154.5 1546.83,-154.5 1554.73,-154.5\"/>\n<polygon fill=\"black\" stroke=\"black\" points=\"1554.96,-158 1564.96,-154.5 1554.96,-151 1554.96,-158\"/>\n</g>\n<!-- 135808865303856*&#45;&gt;135808865303856 -->\n<g id=\"edge6\" class=\"edge\">\n<title>135808865303856*&#45;&gt;135808865303856</title>\n<path fill=\"none\" stroke=\"black\" d=\"M1311.13,-154.5C1318.67,-154.5 1327.39,-154.5 1336.64,-154.5\"/>\n<polygon fill=\"black\" stroke=\"black\" points=\"1336.87,-158 1346.87,-154.5 1336.87,-151 1336.87,-158\"/>\n</g>\n<!-- 135808865303520 -->\n<g id=\"node19\" class=\"node\">\n<title>135808865303520</title>\n<polygon fill=\"none\" stroke=\"black\" points=\"0,-110.5 0,-146.5 200,-146.5 200,-110.5 0,-110.5\"/>\n<text text-anchor=\"middle\" x=\"16.5\" y=\"-124.8\" font-family=\"Times,serif\" font-size=\"14.00\">w1</text>\n<polyline fill=\"none\" stroke=\"black\" points=\"33,-110.5 33,-146.5 \"/>\n<text text-anchor=\"middle\" x=\"75.5\" y=\"-124.8\" font-family=\"Times,serif\" font-size=\"14.00\">data &#45;3.0000</text>\n<polyline fill=\"none\" stroke=\"black\" points=\"118,-110.5 118,-146.5 \"/>\n<text text-anchor=\"middle\" x=\"159\" y=\"-124.8\" font-family=\"Times,serif\" font-size=\"14.00\">grad 0.9906</text>\n</g>\n<!-- 135808865303520&#45;&gt;135808865294304* -->\n<g id=\"edge11\" class=\"edge\">\n<title>135808865303520&#45;&gt;135808865294304*</title>\n<path fill=\"none\" stroke=\"black\" d=\"M200.21,-128.5C209.2,-128.5 217.86,-128.5 225.7,-128.5\"/>\n<polygon fill=\"black\" stroke=\"black\" points=\"225.85,-132 235.85,-128.5 225.85,-125 225.85,-132\"/>\n</g>\n<!-- 135808865304384 -->\n<g id=\"node20\" class=\"node\">\n<title>135808865304384</title>\n<polygon fill=\"none\" stroke=\"black\" points=\"1655,-81.5 1655,-117.5 1842,-117.5 1842,-81.5 1655,-81.5\"/>\n<text text-anchor=\"middle\" x=\"1665\" y=\"-95.8\" font-family=\"Times,serif\" font-size=\"14.00\"> </text>\n<polyline fill=\"none\" stroke=\"black\" points=\"1675,-81.5 1675,-117.5 \"/>\n<text text-anchor=\"middle\" x=\"1717.5\" y=\"-95.8\" font-family=\"Times,serif\" font-size=\"14.00\">data &#45;1.0000</text>\n<polyline fill=\"none\" stroke=\"black\" points=\"1760,-81.5 1760,-117.5 \"/>\n<text text-anchor=\"middle\" x=\"1801\" y=\"-95.8\" font-family=\"Times,serif\" font-size=\"14.00\">grad 0.1448</text>\n</g>\n<!-- 135808865304384&#45;&gt;135808865304240+ -->\n<g id=\"edge26\" class=\"edge\">\n<title>135808865304384&#45;&gt;135808865304240+</title>\n<path fill=\"none\" stroke=\"black\" d=\"M1842.05,-115.67C1851.34,-117.3 1860.33,-118.87 1868.44,-120.29\"/>\n<polygon fill=\"black\" stroke=\"black\" points=\"1868.1,-123.78 1878.55,-122.05 1869.3,-116.88 1868.1,-123.78\"/>\n</g>\n<!-- 135808865303424 -->\n<g id=\"node21\" class=\"node\">\n<title>135808865303424</title>\n<polygon fill=\"none\" stroke=\"black\" points=\"2408,-161.5 2408,-197.5 2590,-197.5 2590,-161.5 2408,-161.5\"/>\n<text text-anchor=\"middle\" x=\"2418\" y=\"-175.8\" font-family=\"Times,serif\" font-size=\"14.00\"> </text>\n<polyline fill=\"none\" stroke=\"black\" points=\"2428,-161.5 2428,-197.5 \"/>\n<text text-anchor=\"middle\" x=\"2468\" y=\"-175.8\" font-family=\"Times,serif\" font-size=\"14.00\">data 0.1448</text>\n<polyline fill=\"none\" stroke=\"black\" points=\"2508,-161.5 2508,-197.5 \"/>\n<text text-anchor=\"middle\" x=\"2549\" y=\"-175.8\" font-family=\"Times,serif\" font-size=\"14.00\">grad 4.9064</text>\n</g>\n<!-- 135808865303424&#45;&gt;135808865293392* -->\n<g id=\"edge27\" class=\"edge\">\n<title>135808865303424&#45;&gt;135808865293392*</title>\n<path fill=\"none\" stroke=\"black\" d=\"M2590.18,-164.08C2599.42,-162.49 2608.38,-160.96 2616.47,-159.58\"/>\n<polygon fill=\"black\" stroke=\"black\" points=\"2617.29,-162.99 2626.56,-157.85 2616.11,-156.09 2617.29,-162.99\"/>\n</g>\n<!-- 135808865303424**&#45;1 -->\n<g id=\"node22\" class=\"node\">\n<title>135808865303424**&#45;1</title>\n<ellipse fill=\"none\" stroke=\"black\" cx=\"2281\" cy=\"-181.5\" rx=\"27\" ry=\"18\"/>\n<text text-anchor=\"middle\" x=\"2281\" y=\"-177.8\" font-family=\"Times,serif\" font-size=\"14.00\">**&#45;1</text>\n</g>\n<!-- 135808865303424**&#45;1&#45;&gt;135808865303424 -->\n<g id=\"edge7\" class=\"edge\">\n<title>135808865303424**&#45;1&#45;&gt;135808865303424</title>\n<path fill=\"none\" stroke=\"black\" d=\"M2308.05,-181.26C2330.53,-181.05 2364.48,-180.74 2397.5,-180.43\"/>\n<polygon fill=\"black\" stroke=\"black\" points=\"2397.74,-183.93 2407.7,-180.34 2397.67,-176.93 2397.74,-183.93\"/>\n</g>\n<!-- 135808865303952 -->\n<g id=\"node23\" class=\"node\">\n<title>135808865303952</title>\n<polygon fill=\"none\" stroke=\"black\" points=\"1656,-136.5 1656,-172.5 1841,-172.5 1841,-136.5 1656,-136.5\"/>\n<text text-anchor=\"middle\" x=\"1667.5\" y=\"-150.8\" font-family=\"Times,serif\" font-size=\"14.00\">e</text>\n<polyline fill=\"none\" stroke=\"black\" points=\"1679,-136.5 1679,-172.5 \"/>\n<text text-anchor=\"middle\" x=\"1719\" y=\"-150.8\" font-family=\"Times,serif\" font-size=\"14.00\">data 5.9064</text>\n<polyline fill=\"none\" stroke=\"black\" points=\"1759,-136.5 1759,-172.5 \"/>\n<text text-anchor=\"middle\" x=\"1800\" y=\"-150.8\" font-family=\"Times,serif\" font-size=\"14.00\">grad 0.0419</text>\n</g>\n<!-- 135808865303952&#45;&gt;135808865304240+ -->\n<g id=\"edge19\" class=\"edge\">\n<title>135808865303952&#45;&gt;135808865304240+</title>\n<path fill=\"none\" stroke=\"black\" d=\"M1841.16,-137.89C1850.84,-136.13 1860.22,-134.43 1868.64,-132.91\"/>\n<polygon fill=\"black\" stroke=\"black\" points=\"1869.53,-136.3 1878.75,-131.08 1868.28,-129.42 1869.53,-136.3\"/>\n</g>\n<!-- 135808865303952&#45;&gt;135808865304528+ -->\n<g id=\"edge14\" class=\"edge\">\n<title>135808865303952&#45;&gt;135808865304528+</title>\n<path fill=\"none\" stroke=\"black\" d=\"M1841.16,-170.52C1850.84,-172.21 1860.22,-173.85 1868.64,-175.32\"/>\n<polygon fill=\"black\" stroke=\"black\" points=\"1868.29,-178.81 1878.75,-177.09 1869.5,-171.92 1868.29,-178.81\"/>\n</g>\n<!-- 135808865303952exp&#45;&gt;135808865303952 -->\n<g id=\"edge8\" class=\"edge\">\n<title>135808865303952exp&#45;&gt;135808865303952</title>\n<path fill=\"none\" stroke=\"black\" d=\"M1619.21,-154.5C1627,-154.5 1636.05,-154.5 1645.67,-154.5\"/>\n<polygon fill=\"black\" stroke=\"black\" points=\"1645.87,-158 1655.87,-154.5 1645.87,-151 1645.87,-158\"/>\n</g>\n<!-- 135808865304528 -->\n<g id=\"node25\" class=\"node\">\n<title>135808865304528</title>\n<polygon fill=\"none\" stroke=\"black\" points=\"1968,-163.5 1968,-199.5 2154,-199.5 2154,-163.5 1968,-163.5\"/>\n<text text-anchor=\"middle\" x=\"1978\" y=\"-177.8\" font-family=\"Times,serif\" font-size=\"14.00\"> </text>\n<polyline fill=\"none\" stroke=\"black\" points=\"1988,-163.5 1988,-199.5 \"/>\n<text text-anchor=\"middle\" x=\"2028\" y=\"-177.8\" font-family=\"Times,serif\" font-size=\"14.00\">data 6.9064</text>\n<polyline fill=\"none\" stroke=\"black\" points=\"2068,-163.5 2068,-199.5 \"/>\n<text text-anchor=\"middle\" x=\"2111\" y=\"-177.8\" font-family=\"Times,serif\" font-size=\"14.00\">grad &#45;0.1029</text>\n</g>\n<!-- 135808865304528&#45;&gt;135808865303424**&#45;1 -->\n<g id=\"edge21\" class=\"edge\">\n<title>135808865304528&#45;&gt;135808865303424**&#45;1</title>\n<path fill=\"none\" stroke=\"black\" d=\"M2154.14,-181.5C2185.72,-181.5 2219.24,-181.5 2243.74,-181.5\"/>\n<polygon fill=\"black\" stroke=\"black\" points=\"2243.98,-185 2253.98,-181.5 2243.98,-178 2243.98,-185\"/>\n</g>\n<!-- 135808865304528+&#45;&gt;135808865304528 -->\n<g id=\"edge9\" class=\"edge\">\n<title>135808865304528+&#45;&gt;135808865304528</title>\n<path fill=\"none\" stroke=\"black\" d=\"M1932.12,-181.5C1939.62,-181.5 1948.29,-181.5 1957.5,-181.5\"/>\n<polygon fill=\"black\" stroke=\"black\" points=\"1957.69,-185 1967.69,-181.5 1957.69,-178 1957.69,-185\"/>\n</g>\n<!-- 135808865294304 -->\n<g id=\"node27\" class=\"node\">\n<title>135808865294304</title>\n<polygon fill=\"none\" stroke=\"black\" points=\"326,-110.5 326,-146.5 540,-146.5 540,-110.5 326,-110.5\"/>\n<text text-anchor=\"middle\" x=\"349.5\" y=\"-124.8\" font-family=\"Times,serif\" font-size=\"14.00\">x1w1</text>\n<polyline fill=\"none\" stroke=\"black\" points=\"373,-110.5 373,-146.5 \"/>\n<text text-anchor=\"middle\" x=\"415.5\" y=\"-124.8\" font-family=\"Times,serif\" font-size=\"14.00\">data &#45;6.0000</text>\n<polyline fill=\"none\" stroke=\"black\" points=\"458,-110.5 458,-146.5 \"/>\n<text text-anchor=\"middle\" x=\"499\" y=\"-124.8\" font-family=\"Times,serif\" font-size=\"14.00\">grad 0.4953</text>\n</g>\n<!-- 135808865294304&#45;&gt;135808865296080+ -->\n<g id=\"edge24\" class=\"edge\">\n<title>135808865294304&#45;&gt;135808865296080+</title>\n<path fill=\"none\" stroke=\"black\" d=\"M540.4,-110.77C549.72,-109.21 558.65,-107.72 566.68,-106.39\"/>\n<polygon fill=\"black\" stroke=\"black\" points=\"567.38,-109.82 576.66,-104.72 566.22,-102.91 567.38,-109.82\"/>\n</g>\n<!-- 135808865294304*&#45;&gt;135808865294304 -->\n<g id=\"edge10\" class=\"edge\">\n<title>135808865294304*&#45;&gt;135808865294304</title>\n<path fill=\"none\" stroke=\"black\" d=\"M290.25,-128.5C297.7,-128.5 306.34,-128.5 315.59,-128.5\"/>\n<polygon fill=\"black\" stroke=\"black\" points=\"315.84,-132 325.84,-128.5 315.84,-125 315.84,-132\"/>\n</g>\n</g>\n</svg>\n",
            "text/plain": [
              "<graphviz.graphs.Digraph at 0x7b84772c66b0>"
            ]
          },
          "metadata": {},
          "execution_count": 102
        }
      ]
    },
    {
      "cell_type": "markdown",
      "source": [
        "###Implementing the Same thing using Pytorch\n",
        "Tensors are mostly made to use for matrix , vector or 2D arrays. By default, Pytorch assumes that all the tensorsa are leaf nodes and does not require gradient. That's why, we explicitly mention that the gradients are required for the varibles."
      ],
      "metadata": {
        "id": "69581NwEEyyj"
      }
    },
    {
      "cell_type": "code",
      "source": [
        "import torch"
      ],
      "metadata": {
        "id": "piKOFcnUBMGk"
      },
      "execution_count": 103,
      "outputs": []
    },
    {
      "cell_type": "code",
      "source": [
        "x1 = torch.Tensor([2.0]).double()                ; x1.requires_grad = True\n",
        "x2 = torch.Tensor([0.0]).double()                ; x2.requires_grad = True\n",
        "w1 = torch.Tensor([-3.0]).double()               ; w1.requires_grad = True\n",
        "w2 = torch.Tensor([1.0]).double()                ; w2.requires_grad = True\n",
        "b = torch.Tensor([6.8813735870195432]).double()  ; b.requires_grad = True\n",
        "n = x1*w1 + x2*w2 + b\n",
        "o = torch.tanh(n)\n",
        "\n",
        "print(o.data.item())\n",
        "o.backward()\n",
        "\n",
        "print('---')\n",
        "print('x2', x2.grad.item())\n",
        "print('w2', w2.grad.item())\n",
        "print('x1', x1.grad.item())\n",
        "print('w1', w1.grad.item())"
      ],
      "metadata": {
        "colab": {
          "base_uri": "https://localhost:8080/"
        },
        "id": "vn4w6PAYEP90",
        "outputId": "c8094167-bdc0-48ad-f5c6-380336819e91"
      },
      "execution_count": 108,
      "outputs": [
        {
          "output_type": "stream",
          "name": "stdout",
          "text": [
            "0.7071066904050358\n",
            "---\n",
            "x2 0.5000001283844369\n",
            "w2 0.0\n",
            "x1 -1.5000003851533106\n",
            "w1 1.0000002567688737\n"
          ]
        }
      ]
    },
    {
      "cell_type": "code",
      "source": [],
      "metadata": {
        "id": "YgtBsCrMEpfV"
      },
      "execution_count": null,
      "outputs": []
    }
  ]
}