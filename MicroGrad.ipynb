{
  "nbformat": 4,
  "nbformat_minor": 0,
  "metadata": {
    "colab": {
      "provenance": [],
      "authorship_tag": "ABX9TyO2pCzhEqm1E/PlkmQPbk5q",
      "include_colab_link": true
    },
    "kernelspec": {
      "name": "python3",
      "display_name": "Python 3"
    },
    "language_info": {
      "name": "python"
    }
  },
  "cells": [
    {
      "cell_type": "markdown",
      "metadata": {
        "id": "view-in-github",
        "colab_type": "text"
      },
      "source": [
        "<a href=\"https://colab.research.google.com/github/Samin-Sadaf7/NN_works/blob/main/MicroGrad.ipynb\" target=\"_parent\"><img src=\"https://colab.research.google.com/assets/colab-badge.svg\" alt=\"Open In Colab\"/></a>"
      ]
    },
    {
      "cell_type": "markdown",
      "source": [
        "**`Original idea and works:  Andrej Karpathy`**"
      ],
      "metadata": {
        "id": "YTNjgJJDtTkF"
      }
    },
    {
      "cell_type": "code",
      "execution_count": 37,
      "metadata": {
        "id": "f3r5aXtxkNJ3"
      },
      "outputs": [],
      "source": [
        "import numpy as np\n",
        "import math\n",
        "import matplotlib.pyplot as plt\n",
        "%matplotlib inline"
      ]
    },
    {
      "cell_type": "code",
      "source": [
        "def func(x):\n",
        "  return 2*x**2+4*x-7"
      ],
      "metadata": {
        "id": "bUlVHPjpnDBS"
      },
      "execution_count": 2,
      "outputs": []
    },
    {
      "cell_type": "code",
      "source": [
        "func(3.0)"
      ],
      "metadata": {
        "colab": {
          "base_uri": "https://localhost:8080/"
        },
        "id": "IUdiRhyxnSWt",
        "outputId": "cb0a6858-0173-4035-b1a0-7d521e8e9c7d"
      },
      "execution_count": 3,
      "outputs": [
        {
          "output_type": "execute_result",
          "data": {
            "text/plain": [
              "23.0"
            ]
          },
          "metadata": {},
          "execution_count": 3
        }
      ]
    },
    {
      "cell_type": "code",
      "source": [
        "xs = np.arange(-3, 3,0.1)\n",
        "ys = func(xs)\n",
        "plt.plot(xs, ys)"
      ],
      "metadata": {
        "colab": {
          "base_uri": "https://localhost:8080/",
          "height": 447
        },
        "id": "bAGnuhEpnUmA",
        "outputId": "76aba9c9-8a83-43f3-8837-e288695c23c1"
      },
      "execution_count": 4,
      "outputs": [
        {
          "output_type": "execute_result",
          "data": {
            "text/plain": [
              "[<matplotlib.lines.Line2D at 0x7b84b46eebf0>]"
            ]
          },
          "metadata": {},
          "execution_count": 4
        },
        {
          "output_type": "display_data",
          "data": {
            "text/plain": [
              "<Figure size 640x480 with 1 Axes>"
            ],
            "image/png": "[encoded data removed]"
          },
          "metadata": {}
        }
      ]
    },
    {
      "cell_type": "markdown",
      "source": [
        "###Derivative\n",
        "\n",
        "Let  a∈R\n",
        "  and let  f(x)\n",
        "  be defined on an open interval 6 that contains  a.\n",
        "\n",
        "The derivative of  f(x)\n",
        "  at  x=a\n",
        "  is denoted  f′(a)\n",
        "  and is defined by\n",
        "f′(a)=limh→0f(a+h)−f(a)h\n",
        "\n",
        "if the limit exists.\n",
        "When the above limit exists, the function  f(x)\n",
        "  is said to be differentiable at  x=a.\n",
        "  When the limit does not exist, the function  f(x)\n",
        "  is said to be not differentiable at  x=a.\n",
        "\n",
        "We can equivalently define the derivative  f′(a)\n",
        "  by the limit\n",
        "f′(a)=limx→af(x)−f(a)x−a.\n",
        "\n",
        "To see that these two definitions are the same, we set  x=a+h\n",
        "  and then the limit as  h\n",
        "  goes to  0\n",
        "  is equivalent to the limit as  x\n",
        "  goes to  a."
      ],
      "metadata": {
        "id": "_Cv-_HHfogqC"
      }
    },
    {
      "cell_type": "code",
      "source": [
        "h = 0.0000001\n",
        "x = -2.5\n",
        "(func(x+h)-func(x))/h"
      ],
      "metadata": {
        "colab": {
          "base_uri": "https://localhost:8080/"
        },
        "id": "sTdI0GkVn0HE",
        "outputId": "b1c3e921-fff0-49b7-8a77-fca0440a42a0"
      },
      "execution_count": 5,
      "outputs": [
        {
          "output_type": "execute_result",
          "data": {
            "text/plain": [
              "-5.99999978589949"
            ]
          },
          "metadata": {},
          "execution_count": 5
        }
      ]
    },
    {
      "cell_type": "code",
      "source": [
        "a = 2.0\n",
        "b = -3.0\n",
        "c = 4.0\n",
        "d = a*b +c\n",
        "print(d)"
      ],
      "metadata": {
        "colab": {
          "base_uri": "https://localhost:8080/"
        },
        "id": "Kn7IaDhzpJDO",
        "outputId": "60b2ec44-be2e-4c04-ac1e-e0e7728050b9"
      },
      "execution_count": 6,
      "outputs": [
        {
          "output_type": "stream",
          "name": "stdout",
          "text": [
            "-2.0\n"
          ]
        }
      ]
    },
    {
      "cell_type": "code",
      "source": [
        "h = 0.001\n",
        "#inputs\n",
        "a = 2.0\n",
        "b = -3.0\n",
        "c = 4.0\n",
        "\n",
        "d1 = a*b +c\n",
        "a+=h\n",
        "d2 = a*b +c\n",
        "print('d1:', d1)\n",
        "print('d2:', d2)\n",
        "print(\"slope d with respect to a :\" , (d2-d1)/h)"
      ],
      "metadata": {
        "colab": {
          "base_uri": "https://localhost:8080/"
        },
        "id": "xmkqsRfMqfdW",
        "outputId": "6bd1de7d-11c3-48d4-bcfc-bec71ab03b64"
      },
      "execution_count": 7,
      "outputs": [
        {
          "output_type": "stream",
          "name": "stdout",
          "text": [
            "d1: -2.0\n",
            "d2: -2.003\n",
            "slope d with respect to a : -3.0000000000001137\n"
          ]
        }
      ]
    },
    {
      "cell_type": "code",
      "source": [
        "h = 0.001\n",
        "#inputs\n",
        "a = 2.0\n",
        "b = -3.0\n",
        "c = 4.0\n",
        "\n",
        "d1 = a*b +c\n",
        "b+=h\n",
        "d2 = a*b +c\n",
        "print('d1:', d1)\n",
        "print('d2:', d2)\n",
        "print(\"slope d with respect to b :\" , (d2-d1)/h)"
      ],
      "metadata": {
        "colab": {
          "base_uri": "https://localhost:8080/"
        },
        "id": "X_Idi22erKyY",
        "outputId": "a1caf7ac-1834-460a-ec6f-367c8d631ea6"
      },
      "execution_count": 8,
      "outputs": [
        {
          "output_type": "stream",
          "name": "stdout",
          "text": [
            "d1: -2.0\n",
            "d2: -1.9980000000000002\n",
            "slope d with respect to b : 1.9999999999997797\n"
          ]
        }
      ]
    },
    {
      "cell_type": "code",
      "source": [
        "h = 0.001\n",
        "#inputs\n",
        "a = 2.0\n",
        "b = -3.0\n",
        "c = 4.0\n",
        "\n",
        "d1 = a*b +c\n",
        "c+=h\n",
        "d2 = a*b +c\n",
        "print('d1:', d1)\n",
        "print('d2:', d2)\n",
        "print(\"slope d with respect to c :\" , (d2-d1)/h)"
      ],
      "metadata": {
        "colab": {
          "base_uri": "https://localhost:8080/"
        },
        "id": "RizSX3wQrw3C",
        "outputId": "81a128ae-55d4-4894-8526-a69f14ad0bec"
      },
      "execution_count": 9,
      "outputs": [
        {
          "output_type": "stream",
          "name": "stdout",
          "text": [
            "d1: -2.0\n",
            "d2: -1.9989999999999997\n",
            "slope d with respect to c : 1.000000000000334\n"
          ]
        }
      ]
    },
    {
      "cell_type": "markdown",
      "source": [
        "### Need a Data Structure to wrap up the data  in Neural Network\n",
        "Building the core of MicroGrad"
      ],
      "metadata": {
        "id": "K7edvQvTtJPf"
      }
    },
    {
      "cell_type": "code",
      "source": [
        "class Value:\n",
        "  # constructor in python\n",
        "  def __init__(self, data, _children=(), _op=(), label=''):\n",
        "    self.data = data\n",
        "    self._prev = set(_children)\n",
        "    self._backward = lambda:None\n",
        "    self.grad = 0.0\n",
        "    self._op = _op\n",
        "    self.label = label\n",
        "  def __repr__(self):\n",
        "    return f\"Value(data:{self.data})\"\n",
        "\n",
        "  #operator overloading in python\n",
        "  def __add__(self, other):\n",
        "    out = Value(self.data + other.data, (self, other),'+')\n",
        "\n",
        "    def _backward():\n",
        "      self.grad = 1.0 * out.grad\n",
        "      other.grad = 1.0 * out.grad\n",
        "\n",
        "    out._backward = _backward\n",
        "    return out\n",
        "  def __mul__(self, other):\n",
        "    out = Value(self.data * other.data, (self, other),'*')\n",
        "\n",
        "    def _backward():\n",
        "      self.grad = other.data * out.grad\n",
        "      other.grad = self.data * out.grad\n",
        "\n",
        "    out._backward = _backward\n",
        "    return out\n",
        "\n",
        "  def tanh(self):\n",
        "    val = self.data\n",
        "    tan_val = (math.exp(2*x)-1)/(math.exp(2*x)+1)\n",
        "    out = Value(tan_val, (self,), 'tanh')\n",
        "\n",
        "    def _backward():\n",
        "      self.grad = (1- tan_val**2) * out.grad\n",
        "\n",
        "    out._backward = _backward\n",
        "    return out\n",
        "\n",
        "a= Value(2.0, label='a')\n",
        "b= Value(-3.0, label = 'b')\n",
        "c= Value(-4,label ='c')\n",
        "e= a*b\n",
        "e.label='e'\n",
        "d = e + c\n",
        "d.label='d'\n",
        "f = Value( -2.0, label = 'f')\n",
        "L = d*f\n",
        "L.label='L'\n",
        "L"
      ],
      "metadata": {
        "colab": {
          "base_uri": "https://localhost:8080/"
        },
        "id": "6w2EbB4Ir8z7",
        "outputId": "38b28ea8-2a1d-4335-8d61-c7b6e6a55bf9"
      },
      "execution_count": 42,
      "outputs": [
        {
          "output_type": "execute_result",
          "data": {
            "text/plain": [
              "Value(data:20.0)"
            ]
          },
          "metadata": {},
          "execution_count": 42
        }
      ]
    },
    {
      "cell_type": "code",
      "source": [
        "from graphviz import Digraph\n",
        "\n",
        "def trace(root):\n",
        "  # builds a set of all nodes and edges in a graph\n",
        "  nodes, edges = set(), set()\n",
        "  def build(v):\n",
        "    if v not in nodes:\n",
        "      nodes.add(v)\n",
        "      for child in v._prev:\n",
        "        edges.add((child, v))\n",
        "        build(child)\n",
        "  build(root)\n",
        "  return nodes, edges\n",
        "\n",
        "def draw_dot(root):\n",
        "  dot = Digraph(format='svg', graph_attr={'rankdir': 'LR'}) # LR = left to right\n",
        "\n",
        "  nodes, edges = trace(root)\n",
        "  for n in nodes:\n",
        "    uid = str(id(n))\n",
        "    # for any value in the graph, create a rectangular ('record') node for it\n",
        "    dot.node(name = uid, label = \"{ %s | data %.4f | grad %.4f }\" % (n.label , n.data, n.grad ), shape='record')\n",
        "    if n._op:\n",
        "      # if this value is a result of some operation, create an op node for it\n",
        "      dot.node(name = uid + n._op, label = n._op)\n",
        "      # and connect this node to it\n",
        "      dot.edge(uid + n._op, uid)\n",
        "\n",
        "  for n1, n2 in edges:\n",
        "    # connect n1 to the op node of n2\n",
        "    dot.edge(str(id(n1)), str(id(n2)) + n2._op)\n",
        "\n",
        "  return dot"
      ],
      "metadata": {
        "id": "xdlDXzg5yYOu"
      },
      "execution_count": 39,
      "outputs": []
    },
    {
      "cell_type": "code",
      "source": [
        "draw_dot(L)"
      ],
      "metadata": {
        "colab": {
          "base_uri": "https://localhost:8080/",
          "height": 212
        },
        "id": "n_FaNdGwyyfP",
        "outputId": "f8349ea9-4531-4d40-ea53-9a5bd6795b21"
      },
      "execution_count": 16,
      "outputs": [
        {
          "output_type": "execute_result",
          "data": {
            "image/svg+xml": "<?xml version=\"1.0\" encoding=\"UTF-8\" standalone=\"no\"?>\n<!DOCTYPE svg PUBLIC \"-//W3C//DTD SVG 1.1//EN\"\n \"http://www.w3.org/Graphics/SVG/1.1/DTD/svg11.dtd\">\n<!-- Generated by graphviz version 2.43.0 (0)\n -->\n<!-- Title: %3 Pages: 1 -->\n<svg width=\"1172pt\" height=\"128pt\"\n viewBox=\"0.00 0.00 1172.00 128.00\" xmlns=\"http://www.w3.org/2000/svg\" xmlns:xlink=\"http://www.w3.org/1999/xlink\">\n<g id=\"graph0\" class=\"graph\" transform=\"scale(1 1) rotate(0) translate(4 124)\">\n<title>%3</title>\n<polygon fill=\"white\" stroke=\"transparent\" points=\"-4,4 -4,-124 1168,-124 1168,4 -4,4\"/>\n<!-- 135809893758528 -->\n<g id=\"node1\" class=\"node\">\n<title>135809893758528</title>\n<polygon fill=\"none\" stroke=\"black\" points=\"640,-82.5 640,-118.5 839,-118.5 839,-82.5 640,-82.5\"/>\n<text text-anchor=\"middle\" x=\"650.5\" y=\"-96.8\" font-family=\"Times,serif\" font-size=\"14.00\">f</text>\n<polyline fill=\"none\" stroke=\"black\" points=\"661,-82.5 661,-118.5 \"/>\n<text text-anchor=\"middle\" x=\"703.5\" y=\"-96.8\" font-family=\"Times,serif\" font-size=\"14.00\">data &#45;2.1000</text>\n<polyline fill=\"none\" stroke=\"black\" points=\"746,-82.5 746,-118.5 \"/>\n<text text-anchor=\"middle\" x=\"792.5\" y=\"-96.8\" font-family=\"Times,serif\" font-size=\"14.00\">grad &#45;10.0000</text>\n</g>\n<!-- 135809889079584+ -->\n<g id=\"node7\" class=\"node\">\n<title>135809889079584+</title>\n<ellipse fill=\"none\" stroke=\"black\" cx=\"902\" cy=\"-72.5\" rx=\"27\" ry=\"18\"/>\n<text text-anchor=\"middle\" x=\"902\" y=\"-68.8\" font-family=\"Times,serif\" font-size=\"14.00\">+</text>\n</g>\n<!-- 135809893758528&#45;&gt;135809889079584+ -->\n<g id=\"edge9\" class=\"edge\">\n<title>135809893758528&#45;&gt;135809889079584+</title>\n<path fill=\"none\" stroke=\"black\" d=\"M839.41,-83.25C848.65,-81.63 857.54,-80.08 865.55,-78.68\"/>\n<polygon fill=\"black\" stroke=\"black\" points=\"866.29,-82.11 875.54,-76.94 865.08,-75.21 866.29,-82.11\"/>\n</g>\n<!-- 135809894731392 -->\n<g id=\"node2\" class=\"node\">\n<title>135809894731392</title>\n<polygon fill=\"none\" stroke=\"black\" points=\"0,-83.5 0,-119.5 194,-119.5 194,-83.5 0,-83.5\"/>\n<text text-anchor=\"middle\" x=\"11.5\" y=\"-97.8\" font-family=\"Times,serif\" font-size=\"14.00\">b</text>\n<polyline fill=\"none\" stroke=\"black\" points=\"23,-83.5 23,-119.5 \"/>\n<text text-anchor=\"middle\" x=\"65.5\" y=\"-97.8\" font-family=\"Times,serif\" font-size=\"14.00\">data &#45;3.0400</text>\n<polyline fill=\"none\" stroke=\"black\" points=\"108,-83.5 108,-119.5 \"/>\n<text text-anchor=\"middle\" x=\"151\" y=\"-97.8\" font-family=\"Times,serif\" font-size=\"14.00\">grad &#45;4.0000</text>\n</g>\n<!-- 135809894734608* -->\n<g id=\"node5\" class=\"node\">\n<title>135809894734608*</title>\n<ellipse fill=\"none\" stroke=\"black\" cx=\"257\" cy=\"-73.5\" rx=\"27\" ry=\"18\"/>\n<text text-anchor=\"middle\" x=\"257\" y=\"-69.8\" font-family=\"Times,serif\" font-size=\"14.00\">*</text>\n</g>\n<!-- 135809894731392&#45;&gt;135809894734608* -->\n<g id=\"edge4\" class=\"edge\">\n<title>135809894731392&#45;&gt;135809894734608*</title>\n<path fill=\"none\" stroke=\"black\" d=\"M194.01,-84.49C203.35,-82.83 212.37,-81.23 220.49,-79.79\"/>\n<polygon fill=\"black\" stroke=\"black\" points=\"221.37,-83.19 230.6,-78 220.15,-76.3 221.37,-83.19\"/>\n</g>\n<!-- 135809894735040 -->\n<g id=\"node3\" class=\"node\">\n<title>135809894735040</title>\n<polygon fill=\"none\" stroke=\"black\" points=\"4.5,-28.5 4.5,-64.5 189.5,-64.5 189.5,-28.5 4.5,-28.5\"/>\n<text text-anchor=\"middle\" x=\"16\" y=\"-42.8\" font-family=\"Times,serif\" font-size=\"14.00\">a</text>\n<polyline fill=\"none\" stroke=\"black\" points=\"27.5,-28.5 27.5,-64.5 \"/>\n<text text-anchor=\"middle\" x=\"67.5\" y=\"-42.8\" font-family=\"Times,serif\" font-size=\"14.00\">data 2.0600</text>\n<polyline fill=\"none\" stroke=\"black\" points=\"107.5,-28.5 107.5,-64.5 \"/>\n<text text-anchor=\"middle\" x=\"148.5\" y=\"-42.8\" font-family=\"Times,serif\" font-size=\"14.00\">grad 6.0000</text>\n</g>\n<!-- 135809894735040&#45;&gt;135809894734608* -->\n<g id=\"edge8\" class=\"edge\">\n<title>135809894735040&#45;&gt;135809894734608*</title>\n<path fill=\"none\" stroke=\"black\" d=\"M189.91,-62.21C200.76,-64.06 211.28,-65.86 220.61,-67.45\"/>\n<polygon fill=\"black\" stroke=\"black\" points=\"220.16,-70.93 230.6,-69.16 221.34,-64.03 220.16,-70.93\"/>\n</g>\n<!-- 135809894734608 -->\n<g id=\"node4\" class=\"node\">\n<title>135809894734608</title>\n<polygon fill=\"none\" stroke=\"black\" points=\"322,-55.5 322,-91.5 512,-91.5 512,-55.5 322,-55.5\"/>\n<text text-anchor=\"middle\" x=\"333.5\" y=\"-69.8\" font-family=\"Times,serif\" font-size=\"14.00\">e</text>\n<polyline fill=\"none\" stroke=\"black\" points=\"345,-55.5 345,-91.5 \"/>\n<text text-anchor=\"middle\" x=\"387.5\" y=\"-69.8\" font-family=\"Times,serif\" font-size=\"14.00\">data &#45;6.2624</text>\n<polyline fill=\"none\" stroke=\"black\" points=\"430,-55.5 430,-91.5 \"/>\n<text text-anchor=\"middle\" x=\"471\" y=\"-69.8\" font-family=\"Times,serif\" font-size=\"14.00\">grad 0.0000</text>\n</g>\n<!-- 135809889079248+ -->\n<g id=\"node9\" class=\"node\">\n<title>135809889079248+</title>\n<ellipse fill=\"none\" stroke=\"black\" cx=\"577\" cy=\"-45.5\" rx=\"27\" ry=\"18\"/>\n<text text-anchor=\"middle\" x=\"577\" y=\"-41.8\" font-family=\"Times,serif\" font-size=\"14.00\">+</text>\n</g>\n<!-- 135809894734608&#45;&gt;135809889079248+ -->\n<g id=\"edge6\" class=\"edge\">\n<title>135809894734608&#45;&gt;135809889079248+</title>\n<path fill=\"none\" stroke=\"black\" d=\"M512.19,-56.81C522.25,-55.03 531.96,-53.3 540.65,-51.77\"/>\n<polygon fill=\"black\" stroke=\"black\" points=\"541.45,-55.18 550.69,-49.99 540.23,-48.28 541.45,-55.18\"/>\n</g>\n<!-- 135809894734608*&#45;&gt;135809894734608 -->\n<g id=\"edge1\" class=\"edge\">\n<title>135809894734608*&#45;&gt;135809894734608</title>\n<path fill=\"none\" stroke=\"black\" d=\"M284.09,-73.5C292.18,-73.5 301.63,-73.5 311.7,-73.5\"/>\n<polygon fill=\"black\" stroke=\"black\" points=\"311.94,-77 321.94,-73.5 311.94,-70 311.94,-77\"/>\n</g>\n<!-- 135809889079584 -->\n<g id=\"node6\" class=\"node\">\n<title>135809889079584</title>\n<polygon fill=\"none\" stroke=\"black\" points=\"965,-54.5 965,-90.5 1164,-90.5 1164,-54.5 965,-54.5\"/>\n<text text-anchor=\"middle\" x=\"977.5\" y=\"-68.8\" font-family=\"Times,serif\" font-size=\"14.00\">L</text>\n<polyline fill=\"none\" stroke=\"black\" points=\"990,-54.5 990,-90.5 \"/>\n<text text-anchor=\"middle\" x=\"1036\" y=\"-68.8\" font-family=\"Times,serif\" font-size=\"14.00\">data &#45;12.3824</text>\n<polyline fill=\"none\" stroke=\"black\" points=\"1082,-54.5 1082,-90.5 \"/>\n<text text-anchor=\"middle\" x=\"1123\" y=\"-68.8\" font-family=\"Times,serif\" font-size=\"14.00\">grad 0.0000</text>\n</g>\n<!-- 135809889079584+&#45;&gt;135809889079584 -->\n<g id=\"edge2\" class=\"edge\">\n<title>135809889079584+&#45;&gt;135809889079584</title>\n<path fill=\"none\" stroke=\"black\" d=\"M929.14,-72.5C936.65,-72.5 945.33,-72.5 954.6,-72.5\"/>\n<polygon fill=\"black\" stroke=\"black\" points=\"954.86,-76 964.86,-72.5 954.86,-69 954.86,-76\"/>\n</g>\n<!-- 135809889079248 -->\n<g id=\"node8\" class=\"node\">\n<title>135809889079248</title>\n<polygon fill=\"none\" stroke=\"black\" points=\"641,-27.5 641,-63.5 838,-63.5 838,-27.5 641,-27.5\"/>\n<text text-anchor=\"middle\" x=\"652.5\" y=\"-41.8\" font-family=\"Times,serif\" font-size=\"14.00\">d</text>\n<polyline fill=\"none\" stroke=\"black\" points=\"664,-27.5 664,-63.5 \"/>\n<text text-anchor=\"middle\" x=\"710\" y=\"-41.8\" font-family=\"Times,serif\" font-size=\"14.00\">data &#45;10.2824</text>\n<polyline fill=\"none\" stroke=\"black\" points=\"756,-27.5 756,-63.5 \"/>\n<text text-anchor=\"middle\" x=\"797\" y=\"-41.8\" font-family=\"Times,serif\" font-size=\"14.00\">grad 0.0000</text>\n</g>\n<!-- 135809889079248&#45;&gt;135809889079584+ -->\n<g id=\"edge7\" class=\"edge\">\n<title>135809889079248&#45;&gt;135809889079584+</title>\n<path fill=\"none\" stroke=\"black\" d=\"M838.03,-61.91C847.72,-63.54 857.06,-65.11 865.44,-66.52\"/>\n<polygon fill=\"black\" stroke=\"black\" points=\"865.06,-70 875.51,-68.21 866.23,-63.1 865.06,-70\"/>\n</g>\n<!-- 135809889079248+&#45;&gt;135809889079248 -->\n<g id=\"edge3\" class=\"edge\">\n<title>135809889079248+&#45;&gt;135809889079248</title>\n<path fill=\"none\" stroke=\"black\" d=\"M604.14,-45.5C611.92,-45.5 620.97,-45.5 630.63,-45.5\"/>\n<polygon fill=\"black\" stroke=\"black\" points=\"630.89,-49 640.89,-45.5 630.89,-42 630.89,-49\"/>\n</g>\n<!-- 135809894731248 -->\n<g id=\"node10\" class=\"node\">\n<title>135809894731248</title>\n<polygon fill=\"none\" stroke=\"black\" points=\"320,-0.5 320,-36.5 514,-36.5 514,-0.5 320,-0.5\"/>\n<text text-anchor=\"middle\" x=\"331.5\" y=\"-14.8\" font-family=\"Times,serif\" font-size=\"14.00\">c</text>\n<polyline fill=\"none\" stroke=\"black\" points=\"343,-0.5 343,-36.5 \"/>\n<text text-anchor=\"middle\" x=\"385.5\" y=\"-14.8\" font-family=\"Times,serif\" font-size=\"14.00\">data &#45;4.0200</text>\n<polyline fill=\"none\" stroke=\"black\" points=\"428,-0.5 428,-36.5 \"/>\n<text text-anchor=\"middle\" x=\"471\" y=\"-14.8\" font-family=\"Times,serif\" font-size=\"14.00\">grad &#45;2.0000</text>\n</g>\n<!-- 135809894731248&#45;&gt;135809889079248+ -->\n<g id=\"edge5\" class=\"edge\">\n<title>135809894731248&#45;&gt;135809889079248+</title>\n<path fill=\"none\" stroke=\"black\" d=\"M514.01,-34.91C523.35,-36.5 532.37,-38.04 540.49,-39.43\"/>\n<polygon fill=\"black\" stroke=\"black\" points=\"540.16,-42.93 550.6,-41.16 541.34,-36.03 540.16,-42.93\"/>\n</g>\n</g>\n</svg>\n",
            "text/plain": [
              "<graphviz.graphs.Digraph at 0x7b84b4797f10>"
            ]
          },
          "metadata": {},
          "execution_count": 16
        }
      ]
    },
    {
      "cell_type": "code",
      "source": [
        "# Manual Backpropagation\n",
        "L.grad = 1.0\n",
        "d.grad = f.data\n",
        "f.grad = d.data\n",
        "c.grad = d.grad * 1.0\n",
        "e.grad = d.grad * 1.0\n",
        "b.grad = e.grad * a.data\n",
        "a.grad = e.grad * b.data"
      ],
      "metadata": {
        "id": "_tN2gOhL5Tu_"
      },
      "execution_count": 13,
      "outputs": []
    },
    {
      "cell_type": "code",
      "source": [
        "# Sinlge optimization run\n",
        "a.data += (0.01 * a.grad)\n",
        "b.data += (0.01 * b.grad)\n",
        "c.data += (0.01 * c.grad)\n",
        "f.data += (0.01 *  f.grad)\n",
        "\n",
        "e = a * b\n",
        "e.label = 'e'\n",
        "d = e + c\n",
        "d.label = 'd'\n",
        "L = d + f\n",
        "L.label ='L'\n",
        "print(L.data)"
      ],
      "metadata": {
        "colab": {
          "base_uri": "https://localhost:8080/"
        },
        "id": "Sl2y5gyU-pbH",
        "outputId": "7656b904-2f8c-4721-9578-ed29238f2af5"
      },
      "execution_count": 15,
      "outputs": [
        {
          "output_type": "stream",
          "name": "stdout",
          "text": [
            "-12.382399999999999\n"
          ]
        }
      ]
    },
    {
      "cell_type": "code",
      "source": [
        "def man_def():\n",
        "  h = 0.001\n",
        "\n",
        "  a = Value(2.0, label='a')\n",
        "  b = Value(-3.0, label='b')\n",
        "  c = Value(-4.0, label='c')\n",
        "  e = a*b; e.label = 'e'\n",
        "  d = e + c; d.label = 'd'\n",
        "  f = Value(-2.0, label='f')\n",
        "  L = d * f; L.label = 'L'\n",
        "  L1 = L.data\n",
        "\n",
        "  a = Value(2.0, label='a')\n",
        "  b = Value(-3.0, label='b')\n",
        "  c = Value(-4.0, label='c')\n",
        "  e = a*b; e.label = 'e'\n",
        "  d = e + c; d.label = 'd'\n",
        "  f = Value(-2.0, label='f')\n",
        "  f.data+=h\n",
        "  L = d * f; L.label = 'L'\n",
        "  L2 = L.data\n",
        "\n",
        "  print((L2 - L1)/h)\n",
        "\n",
        "man_def()"
      ],
      "metadata": {
        "colab": {
          "base_uri": "https://localhost:8080/"
        },
        "id": "w6BOeGmB0pPL",
        "outputId": "ba46db9b-0ced-4412-9d60-a6ee6e86fab1"
      },
      "execution_count": 17,
      "outputs": [
        {
          "output_type": "stream",
          "name": "stdout",
          "text": [
            "-9.99999999999801\n"
          ]
        }
      ]
    },
    {
      "cell_type": "code",
      "source": [
        "plt.plot(np.arange(-5,5,0.2), np.tanh(np.arange(-5,5,0.2)))\n",
        "plt.grid()"
      ],
      "metadata": {
        "colab": {
          "base_uri": "https://localhost:8080/",
          "height": 430
        },
        "id": "u8zG5_LJqhoU",
        "outputId": "a36fb3a1-37c6-4adf-b19a-e126163c997b"
      },
      "execution_count": 18,
      "outputs": [
        {
          "output_type": "display_data",
          "data": {
            "text/plain": [
              "<Figure size 640x480 with 1 Axes>"
            ],
            "image/png": "[encoded data removed]"
          },
          "metadata": {}
        }
      ]
    },
    {
      "cell_type": "code",
      "source": [
        "#inputs x1, x2\n",
        "x1 = Value(2.0, label='x1')\n",
        "x2 = Value(0.0, label='x2')\n",
        "# weights w1, 2\n",
        "w1 = Value(-3.0, label='w1')\n",
        "w2 = Value(1.0, label='w2')\n",
        "#bias of neuron b\n",
        "b = Value(6.8880212, label ='b')\n",
        "#x1*w1+x2*w2+b\n",
        "x1w1 = x1*w1 ; x1w1.label = 'x1w1'\n",
        "x2w2 = x2*w2 ; x2w2.label = 'x2w2'\n",
        "x1w1x2w2 = x1w1+ x2w2 ; x1w1x2w2.label = 'x1w1x2w2'\n",
        "n = x1w1x2w2 + b ; n.label='n'\n",
        "o = n.tanh() ; o.label ='o'"
      ],
      "metadata": {
        "id": "67P7DUtmrTjT"
      },
      "execution_count": 43,
      "outputs": []
    },
    {
      "cell_type": "code",
      "source": [
        "draw_dot(o)"
      ],
      "metadata": {
        "colab": {
          "base_uri": "https://localhost:8080/",
          "height": 321
        },
        "id": "tbdlZ4S_tEnM",
        "outputId": "20a33d0c-9f13-4bcf-853d-06fd3e534ff5"
      },
      "execution_count": 55,
      "outputs": [
        {
          "output_type": "execute_result",
          "data": {
            "image/svg+xml": "<?xml version=\"1.0\" encoding=\"UTF-8\" standalone=\"no\"?>\n<!DOCTYPE svg PUBLIC \"-//W3C//DTD SVG 1.1//EN\"\n \"http://www.w3.org/Graphics/SVG/1.1/DTD/svg11.dtd\">\n<!-- Generated by graphviz version 2.43.0 (0)\n -->\n<!-- Title: %3 Pages: 1 -->\n<svg width=\"1545pt\" height=\"210pt\"\n viewBox=\"0.00 0.00 1545.00 210.00\" xmlns=\"http://www.w3.org/2000/svg\" xmlns:xlink=\"http://www.w3.org/1999/xlink\">\n<g id=\"graph0\" class=\"graph\" transform=\"scale(1 1) rotate(0) translate(4 206)\">\n<title>%3</title>\n<polygon fill=\"white\" stroke=\"transparent\" points=\"-4,4 -4,-206 1541,-206 1541,4 -4,4\"/>\n<!-- 135808867836416 -->\n<g id=\"node1\" class=\"node\">\n<title>135808867836416</title>\n<polygon fill=\"none\" stroke=\"black\" points=\"2.5,-165.5 2.5,-201.5 197.5,-201.5 197.5,-165.5 2.5,-165.5\"/>\n<text text-anchor=\"middle\" x=\"19\" y=\"-179.8\" font-family=\"Times,serif\" font-size=\"14.00\">w2</text>\n<polyline fill=\"none\" stroke=\"black\" points=\"35.5,-165.5 35.5,-201.5 \"/>\n<text text-anchor=\"middle\" x=\"75.5\" y=\"-179.8\" font-family=\"Times,serif\" font-size=\"14.00\">data 1.0000</text>\n<polyline fill=\"none\" stroke=\"black\" points=\"115.5,-165.5 115.5,-201.5 \"/>\n<text text-anchor=\"middle\" x=\"156.5\" y=\"-179.8\" font-family=\"Times,serif\" font-size=\"14.00\">grad 0.0000</text>\n</g>\n<!-- 135808867836800* -->\n<g id=\"node14\" class=\"node\">\n<title>135808867836800*</title>\n<ellipse fill=\"none\" stroke=\"black\" cx=\"263\" cy=\"-128.5\" rx=\"27\" ry=\"18\"/>\n<text text-anchor=\"middle\" x=\"263\" y=\"-124.8\" font-family=\"Times,serif\" font-size=\"14.00\">*</text>\n</g>\n<!-- 135808867836416&#45;&gt;135808867836800* -->\n<g id=\"edge14\" class=\"edge\">\n<title>135808867836416&#45;&gt;135808867836800*</title>\n<path fill=\"none\" stroke=\"black\" d=\"M172.53,-165.44C181.84,-162.67 191.2,-159.67 200,-156.5 210.53,-152.71 221.75,-147.9 231.72,-143.33\"/>\n<polygon fill=\"black\" stroke=\"black\" points=\"233.25,-146.48 240.82,-139.07 230.28,-140.14 233.25,-146.48\"/>\n</g>\n<!-- 135808867833872 -->\n<g id=\"node2\" class=\"node\">\n<title>135808867833872</title>\n<polygon fill=\"none\" stroke=\"black\" points=\"326,-55.5 326,-91.5 540,-91.5 540,-55.5 326,-55.5\"/>\n<text text-anchor=\"middle\" x=\"349.5\" y=\"-69.8\" font-family=\"Times,serif\" font-size=\"14.00\">x1w1</text>\n<polyline fill=\"none\" stroke=\"black\" points=\"373,-55.5 373,-91.5 \"/>\n<text text-anchor=\"middle\" x=\"415.5\" y=\"-69.8\" font-family=\"Times,serif\" font-size=\"14.00\">data &#45;6.0000</text>\n<polyline fill=\"none\" stroke=\"black\" points=\"458,-55.5 458,-91.5 \"/>\n<text text-anchor=\"middle\" x=\"499\" y=\"-69.8\" font-family=\"Times,serif\" font-size=\"14.00\">grad 0.0266</text>\n</g>\n<!-- 135808867834976+ -->\n<g id=\"node9\" class=\"node\">\n<title>135808867834976+</title>\n<ellipse fill=\"none\" stroke=\"black\" cx=\"603\" cy=\"-100.5\" rx=\"27\" ry=\"18\"/>\n<text text-anchor=\"middle\" x=\"603\" y=\"-96.8\" font-family=\"Times,serif\" font-size=\"14.00\">+</text>\n</g>\n<!-- 135808867833872&#45;&gt;135808867834976+ -->\n<g id=\"edge9\" class=\"edge\">\n<title>135808867833872&#45;&gt;135808867834976+</title>\n<path fill=\"none\" stroke=\"black\" d=\"M540.4,-90.6C549.72,-92.1 558.65,-93.53 566.68,-94.82\"/>\n<polygon fill=\"black\" stroke=\"black\" points=\"566.24,-98.3 576.66,-96.43 567.35,-91.39 566.24,-98.3\"/>\n</g>\n<!-- 135808867833872* -->\n<g id=\"node3\" class=\"node\">\n<title>135808867833872*</title>\n<ellipse fill=\"none\" stroke=\"black\" cx=\"263\" cy=\"-73.5\" rx=\"27\" ry=\"18\"/>\n<text text-anchor=\"middle\" x=\"263\" y=\"-69.8\" font-family=\"Times,serif\" font-size=\"14.00\">*</text>\n</g>\n<!-- 135808867833872*&#45;&gt;135808867833872 -->\n<g id=\"edge1\" class=\"edge\">\n<title>135808867833872*&#45;&gt;135808867833872</title>\n<path fill=\"none\" stroke=\"black\" d=\"M290.25,-73.5C297.7,-73.5 306.34,-73.5 315.59,-73.5\"/>\n<polygon fill=\"black\" stroke=\"black\" points=\"315.84,-77 325.84,-73.5 315.84,-70 315.84,-77\"/>\n</g>\n<!-- 135808867839536 -->\n<g id=\"node4\" class=\"node\">\n<title>135808867839536</title>\n<polygon fill=\"none\" stroke=\"black\" points=\"695.5,-27.5 695.5,-63.5 880.5,-63.5 880.5,-27.5 695.5,-27.5\"/>\n<text text-anchor=\"middle\" x=\"707\" y=\"-41.8\" font-family=\"Times,serif\" font-size=\"14.00\">b</text>\n<polyline fill=\"none\" stroke=\"black\" points=\"718.5,-27.5 718.5,-63.5 \"/>\n<text text-anchor=\"middle\" x=\"758.5\" y=\"-41.8\" font-family=\"Times,serif\" font-size=\"14.00\">data 6.8880</text>\n<polyline fill=\"none\" stroke=\"black\" points=\"798.5,-27.5 798.5,-63.5 \"/>\n<text text-anchor=\"middle\" x=\"839.5\" y=\"-41.8\" font-family=\"Times,serif\" font-size=\"14.00\">grad 0.0266</text>\n</g>\n<!-- 135808867841600+ -->\n<g id=\"node6\" class=\"node\">\n<title>135808867841600+</title>\n<ellipse fill=\"none\" stroke=\"black\" cx=\"973\" cy=\"-72.5\" rx=\"27\" ry=\"18\"/>\n<text text-anchor=\"middle\" x=\"973\" y=\"-68.8\" font-family=\"Times,serif\" font-size=\"14.00\">+</text>\n</g>\n<!-- 135808867839536&#45;&gt;135808867841600+ -->\n<g id=\"edge8\" class=\"edge\">\n<title>135808867839536&#45;&gt;135808867841600+</title>\n<path fill=\"none\" stroke=\"black\" d=\"M880.77,-59.04C900.52,-61.95 920.26,-64.87 936.29,-67.23\"/>\n<polygon fill=\"black\" stroke=\"black\" points=\"935.86,-70.71 946.26,-68.7 936.88,-63.78 935.86,-70.71\"/>\n</g>\n<!-- 135808867841600 -->\n<g id=\"node5\" class=\"node\">\n<title>135808867841600</title>\n<polygon fill=\"none\" stroke=\"black\" points=\"1036,-54.5 1036,-90.5 1221,-90.5 1221,-54.5 1036,-54.5\"/>\n<text text-anchor=\"middle\" x=\"1047.5\" y=\"-68.8\" font-family=\"Times,serif\" font-size=\"14.00\">n</text>\n<polyline fill=\"none\" stroke=\"black\" points=\"1059,-54.5 1059,-90.5 \"/>\n<text text-anchor=\"middle\" x=\"1099\" y=\"-68.8\" font-family=\"Times,serif\" font-size=\"14.00\">data 0.8880</text>\n<polyline fill=\"none\" stroke=\"black\" points=\"1139,-54.5 1139,-90.5 \"/>\n<text text-anchor=\"middle\" x=\"1180\" y=\"-68.8\" font-family=\"Times,serif\" font-size=\"14.00\">grad 0.0266</text>\n</g>\n<!-- 135808867829504tanh -->\n<g id=\"node11\" class=\"node\">\n<title>135808867829504tanh</title>\n<ellipse fill=\"none\" stroke=\"black\" cx=\"1284\" cy=\"-72.5\" rx=\"27\" ry=\"18\"/>\n<text text-anchor=\"middle\" x=\"1284\" y=\"-68.8\" font-family=\"Times,serif\" font-size=\"14.00\">tanh</text>\n</g>\n<!-- 135808867841600&#45;&gt;135808867829504tanh -->\n<g id=\"edge12\" class=\"edge\">\n<title>135808867841600&#45;&gt;135808867829504tanh</title>\n<path fill=\"none\" stroke=\"black\" d=\"M1221.01,-72.5C1230.01,-72.5 1238.74,-72.5 1246.66,-72.5\"/>\n<polygon fill=\"black\" stroke=\"black\" points=\"1246.91,-76 1256.91,-72.5 1246.91,-69 1246.91,-76\"/>\n</g>\n<!-- 135808867841600+&#45;&gt;135808867841600 -->\n<g id=\"edge2\" class=\"edge\">\n<title>135808867841600+&#45;&gt;135808867841600</title>\n<path fill=\"none\" stroke=\"black\" d=\"M1000.04,-72.5C1007.58,-72.5 1016.3,-72.5 1025.57,-72.5\"/>\n<polygon fill=\"black\" stroke=\"black\" points=\"1025.81,-76 1035.81,-72.5 1025.81,-69 1025.81,-76\"/>\n</g>\n<!-- 135808867834928 -->\n<g id=\"node7\" class=\"node\">\n<title>135808867834928</title>\n<polygon fill=\"none\" stroke=\"black\" points=\"4,-110.5 4,-146.5 196,-146.5 196,-110.5 4,-110.5\"/>\n<text text-anchor=\"middle\" x=\"19\" y=\"-124.8\" font-family=\"Times,serif\" font-size=\"14.00\">x2</text>\n<polyline fill=\"none\" stroke=\"black\" points=\"34,-110.5 34,-146.5 \"/>\n<text text-anchor=\"middle\" x=\"74\" y=\"-124.8\" font-family=\"Times,serif\" font-size=\"14.00\">data 0.0000</text>\n<polyline fill=\"none\" stroke=\"black\" points=\"114,-110.5 114,-146.5 \"/>\n<text text-anchor=\"middle\" x=\"155\" y=\"-124.8\" font-family=\"Times,serif\" font-size=\"14.00\">grad 0.0266</text>\n</g>\n<!-- 135808867834928&#45;&gt;135808867836800* -->\n<g id=\"edge13\" class=\"edge\">\n<title>135808867834928&#45;&gt;135808867836800*</title>\n<path fill=\"none\" stroke=\"black\" d=\"M196.05,-128.5C206.52,-128.5 216.65,-128.5 225.71,-128.5\"/>\n<polygon fill=\"black\" stroke=\"black\" points=\"225.79,-132 235.79,-128.5 225.79,-125 225.79,-132\"/>\n</g>\n<!-- 135808867834976 -->\n<g id=\"node8\" class=\"node\">\n<title>135808867834976</title>\n<polygon fill=\"none\" stroke=\"black\" points=\"666,-82.5 666,-118.5 910,-118.5 910,-82.5 666,-82.5\"/>\n<text text-anchor=\"middle\" x=\"704.5\" y=\"-96.8\" font-family=\"Times,serif\" font-size=\"14.00\">x1w1x2w2</text>\n<polyline fill=\"none\" stroke=\"black\" points=\"743,-82.5 743,-118.5 \"/>\n<text text-anchor=\"middle\" x=\"785.5\" y=\"-96.8\" font-family=\"Times,serif\" font-size=\"14.00\">data &#45;6.0000</text>\n<polyline fill=\"none\" stroke=\"black\" points=\"828,-82.5 828,-118.5 \"/>\n<text text-anchor=\"middle\" x=\"869\" y=\"-96.8\" font-family=\"Times,serif\" font-size=\"14.00\">grad 0.0266</text>\n</g>\n<!-- 135808867834976&#45;&gt;135808867841600+ -->\n<g id=\"edge7\" class=\"edge\">\n<title>135808867834976&#45;&gt;135808867841600+</title>\n<path fill=\"none\" stroke=\"black\" d=\"M906.71,-82.49C917.38,-80.86 927.53,-79.3 936.51,-77.93\"/>\n<polygon fill=\"black\" stroke=\"black\" points=\"937.13,-81.38 946.48,-76.4 936.07,-74.46 937.13,-81.38\"/>\n</g>\n<!-- 135808867834976+&#45;&gt;135808867834976 -->\n<g id=\"edge3\" class=\"edge\">\n<title>135808867834976+&#45;&gt;135808867834976</title>\n<path fill=\"none\" stroke=\"black\" d=\"M630.22,-100.5C637.7,-100.5 646.4,-100.5 655.79,-100.5\"/>\n<polygon fill=\"black\" stroke=\"black\" points=\"655.8,-104 665.8,-100.5 655.8,-97 655.8,-104\"/>\n</g>\n<!-- 135808867829504 -->\n<g id=\"node10\" class=\"node\">\n<title>135808867829504</title>\n<polygon fill=\"none\" stroke=\"black\" points=\"1347,-54.5 1347,-90.5 1537,-90.5 1537,-54.5 1347,-54.5\"/>\n<text text-anchor=\"middle\" x=\"1358.5\" y=\"-68.8\" font-family=\"Times,serif\" font-size=\"14.00\">o</text>\n<polyline fill=\"none\" stroke=\"black\" points=\"1370,-54.5 1370,-90.5 \"/>\n<text text-anchor=\"middle\" x=\"1412.5\" y=\"-68.8\" font-family=\"Times,serif\" font-size=\"14.00\">data &#45;0.9866</text>\n<polyline fill=\"none\" stroke=\"black\" points=\"1455,-54.5 1455,-90.5 \"/>\n<text text-anchor=\"middle\" x=\"1496\" y=\"-68.8\" font-family=\"Times,serif\" font-size=\"14.00\">grad 1.0000</text>\n</g>\n<!-- 135808867829504tanh&#45;&gt;135808867829504 -->\n<g id=\"edge4\" class=\"edge\">\n<title>135808867829504tanh&#45;&gt;135808867829504</title>\n<path fill=\"none\" stroke=\"black\" d=\"M1311.11,-72.5C1318.63,-72.5 1327.32,-72.5 1336.58,-72.5\"/>\n<polygon fill=\"black\" stroke=\"black\" points=\"1336.81,-76 1346.81,-72.5 1336.81,-69 1336.81,-76\"/>\n</g>\n<!-- 135808867840832 -->\n<g id=\"node12\" class=\"node\">\n<title>135808867840832</title>\n<polygon fill=\"none\" stroke=\"black\" points=\"2,-55.5 2,-91.5 198,-91.5 198,-55.5 2,-55.5\"/>\n<text text-anchor=\"middle\" x=\"17\" y=\"-69.8\" font-family=\"Times,serif\" font-size=\"14.00\">x1</text>\n<polyline fill=\"none\" stroke=\"black\" points=\"32,-55.5 32,-91.5 \"/>\n<text text-anchor=\"middle\" x=\"72\" y=\"-69.8\" font-family=\"Times,serif\" font-size=\"14.00\">data 2.0000</text>\n<polyline fill=\"none\" stroke=\"black\" points=\"112,-55.5 112,-91.5 \"/>\n<text text-anchor=\"middle\" x=\"155\" y=\"-69.8\" font-family=\"Times,serif\" font-size=\"14.00\">grad &#45;0.0798</text>\n</g>\n<!-- 135808867840832&#45;&gt;135808867833872* -->\n<g id=\"edge11\" class=\"edge\">\n<title>135808867840832&#45;&gt;135808867833872*</title>\n<path fill=\"none\" stroke=\"black\" d=\"M198.37,-73.5C208.05,-73.5 217.4,-73.5 225.8,-73.5\"/>\n<polygon fill=\"black\" stroke=\"black\" points=\"225.91,-77 235.91,-73.5 225.91,-70 225.91,-77\"/>\n</g>\n<!-- 135808867836800 -->\n<g id=\"node13\" class=\"node\">\n<title>135808867836800</title>\n<polygon fill=\"none\" stroke=\"black\" points=\"328.5,-110.5 328.5,-146.5 537.5,-146.5 537.5,-110.5 328.5,-110.5\"/>\n<text text-anchor=\"middle\" x=\"352\" y=\"-124.8\" font-family=\"Times,serif\" font-size=\"14.00\">x2w2</text>\n<polyline fill=\"none\" stroke=\"black\" points=\"375.5,-110.5 375.5,-146.5 \"/>\n<text text-anchor=\"middle\" x=\"415.5\" y=\"-124.8\" font-family=\"Times,serif\" font-size=\"14.00\">data 0.0000</text>\n<polyline fill=\"none\" stroke=\"black\" points=\"455.5,-110.5 455.5,-146.5 \"/>\n<text text-anchor=\"middle\" x=\"496.5\" y=\"-124.8\" font-family=\"Times,serif\" font-size=\"14.00\">grad 0.0266</text>\n</g>\n<!-- 135808867836800&#45;&gt;135808867834976+ -->\n<g id=\"edge6\" class=\"edge\">\n<title>135808867836800&#45;&gt;135808867834976+</title>\n<path fill=\"none\" stroke=\"black\" d=\"M537.53,-111.25C547.8,-109.53 557.66,-107.89 566.45,-106.43\"/>\n<polygon fill=\"black\" stroke=\"black\" points=\"567.3,-109.83 576.59,-104.74 566.15,-102.93 567.3,-109.83\"/>\n</g>\n<!-- 135808867836800*&#45;&gt;135808867836800 -->\n<g id=\"edge5\" class=\"edge\">\n<title>135808867836800*&#45;&gt;135808867836800</title>\n<path fill=\"none\" stroke=\"black\" d=\"M290.25,-128.5C298.43,-128.5 308.03,-128.5 318.31,-128.5\"/>\n<polygon fill=\"black\" stroke=\"black\" points=\"318.35,-132 328.35,-128.5 318.35,-125 318.35,-132\"/>\n</g>\n<!-- 135808867837424 -->\n<g id=\"node15\" class=\"node\">\n<title>135808867837424</title>\n<polygon fill=\"none\" stroke=\"black\" points=\"0,-0.5 0,-36.5 200,-36.5 200,-0.5 0,-0.5\"/>\n<text text-anchor=\"middle\" x=\"16.5\" y=\"-14.8\" font-family=\"Times,serif\" font-size=\"14.00\">w1</text>\n<polyline fill=\"none\" stroke=\"black\" points=\"33,-0.5 33,-36.5 \"/>\n<text text-anchor=\"middle\" x=\"75.5\" y=\"-14.8\" font-family=\"Times,serif\" font-size=\"14.00\">data &#45;3.0000</text>\n<polyline fill=\"none\" stroke=\"black\" points=\"118,-0.5 118,-36.5 \"/>\n<text text-anchor=\"middle\" x=\"159\" y=\"-14.8\" font-family=\"Times,serif\" font-size=\"14.00\">grad 0.0532</text>\n</g>\n<!-- 135808867837424&#45;&gt;135808867833872* -->\n<g id=\"edge10\" class=\"edge\">\n<title>135808867837424&#45;&gt;135808867833872*</title>\n<path fill=\"none\" stroke=\"black\" d=\"M169.28,-36.5C179.65,-39.61 190.16,-42.98 200,-46.5 210.28,-50.17 221.28,-54.74 231.11,-59.07\"/>\n<polygon fill=\"black\" stroke=\"black\" points=\"229.93,-62.37 240.48,-63.27 232.79,-55.99 229.93,-62.37\"/>\n</g>\n</g>\n</svg>\n",
            "text/plain": [
              "<graphviz.graphs.Digraph at 0x7b8477618670>"
            ]
          },
          "metadata": {},
          "execution_count": 55
        }
      ]
    },
    {
      "cell_type": "code",
      "source": [
        "o.grad = 1.0"
      ],
      "metadata": {
        "id": "G5-g2jze0ZdI"
      },
      "execution_count": 45,
      "outputs": []
    },
    {
      "cell_type": "code",
      "source": [
        "o._backward()"
      ],
      "metadata": {
        "id": "JBfsiaVY0wkW"
      },
      "execution_count": 46,
      "outputs": []
    },
    {
      "cell_type": "code",
      "source": [
        "n._backward()"
      ],
      "metadata": {
        "id": "TyA3Mp9001nf"
      },
      "execution_count": 48,
      "outputs": []
    },
    {
      "cell_type": "code",
      "source": [
        "b._backward()"
      ],
      "metadata": {
        "id": "UgfuHYad1A8G"
      },
      "execution_count": 50,
      "outputs": []
    },
    {
      "cell_type": "code",
      "source": [
        "x1w1x2w2._backward()"
      ],
      "metadata": {
        "id": "lBl7ADgG1FBR"
      },
      "execution_count": 51,
      "outputs": []
    },
    {
      "cell_type": "code",
      "source": [
        "x1w1._backward()"
      ],
      "metadata": {
        "id": "S-Tp7mNf1L5J"
      },
      "execution_count": 53,
      "outputs": []
    },
    {
      "cell_type": "code",
      "source": [
        "x2w2._backward()"
      ],
      "metadata": {
        "id": "5aOCLnuB1OrV"
      },
      "execution_count": 54,
      "outputs": []
    },
    {
      "cell_type": "code",
      "source": [
        "#Manual Backpropagation -- part 2\n",
        "o.grad = 1\n",
        "n.grad = 1 - (o.data ** 2)\n",
        "x1w1x2w2.grad = n.grad\n",
        "b.grad = n.grad\n",
        "x1w1.grad = n.grad\n",
        "x2w2.grad = n.grad\n",
        "x1.grad = w1.data * x1w1.grad\n",
        "w1.grad = x1.data * x1w1.grad\n",
        "x2.grad = w2.data * x2w2.grad\n",
        "w2.grad = x2.data * x2w2.grad"
      ],
      "metadata": {
        "id": "IxyRV5gGwdV9"
      },
      "execution_count": 35,
      "outputs": []
    },
    {
      "cell_type": "code",
      "source": [],
      "metadata": {
        "id": "YCBEG4rQw8nH"
      },
      "execution_count": null,
      "outputs": []
    }
  ]
}