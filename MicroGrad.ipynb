{
  "nbformat": 4,
  "nbformat_minor": 0,
  "metadata": {
    "colab": {
      "provenance": [],
      "authorship_tag": "ABX9TyPeNYxa20/zIH1taDvdKtpH",
      "include_colab_link": true
    },
    "kernelspec": {
      "name": "python3",
      "display_name": "Python 3"
    },
    "language_info": {
      "name": "python"
    }
  },
  "cells": [
    {
      "cell_type": "markdown",
      "metadata": {
        "id": "view-in-github",
        "colab_type": "text"
      },
      "source": [
        "<a href=\"https://colab.research.google.com/github/Samin-Sadaf7/NN_works/blob/main/MicroGrad.ipynb\" target=\"_parent\"><img src=\"https://colab.research.google.com/assets/colab-badge.svg\" alt=\"Open In Colab\"/></a>"
      ]
    },
    {
      "cell_type": "markdown",
      "source": [
        "**`Original idea and works:  Andrej Karpathy`**"
      ],
      "metadata": {
        "id": "YTNjgJJDtTkF"
      }
    },
    {
      "cell_type": "code",
      "execution_count": 6,
      "metadata": {
        "id": "f3r5aXtxkNJ3"
      },
      "outputs": [],
      "source": [
        "import numpy as np\n",
        "import math\n",
        "import matplotlib.pyplot as plt\n",
        "%matplotlib inline"
      ]
    },
    {
      "cell_type": "code",
      "source": [
        "def func(x):\n",
        "  return 2*x**2+4*x-7"
      ],
      "metadata": {
        "id": "bUlVHPjpnDBS"
      },
      "execution_count": 7,
      "outputs": []
    },
    {
      "cell_type": "code",
      "source": [
        "func(3.0)"
      ],
      "metadata": {
        "colab": {
          "base_uri": "https://localhost:8080/"
        },
        "id": "IUdiRhyxnSWt",
        "outputId": "4bffa0d2-283a-4a3f-9701-bb4371d32c50"
      },
      "execution_count": 8,
      "outputs": [
        {
          "output_type": "execute_result",
          "data": {
            "text/plain": [
              "23.0"
            ]
          },
          "metadata": {},
          "execution_count": 8
        }
      ]
    },
    {
      "cell_type": "code",
      "source": [
        "xs = np.arange(-3, 3,0.1)\n",
        "ys = func(xs)\n",
        "plt.plot(xs, ys)"
      ],
      "metadata": {
        "colab": {
          "base_uri": "https://localhost:8080/",
          "height": 447
        },
        "id": "bAGnuhEpnUmA",
        "outputId": "0832fa54-193e-454e-c24c-789f1fc8651e"
      },
      "execution_count": 26,
      "outputs": [
        {
          "output_type": "execute_result",
          "data": {
            "text/plain": [
              "[<matplotlib.lines.Line2D at 0x7ba329da2bf0>]"
            ]
          },
          "metadata": {},
          "execution_count": 26
        },
        {
          "output_type": "display_data",
          "data": {
            "text/plain": [
              "<Figure size 640x480 with 1 Axes>"
            ],
            "image/png": "[encoded data removed]"
          },
          "metadata": {}
        }
      ]
    },
    {
      "cell_type": "markdown",
      "source": [
        "###Derivative\n",
        "\n",
        "Let  a∈R\n",
        "  and let  f(x)\n",
        "  be defined on an open interval 6 that contains  a.\n",
        "\n",
        "The derivative of  f(x)\n",
        "  at  x=a\n",
        "  is denoted  f′(a)\n",
        "  and is defined by\n",
        "f′(a)=limh→0f(a+h)−f(a)h\n",
        "\n",
        "if the limit exists.\n",
        "When the above limit exists, the function  f(x)\n",
        "  is said to be differentiable at  x=a.\n",
        "  When the limit does not exist, the function  f(x)\n",
        "  is said to be not differentiable at  x=a.\n",
        "\n",
        "We can equivalently define the derivative  f′(a)\n",
        "  by the limit\n",
        "f′(a)=limx→af(x)−f(a)x−a.\n",
        "\n",
        "To see that these two definitions are the same, we set  x=a+h\n",
        "  and then the limit as  h\n",
        "  goes to  0\n",
        "  is equivalent to the limit as  x\n",
        "  goes to  a."
      ],
      "metadata": {
        "id": "_Cv-_HHfogqC"
      }
    },
    {
      "cell_type": "code",
      "source": [
        "h = 0.0000001\n",
        "x = -2.5\n",
        "(func(x+h)-func(x))/h"
      ],
      "metadata": {
        "colab": {
          "base_uri": "https://localhost:8080/"
        },
        "id": "sTdI0GkVn0HE",
        "outputId": "623d3216-3adb-4406-d172-ecbb5b3c6735"
      },
      "execution_count": 29,
      "outputs": [
        {
          "output_type": "execute_result",
          "data": {
            "text/plain": [
              "-5.99999978589949"
            ]
          },
          "metadata": {},
          "execution_count": 29
        }
      ]
    },
    {
      "cell_type": "code",
      "source": [
        "a = 2.0\n",
        "b = -3.0\n",
        "c = 4.0\n",
        "d = a*b +c\n",
        "print(d)"
      ],
      "metadata": {
        "colab": {
          "base_uri": "https://localhost:8080/"
        },
        "id": "Kn7IaDhzpJDO",
        "outputId": "6b3be4ac-1ccd-4b96-e1d6-9d69410603d8"
      },
      "execution_count": 30,
      "outputs": [
        {
          "output_type": "stream",
          "name": "stdout",
          "text": [
            "-2.0\n"
          ]
        }
      ]
    },
    {
      "cell_type": "code",
      "source": [
        "h = 0.001\n",
        "#inputs\n",
        "a = 2.0\n",
        "b = -3.0\n",
        "c = 4.0\n",
        "\n",
        "d1 = a*b +c\n",
        "a+=h\n",
        "d2 = a*b +c\n",
        "print('d1:', d1)\n",
        "print('d2:', d2)\n",
        "print(\"slope d with respect to a :\" , (d2-d1)/h)"
      ],
      "metadata": {
        "colab": {
          "base_uri": "https://localhost:8080/"
        },
        "id": "xmkqsRfMqfdW",
        "outputId": "348e846f-efa4-49d3-e807-c0391ba40693"
      },
      "execution_count": 33,
      "outputs": [
        {
          "output_type": "stream",
          "name": "stdout",
          "text": [
            "d1: -2.0\n",
            "d2: -2.003\n",
            "slope d with respect to a : -3.0000000000001137\n"
          ]
        }
      ]
    },
    {
      "cell_type": "code",
      "source": [
        "h = 0.001\n",
        "#inputs\n",
        "a = 2.0\n",
        "b = -3.0\n",
        "c = 4.0\n",
        "\n",
        "d1 = a*b +c\n",
        "b+=h\n",
        "d2 = a*b +c\n",
        "print('d1:', d1)\n",
        "print('d2:', d2)\n",
        "print(\"slope d with respect to b :\" , (d2-d1)/h)"
      ],
      "metadata": {
        "colab": {
          "base_uri": "https://localhost:8080/"
        },
        "id": "X_Idi22erKyY",
        "outputId": "502f06e6-3a59-45a4-9971-aee87ec9bbed"
      },
      "execution_count": 34,
      "outputs": [
        {
          "output_type": "stream",
          "name": "stdout",
          "text": [
            "d1: -2.0\n",
            "d2: -1.9980000000000002\n",
            "slope d with respect to b : 1.9999999999997797\n"
          ]
        }
      ]
    },
    {
      "cell_type": "code",
      "source": [
        "h = 0.001\n",
        "#inputs\n",
        "a = 2.0\n",
        "b = -3.0\n",
        "c = 4.0\n",
        "\n",
        "d1 = a*b +c\n",
        "c+=h\n",
        "d2 = a*b +c\n",
        "print('d1:', d1)\n",
        "print('d2:', d2)\n",
        "print(\"slope d with respect to c :\" , (d2-d1)/h)"
      ],
      "metadata": {
        "colab": {
          "base_uri": "https://localhost:8080/"
        },
        "id": "RizSX3wQrw3C",
        "outputId": "79f1b9cb-7b29-4a93-901c-c1639b4fb1e7"
      },
      "execution_count": 35,
      "outputs": [
        {
          "output_type": "stream",
          "name": "stdout",
          "text": [
            "d1: -2.0\n",
            "d2: -1.9989999999999997\n",
            "slope d with respect to c : 1.000000000000334\n"
          ]
        }
      ]
    },
    {
      "cell_type": "markdown",
      "source": [
        "### Need a Data Structure to wrap up the data  in Neural Network\n",
        "Building the core of MicroGrad"
      ],
      "metadata": {
        "id": "K7edvQvTtJPf"
      }
    },
    {
      "cell_type": "code",
      "source": [
        "class Value:\n",
        "  # constructor in python\n",
        "  def __init__(self, data, _children=(), _op=(), label=''):\n",
        "    self.data = data\n",
        "    self._prev = set(_children)\n",
        "    self._op = _op\n",
        "    self.label = label\n",
        "  def __repr__(self):\n",
        "    return f\"Value(data:{self.data})\"\n",
        "  #operator overloading in python\n",
        "  def __add__(self, other):\n",
        "    out = Value(self.data + other.data, (self, other),'+')\n",
        "    return out\n",
        "  def __mul__(self, other):\n",
        "    out = Value(self.data * other.data, (self, other),'*')\n",
        "    return out\n",
        "\n",
        "a= Value(2.0, label='a')\n",
        "b= Value(-3.0, label = 'b')\n",
        "c= Value(-2.31,label ='c')\n",
        "e= a*b\n",
        "e.label='e'\n",
        "d = e + c\n",
        "d.label='d'\n",
        "f = Value( -2.0, label = 'f')\n",
        "L = d+f\n",
        "L.label='L'\n",
        "L"
      ],
      "metadata": {
        "colab": {
          "base_uri": "https://localhost:8080/"
        },
        "id": "6w2EbB4Ir8z7",
        "outputId": "f56cf235-ce8c-446f-f427-1c3cbbbdb751"
      },
      "execution_count": 72,
      "outputs": [
        {
          "output_type": "execute_result",
          "data": {
            "text/plain": [
              "Value(data:-10.31)"
            ]
          },
          "metadata": {},
          "execution_count": 72
        }
      ]
    },
    {
      "cell_type": "code",
      "source": [
        "from graphviz import Digraph\n",
        "\n",
        "def trace(root):\n",
        "  # builds a set of all nodes and edges in a graph\n",
        "  nodes, edges = set(), set()\n",
        "  def build(v):\n",
        "    if v not in nodes:\n",
        "      nodes.add(v)\n",
        "      for child in v._prev:\n",
        "        edges.add((child, v))\n",
        "        build(child)\n",
        "  build(root)\n",
        "  return nodes, edges\n",
        "\n",
        "def draw_dot(root):\n",
        "  dot = Digraph(format='svg', graph_attr={'rankdir': 'LR'}) # LR = left to right\n",
        "\n",
        "  nodes, edges = trace(root)\n",
        "  for n in nodes:\n",
        "    uid = str(id(n))\n",
        "    # for any value in the graph, create a rectangular ('record') node for it\n",
        "    dot.node(name = uid, label = \"{ %s | data %.4f }\" % (n.label , n.data ), shape='record')\n",
        "    if n._op:\n",
        "      # if this value is a result of some operation, create an op node for it\n",
        "      dot.node(name = uid + n._op, label = n._op)\n",
        "      # and connect this node to it\n",
        "      dot.edge(uid + n._op, uid)\n",
        "\n",
        "  for n1, n2 in edges:\n",
        "    # connect n1 to the op node of n2\n",
        "    dot.edge(str(id(n1)), str(id(n2)) + n2._op)\n",
        "\n",
        "  return dot"
      ],
      "metadata": {
        "id": "xdlDXzg5yYOu"
      },
      "execution_count": 73,
      "outputs": []
    },
    {
      "cell_type": "code",
      "source": [
        "draw_dot(L)"
      ],
      "metadata": {
        "colab": {
          "base_uri": "https://localhost:8080/",
          "height": 229
        },
        "id": "n_FaNdGwyyfP",
        "outputId": "f404f2b6-d1d2-44fa-9f17-f7643b5f6cfa"
      },
      "execution_count": 74,
      "outputs": [
        {
          "output_type": "execute_result",
          "data": {
            "image/svg+xml": "<?xml version=\"1.0\" encoding=\"UTF-8\" standalone=\"no\"?>\n<!DOCTYPE svg PUBLIC \"-//W3C//DTD SVG 1.1//EN\"\n \"http://www.w3.org/Graphics/SVG/1.1/DTD/svg11.dtd\">\n<!-- Generated by graphviz version 2.43.0 (0)\n -->\n<!-- Title: %3 Pages: 1 -->\n<svg width=\"827pt\" height=\"156pt\"\n viewBox=\"0.00 0.00 827.00 156.00\" xmlns=\"http://www.w3.org/2000/svg\" xmlns:xlink=\"http://www.w3.org/1999/xlink\">\n<g id=\"graph0\" class=\"graph\" transform=\"scale(1 1) rotate(0) translate(4 152)\">\n<title>%3</title>\n<polygon fill=\"white\" stroke=\"transparent\" points=\"-4,4 -4,-152 823,-152 823,4 -4,4\"/>\n<!-- 135939820216832 -->\n<g id=\"node1\" class=\"node\">\n<title>135939820216832</title>\n<polygon fill=\"none\" stroke=\"black\" points=\"0,-111.5 0,-147.5 108,-147.5 108,-111.5 0,-111.5\"/>\n<text text-anchor=\"middle\" x=\"11.5\" y=\"-125.8\" font-family=\"Times,serif\" font-size=\"14.00\">b</text>\n<polyline fill=\"none\" stroke=\"black\" points=\"23,-111.5 23,-147.5 \"/>\n<text text-anchor=\"middle\" x=\"65.5\" y=\"-125.8\" font-family=\"Times,serif\" font-size=\"14.00\">data &#45;3.0000</text>\n</g>\n<!-- 135939818779168* -->\n<g id=\"node3\" class=\"node\">\n<title>135939818779168*</title>\n<ellipse fill=\"none\" stroke=\"black\" cx=\"171\" cy=\"-101.5\" rx=\"27\" ry=\"18\"/>\n<text text-anchor=\"middle\" x=\"171\" y=\"-97.8\" font-family=\"Times,serif\" font-size=\"14.00\">*</text>\n</g>\n<!-- 135939820216832&#45;&gt;135939818779168* -->\n<g id=\"edge9\" class=\"edge\">\n<title>135939820216832&#45;&gt;135939818779168*</title>\n<path fill=\"none\" stroke=\"black\" d=\"M108.12,-116.57C117.51,-114.28 127.06,-111.95 135.76,-109.84\"/>\n<polygon fill=\"black\" stroke=\"black\" points=\"136.62,-113.23 145.51,-107.46 134.97,-106.43 136.62,-113.23\"/>\n</g>\n<!-- 135939818779168 -->\n<g id=\"node2\" class=\"node\">\n<title>135939818779168</title>\n<polygon fill=\"none\" stroke=\"black\" points=\"234,-83.5 234,-119.5 342,-119.5 342,-83.5 234,-83.5\"/>\n<text text-anchor=\"middle\" x=\"245.5\" y=\"-97.8\" font-family=\"Times,serif\" font-size=\"14.00\">e</text>\n<polyline fill=\"none\" stroke=\"black\" points=\"257,-83.5 257,-119.5 \"/>\n<text text-anchor=\"middle\" x=\"299.5\" y=\"-97.8\" font-family=\"Times,serif\" font-size=\"14.00\">data &#45;6.0000</text>\n</g>\n<!-- 135939818781424+ -->\n<g id=\"node7\" class=\"node\">\n<title>135939818781424+</title>\n<ellipse fill=\"none\" stroke=\"black\" cx=\"405\" cy=\"-73.5\" rx=\"27\" ry=\"18\"/>\n<text text-anchor=\"middle\" x=\"405\" y=\"-69.8\" font-family=\"Times,serif\" font-size=\"14.00\">+</text>\n</g>\n<!-- 135939818779168&#45;&gt;135939818781424+ -->\n<g id=\"edge5\" class=\"edge\">\n<title>135939818779168&#45;&gt;135939818781424+</title>\n<path fill=\"none\" stroke=\"black\" d=\"M342.12,-88.57C351.51,-86.28 361.06,-83.95 369.76,-81.84\"/>\n<polygon fill=\"black\" stroke=\"black\" points=\"370.62,-85.23 379.51,-79.46 368.97,-78.43 370.62,-85.23\"/>\n</g>\n<!-- 135939818779168*&#45;&gt;135939818779168 -->\n<g id=\"edge1\" class=\"edge\">\n<title>135939818779168*&#45;&gt;135939818779168</title>\n<path fill=\"none\" stroke=\"black\" d=\"M198.1,-101.5C205.8,-101.5 214.59,-101.5 223.57,-101.5\"/>\n<polygon fill=\"black\" stroke=\"black\" points=\"223.75,-105 233.75,-101.5 223.75,-98 223.75,-105\"/>\n</g>\n<!-- 135940367805520 -->\n<g id=\"node4\" class=\"node\">\n<title>135940367805520</title>\n<polygon fill=\"none\" stroke=\"black\" points=\"2.5,-56.5 2.5,-92.5 105.5,-92.5 105.5,-56.5 2.5,-56.5\"/>\n<text text-anchor=\"middle\" x=\"14\" y=\"-70.8\" font-family=\"Times,serif\" font-size=\"14.00\">a</text>\n<polyline fill=\"none\" stroke=\"black\" points=\"25.5,-56.5 25.5,-92.5 \"/>\n<text text-anchor=\"middle\" x=\"65.5\" y=\"-70.8\" font-family=\"Times,serif\" font-size=\"14.00\">data 2.0000</text>\n</g>\n<!-- 135940367805520&#45;&gt;135939818779168* -->\n<g id=\"edge8\" class=\"edge\">\n<title>135940367805520&#45;&gt;135939818779168*</title>\n<path fill=\"none\" stroke=\"black\" d=\"M105.78,-86.42C115.74,-88.76 125.98,-91.17 135.28,-93.35\"/>\n<polygon fill=\"black\" stroke=\"black\" points=\"134.77,-96.82 145.3,-95.7 136.37,-90.01 134.77,-96.82\"/>\n</g>\n<!-- 135939818779264 -->\n<g id=\"node5\" class=\"node\">\n<title>135939818779264</title>\n<polygon fill=\"none\" stroke=\"black\" points=\"234,-28.5 234,-64.5 342,-64.5 342,-28.5 234,-28.5\"/>\n<text text-anchor=\"middle\" x=\"245.5\" y=\"-42.8\" font-family=\"Times,serif\" font-size=\"14.00\">c</text>\n<polyline fill=\"none\" stroke=\"black\" points=\"257,-28.5 257,-64.5 \"/>\n<text text-anchor=\"middle\" x=\"299.5\" y=\"-42.8\" font-family=\"Times,serif\" font-size=\"14.00\">data &#45;2.3100</text>\n</g>\n<!-- 135939818779264&#45;&gt;135939818781424+ -->\n<g id=\"edge6\" class=\"edge\">\n<title>135939818779264&#45;&gt;135939818781424+</title>\n<path fill=\"none\" stroke=\"black\" d=\"M342.12,-58.97C351.33,-61.13 360.68,-63.33 369.24,-65.34\"/>\n<polygon fill=\"black\" stroke=\"black\" points=\"368.68,-68.8 379.21,-67.68 370.28,-61.99 368.68,-68.8\"/>\n</g>\n<!-- 135939818781424 -->\n<g id=\"node6\" class=\"node\">\n<title>135939818781424</title>\n<polygon fill=\"none\" stroke=\"black\" points=\"468,-55.5 468,-91.5 576,-91.5 576,-55.5 468,-55.5\"/>\n<text text-anchor=\"middle\" x=\"479.5\" y=\"-69.8\" font-family=\"Times,serif\" font-size=\"14.00\">d</text>\n<polyline fill=\"none\" stroke=\"black\" points=\"491,-55.5 491,-91.5 \"/>\n<text text-anchor=\"middle\" x=\"533.5\" y=\"-69.8\" font-family=\"Times,serif\" font-size=\"14.00\">data &#45;8.3100</text>\n</g>\n<!-- 135939818782096+ -->\n<g id=\"node9\" class=\"node\">\n<title>135939818782096+</title>\n<ellipse fill=\"none\" stroke=\"black\" cx=\"639\" cy=\"-45.5\" rx=\"27\" ry=\"18\"/>\n<text text-anchor=\"middle\" x=\"639\" y=\"-41.8\" font-family=\"Times,serif\" font-size=\"14.00\">+</text>\n</g>\n<!-- 135939818781424&#45;&gt;135939818782096+ -->\n<g id=\"edge4\" class=\"edge\">\n<title>135939818781424&#45;&gt;135939818782096+</title>\n<path fill=\"none\" stroke=\"black\" d=\"M576.12,-60.57C585.51,-58.28 595.06,-55.95 603.76,-53.84\"/>\n<polygon fill=\"black\" stroke=\"black\" points=\"604.62,-57.23 613.51,-51.46 602.97,-50.43 604.62,-57.23\"/>\n</g>\n<!-- 135939818781424+&#45;&gt;135939818781424 -->\n<g id=\"edge2\" class=\"edge\">\n<title>135939818781424+&#45;&gt;135939818781424</title>\n<path fill=\"none\" stroke=\"black\" d=\"M432.1,-73.5C439.8,-73.5 448.59,-73.5 457.57,-73.5\"/>\n<polygon fill=\"black\" stroke=\"black\" points=\"457.75,-77 467.75,-73.5 457.75,-70 457.75,-77\"/>\n</g>\n<!-- 135939818782096 -->\n<g id=\"node8\" class=\"node\">\n<title>135939818782096</title>\n<polygon fill=\"none\" stroke=\"black\" points=\"702,-27.5 702,-63.5 819,-63.5 819,-27.5 702,-27.5\"/>\n<text text-anchor=\"middle\" x=\"714.5\" y=\"-41.8\" font-family=\"Times,serif\" font-size=\"14.00\">L</text>\n<polyline fill=\"none\" stroke=\"black\" points=\"727,-27.5 727,-63.5 \"/>\n<text text-anchor=\"middle\" x=\"773\" y=\"-41.8\" font-family=\"Times,serif\" font-size=\"14.00\">data &#45;10.3100</text>\n</g>\n<!-- 135939818782096+&#45;&gt;135939818782096 -->\n<g id=\"edge3\" class=\"edge\">\n<title>135939818782096+&#45;&gt;135939818782096</title>\n<path fill=\"none\" stroke=\"black\" d=\"M666.22,-45.5C673.91,-45.5 682.69,-45.5 691.73,-45.5\"/>\n<polygon fill=\"black\" stroke=\"black\" points=\"691.98,-49 701.98,-45.5 691.98,-42 691.98,-49\"/>\n</g>\n<!-- 135939818781136 -->\n<g id=\"node10\" class=\"node\">\n<title>135939818781136</title>\n<polygon fill=\"none\" stroke=\"black\" points=\"469,-0.5 469,-36.5 575,-36.5 575,-0.5 469,-0.5\"/>\n<text text-anchor=\"middle\" x=\"479.5\" y=\"-14.8\" font-family=\"Times,serif\" font-size=\"14.00\">f</text>\n<polyline fill=\"none\" stroke=\"black\" points=\"490,-0.5 490,-36.5 \"/>\n<text text-anchor=\"middle\" x=\"532.5\" y=\"-14.8\" font-family=\"Times,serif\" font-size=\"14.00\">data &#45;2.0000</text>\n</g>\n<!-- 135939818781136&#45;&gt;135939818782096+ -->\n<g id=\"edge7\" class=\"edge\">\n<title>135939818781136&#45;&gt;135939818782096+</title>\n<path fill=\"none\" stroke=\"black\" d=\"M575.12,-30.74C584.68,-32.98 594.45,-35.28 603.35,-37.36\"/>\n<polygon fill=\"black\" stroke=\"black\" points=\"602.79,-40.83 613.33,-39.71 604.39,-34.01 602.79,-40.83\"/>\n</g>\n</g>\n</svg>\n",
            "text/plain": [
              "<graphviz.graphs.Digraph at 0x7ba2f49c4850>"
            ]
          },
          "metadata": {},
          "execution_count": 74
        }
      ]
    },
    {
      "cell_type": "code",
      "source": [],
      "metadata": {
        "id": "w6BOeGmB0pPL"
      },
      "execution_count": null,
      "outputs": []
    }
  ]
}